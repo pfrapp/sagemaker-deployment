{
 "cells": [
  {
   "cell_type": "markdown",
   "metadata": {},
   "source": [
    "# Sentiment Analysis Web App\n",
    "\n",
    "_Deep Learning Nanodegree Program | Deployment_\n",
    "\n",
    "---\n",
    "\n",
    "In this notebook we will use Amazon's SageMaker service to construct a random tree model to predict the sentiment of a movie review. In addition, we will deploy this model to an endpoint and construct a very simple web app which will interact with our model's deployed endpoint.\n",
    "\n",
    "## General Outline\n",
    "\n",
    "Typically, when using a notebook instance with SageMaker, you will proceed through the following steps. Of course, not every step will need to be done with each project. Also, there is quite a lot of room for variation in many of the steps, as you will see throughout these lessons.\n",
    "\n",
    "1. Download or otherwise retrieve the data.\n",
    "2. Process / Prepare the data.\n",
    "3. Upload the processed data to S3.\n",
    "4. Train a chosen model.\n",
    "5. Test the trained model (typically using a batch transform job).\n",
    "6. Deploy the trained model.\n",
    "7. Use the deployed model.\n",
    "\n",
    "In this notebook we will progress through each of the steps above. We will also see that the final step, using the deployed model, can be quite challenging."
   ]
  },
  {
   "cell_type": "code",
   "execution_count": 1,
   "metadata": {},
   "outputs": [
    {
     "name": "stdout",
     "output_type": "stream",
     "text": [
      "Collecting sagemaker==1.72.0\n",
      "  Downloading sagemaker-1.72.0.tar.gz (297 kB)\n",
      "     |████████████████████████████████| 297 kB 30.9 MB/s            \n",
      "\u001b[?25h  Preparing metadata (setup.py) ... \u001b[?25ldone\n",
      "\u001b[?25hRequirement already satisfied: boto3>=1.14.12 in /home/ec2-user/anaconda3/envs/python3/lib/python3.6/site-packages (from sagemaker==1.72.0) (1.20.25)\n",
      "Requirement already satisfied: numpy>=1.9.0 in /home/ec2-user/anaconda3/envs/python3/lib/python3.6/site-packages (from sagemaker==1.72.0) (1.19.5)\n",
      "Requirement already satisfied: protobuf>=3.1 in /home/ec2-user/anaconda3/envs/python3/lib/python3.6/site-packages (from sagemaker==1.72.0) (3.15.2)\n",
      "Requirement already satisfied: scipy>=0.19.0 in /home/ec2-user/anaconda3/envs/python3/lib/python3.6/site-packages (from sagemaker==1.72.0) (1.5.3)\n",
      "Requirement already satisfied: protobuf3-to-dict>=0.1.5 in /home/ec2-user/anaconda3/envs/python3/lib/python3.6/site-packages (from sagemaker==1.72.0) (0.1.5)\n",
      "Collecting smdebug-rulesconfig==0.1.4\n",
      "  Downloading smdebug_rulesconfig-0.1.4-py2.py3-none-any.whl (10 kB)\n",
      "Requirement already satisfied: importlib-metadata>=1.4.0 in /home/ec2-user/anaconda3/envs/python3/lib/python3.6/site-packages (from sagemaker==1.72.0) (3.7.0)\n",
      "Requirement already satisfied: packaging>=20.0 in /home/ec2-user/anaconda3/envs/python3/lib/python3.6/site-packages (from sagemaker==1.72.0) (21.3)\n",
      "Requirement already satisfied: jmespath<1.0.0,>=0.7.1 in /home/ec2-user/anaconda3/envs/python3/lib/python3.6/site-packages (from boto3>=1.14.12->sagemaker==1.72.0) (0.10.0)\n",
      "Requirement already satisfied: botocore<1.24.0,>=1.23.25 in /home/ec2-user/anaconda3/envs/python3/lib/python3.6/site-packages (from boto3>=1.14.12->sagemaker==1.72.0) (1.23.25)\n",
      "Requirement already satisfied: s3transfer<0.6.0,>=0.5.0 in /home/ec2-user/anaconda3/envs/python3/lib/python3.6/site-packages (from boto3>=1.14.12->sagemaker==1.72.0) (0.5.0)\n",
      "Requirement already satisfied: zipp>=0.5 in /home/ec2-user/anaconda3/envs/python3/lib/python3.6/site-packages (from importlib-metadata>=1.4.0->sagemaker==1.72.0) (3.4.0)\n",
      "Requirement already satisfied: typing-extensions>=3.6.4 in /home/ec2-user/anaconda3/envs/python3/lib/python3.6/site-packages (from importlib-metadata>=1.4.0->sagemaker==1.72.0) (4.0.1)\n",
      "Requirement already satisfied: pyparsing!=3.0.5,>=2.0.2 in /home/ec2-user/anaconda3/envs/python3/lib/python3.6/site-packages (from packaging>=20.0->sagemaker==1.72.0) (2.4.7)\n",
      "Requirement already satisfied: six>=1.9 in /home/ec2-user/anaconda3/envs/python3/lib/python3.6/site-packages (from protobuf>=3.1->sagemaker==1.72.0) (1.15.0)\n",
      "Requirement already satisfied: python-dateutil<3.0.0,>=2.1 in /home/ec2-user/anaconda3/envs/python3/lib/python3.6/site-packages (from botocore<1.24.0,>=1.23.25->boto3>=1.14.12->sagemaker==1.72.0) (2.8.1)\n",
      "Requirement already satisfied: urllib3<1.27,>=1.25.4 in /home/ec2-user/anaconda3/envs/python3/lib/python3.6/site-packages (from botocore<1.24.0,>=1.23.25->boto3>=1.14.12->sagemaker==1.72.0) (1.26.7)\n",
      "Building wheels for collected packages: sagemaker\n",
      "  Building wheel for sagemaker (setup.py) ... \u001b[?25ldone\n",
      "\u001b[?25h  Created wheel for sagemaker: filename=sagemaker-1.72.0-py2.py3-none-any.whl size=386358 sha256=4b6813e2aea2b95ab213c2902f337923840c47792002d1bef923ea5b284f0469\n",
      "  Stored in directory: /home/ec2-user/.cache/pip/wheels/c3/58/70/85faf4437568bfaa4c419937569ba1fe54d44c5db42406bbd7\n",
      "Successfully built sagemaker\n",
      "Installing collected packages: smdebug-rulesconfig, sagemaker\n",
      "  Attempting uninstall: smdebug-rulesconfig\n",
      "    Found existing installation: smdebug-rulesconfig 1.0.1\n",
      "    Uninstalling smdebug-rulesconfig-1.0.1:\n",
      "      Successfully uninstalled smdebug-rulesconfig-1.0.1\n",
      "  Attempting uninstall: sagemaker\n",
      "    Found existing installation: sagemaker 2.72.1\n",
      "    Uninstalling sagemaker-2.72.1:\n",
      "      Successfully uninstalled sagemaker-2.72.1\n",
      "Successfully installed sagemaker-1.72.0 smdebug-rulesconfig-0.1.4\n"
     ]
    }
   ],
   "source": [
    "# Make sure that we use SageMaker 1.x\n",
    "!pip install sagemaker==1.72.0"
   ]
  },
  {
   "cell_type": "markdown",
   "metadata": {},
   "source": [
    "## Step 1: Downloading the data\n",
    "\n",
    "The dataset we are going to use is very popular among researchers in Natural Language Processing, usually referred to as the [IMDb dataset](http://ai.stanford.edu/~amaas/data/sentiment/). It consists of movie reviews from the website [imdb.com](http://www.imdb.com/), each labeled as either '**pos**itive', if the reviewer enjoyed the film, or '**neg**ative' otherwise.\n",
    "\n",
    "> Maas, Andrew L., et al. [Learning Word Vectors for Sentiment Analysis](http://ai.stanford.edu/~amaas/data/sentiment/). In _Proceedings of the 49th Annual Meeting of the Association for Computational Linguistics: Human Language Technologies_. Association for Computational Linguistics, 2011.\n",
    "\n",
    "We begin by using some Jupyter Notebook magic to download and extract the dataset."
   ]
  },
  {
   "cell_type": "code",
   "execution_count": 2,
   "metadata": {},
   "outputs": [
    {
     "name": "stdout",
     "output_type": "stream",
     "text": [
      "mkdir: cannot create directory ‘../data’: File exists\n",
      "--2022-01-30 17:44:41--  http://ai.stanford.edu/~amaas/data/sentiment/aclImdb_v1.tar.gz\n",
      "Resolving ai.stanford.edu (ai.stanford.edu)... 171.64.68.10\n",
      "Connecting to ai.stanford.edu (ai.stanford.edu)|171.64.68.10|:80... connected.\n",
      "HTTP request sent, awaiting response... 200 OK\n",
      "Length: 84125825 (80M) [application/x-gzip]\n",
      "Saving to: ‘../data/aclImdb_v1.tar.gz’\n",
      "\n",
      "../data/aclImdb_v1. 100%[===================>]  80.23M  23.8MB/s    in 4.5s    \n",
      "\n",
      "2022-01-30 17:44:46 (17.7 MB/s) - ‘../data/aclImdb_v1.tar.gz’ saved [84125825/84125825]\n",
      "\n"
     ]
    }
   ],
   "source": [
    "%mkdir ../data\n",
    "!wget -O ../data/aclImdb_v1.tar.gz http://ai.stanford.edu/~amaas/data/sentiment/aclImdb_v1.tar.gz\n",
    "!tar -zxf ../data/aclImdb_v1.tar.gz -C ../data"
   ]
  },
  {
   "cell_type": "markdown",
   "metadata": {},
   "source": [
    "## Step 2: Preparing and Processing the data\n",
    "\n",
    "The data we have downloaded is split into various files, each of which contains a single review. It will be much easier going forward if we combine these individual files into two large files, one for training and one for testing."
   ]
  },
  {
   "cell_type": "code",
   "execution_count": 3,
   "metadata": {},
   "outputs": [],
   "source": [
    "import os\n",
    "import glob\n",
    "\n",
    "def read_imdb_data(data_dir='../data/aclImdb'):\n",
    "    data = {}\n",
    "    labels = {}\n",
    "    \n",
    "    for data_type in ['train', 'test']:\n",
    "        data[data_type] = {}\n",
    "        labels[data_type] = {}\n",
    "        \n",
    "        for sentiment in ['pos', 'neg']:\n",
    "            data[data_type][sentiment] = []\n",
    "            labels[data_type][sentiment] = []\n",
    "            \n",
    "            path = os.path.join(data_dir, data_type, sentiment, '*.txt')\n",
    "            files = glob.glob(path)\n",
    "            \n",
    "            for f in files:\n",
    "                with open(f) as review:\n",
    "                    data[data_type][sentiment].append(review.read())\n",
    "                    # Here we represent a positive review by '1' and a negative review by '0'\n",
    "                    labels[data_type][sentiment].append(1 if sentiment == 'pos' else 0)\n",
    "                    \n",
    "            assert len(data[data_type][sentiment]) == len(labels[data_type][sentiment]), \\\n",
    "                    \"{}/{} data size does not match labels size\".format(data_type, sentiment)\n",
    "                \n",
    "    return data, labels"
   ]
  },
  {
   "cell_type": "code",
   "execution_count": 4,
   "metadata": {},
   "outputs": [
    {
     "name": "stdout",
     "output_type": "stream",
     "text": [
      "IMDB reviews: train = 12500 pos / 12500 neg, test = 12500 pos / 12500 neg\n"
     ]
    }
   ],
   "source": [
    "data, labels = read_imdb_data()\n",
    "print(\"IMDB reviews: train = {} pos / {} neg, test = {} pos / {} neg\".format(\n",
    "            len(data['train']['pos']), len(data['train']['neg']),\n",
    "            len(data['test']['pos']), len(data['test']['neg'])))"
   ]
  },
  {
   "cell_type": "code",
   "execution_count": 5,
   "metadata": {},
   "outputs": [],
   "source": [
    "from sklearn.utils import shuffle\n",
    "\n",
    "def prepare_imdb_data(data, labels):\n",
    "    \"\"\"Prepare training and test sets from IMDb movie reviews.\"\"\"\n",
    "    \n",
    "    #Combine positive and negative reviews and labels\n",
    "    data_train = data['train']['pos'] + data['train']['neg']\n",
    "    data_test = data['test']['pos'] + data['test']['neg']\n",
    "    labels_train = labels['train']['pos'] + labels['train']['neg']\n",
    "    labels_test = labels['test']['pos'] + labels['test']['neg']\n",
    "    \n",
    "    #Shuffle reviews and corresponding labels within training and test sets\n",
    "    data_train, labels_train = shuffle(data_train, labels_train)\n",
    "    data_test, labels_test = shuffle(data_test, labels_test)\n",
    "    \n",
    "    # Return a unified training data, test data, training labels, test labets\n",
    "    return data_train, data_test, labels_train, labels_test"
   ]
  },
  {
   "cell_type": "code",
   "execution_count": 6,
   "metadata": {},
   "outputs": [
    {
     "name": "stdout",
     "output_type": "stream",
     "text": [
      "IMDb reviews (combined): train = 25000, test = 25000\n"
     ]
    }
   ],
   "source": [
    "train_X, test_X, train_y, test_y = prepare_imdb_data(data, labels)\n",
    "print(\"IMDb reviews (combined): train = {}, test = {}\".format(len(train_X), len(test_X)))"
   ]
  },
  {
   "cell_type": "code",
   "execution_count": 7,
   "metadata": {},
   "outputs": [
    {
     "data": {
      "text/plain": [
       "\"This movie has some fatal flaws in it, how someone could walk through an open back door of a highly secure medical facility is unbelievable. Then this same person just walks around the facility and enters the Dr.'s office, is just bad writing or bad editing. <br /><br />Very very very predictable movie. <br /><br />I am not sure how this film got made, except it is was filmed in Canada, and probably received a government grant. <br /><br />I must say the person playing Aaron, Cory Monteith, did a good job.<br /><br />Unless you are really bored and there is nothing else to watch on television then I would say it will kill some time, but otherwise, it is a movie no actor would want on their resume.\""
      ]
     },
     "execution_count": 7,
     "metadata": {},
     "output_type": "execute_result"
    }
   ],
   "source": [
    "train_X[100]"
   ]
  },
  {
   "cell_type": "markdown",
   "metadata": {},
   "source": [
    "## Processing the data\n",
    "\n",
    "Now that we have our training and testing datasets merged and ready to use, we need to start processing the raw data into something that will be useable by our machine learning algorithm. To begin with, we remove any html formatting and any non-alpha numeric characters that may appear in the reviews. We will do this in a very simplistic way using Python's regular expression module. We will discuss the reason for this rather simplistic pre-processing later on."
   ]
  },
  {
   "cell_type": "code",
   "execution_count": 8,
   "metadata": {},
   "outputs": [],
   "source": [
    "import re\n",
    "\n",
    "REPLACE_NO_SPACE = re.compile(\"(\\.)|(\\;)|(\\:)|(\\!)|(\\')|(\\?)|(\\,)|(\\\")|(\\()|(\\))|(\\[)|(\\])\")\n",
    "REPLACE_WITH_SPACE = re.compile(\"(<br\\s*/><br\\s*/>)|(\\-)|(\\/)\")\n",
    "\n",
    "def review_to_words(review):\n",
    "    words = REPLACE_NO_SPACE.sub(\"\", review.lower())\n",
    "    words = REPLACE_WITH_SPACE.sub(\" \", words)\n",
    "    return words"
   ]
  },
  {
   "cell_type": "code",
   "execution_count": 9,
   "metadata": {},
   "outputs": [
    {
     "data": {
      "text/plain": [
       "'this movie has some fatal flaws in it how someone could walk through an open back door of a highly secure medical facility is unbelievable then this same person just walks around the facility and enters the drs office is just bad writing or bad editing  very very very predictable movie  i am not sure how this film got made except it is was filmed in canada and probably received a government grant  i must say the person playing aaron cory monteith did a good job unless you are really bored and there is nothing else to watch on television then i would say it will kill some time but otherwise it is a movie no actor would want on their resume'"
      ]
     },
     "execution_count": 9,
     "metadata": {},
     "output_type": "execute_result"
    }
   ],
   "source": [
    "review_to_words(train_X[100])"
   ]
  },
  {
   "cell_type": "code",
   "execution_count": 10,
   "metadata": {},
   "outputs": [],
   "source": [
    "import pickle\n",
    "\n",
    "cache_dir = os.path.join(\"../cache\", \"sentiment_web_app\")  # where to store cache files\n",
    "os.makedirs(cache_dir, exist_ok=True)  # ensure cache directory exists\n",
    "\n",
    "def preprocess_data(data_train, data_test, labels_train, labels_test,\n",
    "                    cache_dir=cache_dir, cache_file=\"preprocessed_data.pkl\"):\n",
    "    \"\"\"Convert each review to words; read from cache if available.\"\"\"\n",
    "\n",
    "    # If cache_file is not None, try to read from it first\n",
    "    cache_data = None\n",
    "    if cache_file is not None:\n",
    "        try:\n",
    "            with open(os.path.join(cache_dir, cache_file), \"rb\") as f:\n",
    "                cache_data = pickle.load(f)\n",
    "            print(\"Read preprocessed data from cache file:\", cache_file)\n",
    "        except:\n",
    "            pass  # unable to read from cache, but that's okay\n",
    "    \n",
    "    # If cache is missing, then do the heavy lifting\n",
    "    if cache_data is None:\n",
    "        # Preprocess training and test data to obtain words for each review\n",
    "        #words_train = list(map(review_to_words, data_train))\n",
    "        #words_test = list(map(review_to_words, data_test))\n",
    "        words_train = [review_to_words(review) for review in data_train]\n",
    "        words_test = [review_to_words(review) for review in data_test]\n",
    "        \n",
    "        # Write to cache file for future runs\n",
    "        if cache_file is not None:\n",
    "            cache_data = dict(words_train=words_train, words_test=words_test,\n",
    "                              labels_train=labels_train, labels_test=labels_test)\n",
    "            with open(os.path.join(cache_dir, cache_file), \"wb\") as f:\n",
    "                pickle.dump(cache_data, f)\n",
    "            print(\"Wrote preprocessed data to cache file:\", cache_file)\n",
    "    else:\n",
    "        # Unpack data loaded from cache file\n",
    "        words_train, words_test, labels_train, labels_test = (cache_data['words_train'],\n",
    "                cache_data['words_test'], cache_data['labels_train'], cache_data['labels_test'])\n",
    "    \n",
    "    return words_train, words_test, labels_train, labels_test"
   ]
  },
  {
   "cell_type": "code",
   "execution_count": 11,
   "metadata": {},
   "outputs": [
    {
     "name": "stdout",
     "output_type": "stream",
     "text": [
      "Read preprocessed data from cache file: preprocessed_data.pkl\n"
     ]
    }
   ],
   "source": [
    "# Preprocess data\n",
    "train_X, test_X, train_y, test_y = preprocess_data(train_X, test_X, train_y, test_y)"
   ]
  },
  {
   "cell_type": "markdown",
   "metadata": {},
   "source": [
    "### Extract Bag-of-Words features\n",
    "\n",
    "For the model we will be implementing, rather than using the reviews directly, we are going to transform each review into a Bag-of-Words feature representation. Keep in mind that 'in the wild' we will only have access to the training set so our transformer can only use the training set to construct a representation."
   ]
  },
  {
   "cell_type": "code",
   "execution_count": 12,
   "metadata": {},
   "outputs": [],
   "source": [
    "import numpy as np\n",
    "from sklearn.feature_extraction.text import CountVectorizer\n",
    "\n",
    "# sklearn.externals.joblib is deprecated in 0.21 and will be removed in 0.23. \n",
    "# from sklearn.externals import joblib\n",
    "\n",
    "# Import joblib package directly\n",
    "import joblib\n",
    "# joblib is an enhanced version of pickle that is more efficient for storing NumPy arrays\n",
    "\n",
    "def extract_BoW_features(words_train, words_test, vocabulary_size=5000,\n",
    "                         cache_dir=cache_dir, cache_file=\"bow_features.pkl\"):\n",
    "    \"\"\"Extract Bag-of-Words for a given set of documents, already preprocessed into words.\"\"\"\n",
    "    \n",
    "    # If cache_file is not None, try to read from it first\n",
    "    cache_data = None\n",
    "    if cache_file is not None:\n",
    "        try:\n",
    "            with open(os.path.join(cache_dir, cache_file), \"rb\") as f:\n",
    "                cache_data = joblib.load(f)\n",
    "            print(\"Read features from cache file:\", cache_file)\n",
    "        except:\n",
    "            pass  # unable to read from cache, but that's okay\n",
    "    \n",
    "    # If cache is missing, then do the heavy lifting\n",
    "    if cache_data is None:\n",
    "        # Fit a vectorizer to training documents and use it to transform them\n",
    "        # NOTE: Training documents have already been preprocessed and tokenized into words;\n",
    "        #       pass in dummy functions to skip those steps, e.g. preprocessor=lambda x: x\n",
    "        vectorizer = CountVectorizer(max_features=vocabulary_size)\n",
    "        features_train = vectorizer.fit_transform(words_train).toarray()\n",
    "\n",
    "        # Apply the same vectorizer to transform the test documents (ignore unknown words)\n",
    "        features_test = vectorizer.transform(words_test).toarray()\n",
    "        \n",
    "        # NOTE: Remember to convert the features using .toarray() for a compact representation\n",
    "        \n",
    "        # Write to cache file for future runs (store vocabulary as well)\n",
    "        if cache_file is not None:\n",
    "            vocabulary = vectorizer.vocabulary_\n",
    "            cache_data = dict(features_train=features_train, features_test=features_test,\n",
    "                             vocabulary=vocabulary)\n",
    "            with open(os.path.join(cache_dir, cache_file), \"wb\") as f:\n",
    "                joblib.dump(cache_data, f)\n",
    "            print(\"Wrote features to cache file:\", cache_file)\n",
    "    else:\n",
    "        # Unpack data loaded from cache file\n",
    "        features_train, features_test, vocabulary = (cache_data['features_train'],\n",
    "                cache_data['features_test'], cache_data['vocabulary'])\n",
    "    \n",
    "    # Return both the extracted features as well as the vocabulary\n",
    "    return features_train, features_test, vocabulary"
   ]
  },
  {
   "cell_type": "code",
   "execution_count": 13,
   "metadata": {},
   "outputs": [
    {
     "name": "stdout",
     "output_type": "stream",
     "text": [
      "Read features from cache file: bow_features.pkl\n"
     ]
    }
   ],
   "source": [
    "# Extract Bag of Words features for both training and test datasets\n",
    "train_X, test_X, vocabulary = extract_BoW_features(train_X, test_X)"
   ]
  },
  {
   "cell_type": "code",
   "execution_count": 14,
   "metadata": {},
   "outputs": [
    {
     "data": {
      "text/plain": [
       "5000"
      ]
     },
     "execution_count": 14,
     "metadata": {},
     "output_type": "execute_result"
    }
   ],
   "source": [
    "len(train_X[100])"
   ]
  },
  {
   "cell_type": "markdown",
   "metadata": {},
   "source": [
    "## Step 3: Upload data to S3\n",
    "\n",
    "Now that we have created the feature representation of our training (and testing) data, it is time to start setting up and using the XGBoost classifier provided by SageMaker.\n",
    "\n",
    "### Writing the datasets\n",
    "\n",
    "The XGBoost classifier that we will be using requires the dataset to be written to a file and stored using Amazon S3. To do this, we will start by splitting the training dataset into two parts, the data we will train the model with and a validation set. Then, we will write those datasets to a file locally and then upload the files to S3. In addition, we will write the test set to a file and upload that file to S3. This is so that we can use SageMakers Batch Transform functionality to test our model once we've fit it."
   ]
  },
  {
   "cell_type": "code",
   "execution_count": 15,
   "metadata": {},
   "outputs": [],
   "source": [
    "import pandas as pd\n",
    "\n",
    "# Earlier we shuffled the training dataset so to make things simple we can just assign\n",
    "# the first 10 000 reviews to the validation set and use the remaining reviews for training.\n",
    "val_X = pd.DataFrame(train_X[:10000])\n",
    "train_X = pd.DataFrame(train_X[10000:])\n",
    "\n",
    "val_y = pd.DataFrame(train_y[:10000])\n",
    "train_y = pd.DataFrame(train_y[10000:])"
   ]
  },
  {
   "cell_type": "markdown",
   "metadata": {},
   "source": [
    "The documentation for the XGBoost algorithm in SageMaker requires that the training and validation datasets should contain no headers or index and that the label should occur first for each sample.\n",
    "\n",
    "For more information about this and other algorithms, the SageMaker developer documentation can be found on __[Amazon's website.](https://docs.aws.amazon.com/sagemaker/latest/dg/)__"
   ]
  },
  {
   "cell_type": "code",
   "execution_count": 16,
   "metadata": {},
   "outputs": [],
   "source": [
    "# First we make sure that the local directory in which we'd like to store the training and validation csv files exists.\n",
    "data_dir = '../data/sentiment_web_app'\n",
    "if not os.path.exists(data_dir):\n",
    "    os.makedirs(data_dir)"
   ]
  },
  {
   "cell_type": "code",
   "execution_count": 17,
   "metadata": {},
   "outputs": [],
   "source": [
    "pd.DataFrame(test_X).to_csv(os.path.join(data_dir, 'test.csv'), header=False, index=False)\n",
    "\n",
    "pd.concat([val_y, val_X], axis=1).to_csv(os.path.join(data_dir, 'validation.csv'), header=False, index=False)\n",
    "pd.concat([train_y, train_X], axis=1).to_csv(os.path.join(data_dir, 'train.csv'), header=False, index=False)"
   ]
  },
  {
   "cell_type": "code",
   "execution_count": 18,
   "metadata": {},
   "outputs": [],
   "source": [
    "# To save a bit of memory we can set text_X, train_X, val_X, train_y and val_y to None.\n",
    "\n",
    "test_X = train_X = val_X = train_y = val_y = None"
   ]
  },
  {
   "cell_type": "markdown",
   "metadata": {},
   "source": [
    "### Uploading Training / Validation files to S3\n",
    "\n",
    "Amazon's S3 service allows us to store files that can be accessed by both the built-in training models such as the XGBoost model we will be using as well as custom models such as the one we will see a little later.\n",
    "\n",
    "For this and most other tasks we will be doing using SageMaker, there are two methods we could use. The first is to use the low level functionality of SageMaker which requires knowing each of the objects involved in the SageMaker environment. The second is to use the high level functionality in which certain choices have been made on the user's behalf. The low level approach benefits from allowing the user a great deal of flexibility while the high level approach makes development much quicker. For our purposes we will opt to use the high level approach although using the low-level approach is certainly an option.\n",
    "\n",
    "Recall the method `upload_data()` which is a member of the object representing our current SageMaker session. What this method does is upload the data to the default bucket (which is created if it does not exist) into the path described by the key_prefix variable. To see this for yourself, once you have uploaded the data files, go to the S3 console and look to see where the files have been uploaded.\n",
    "\n",
    "For additional resources, see the __[SageMaker API documentation](http://sagemaker.readthedocs.io/en/latest/)__ and in addition the __[SageMaker Developer Guide.](https://docs.aws.amazon.com/sagemaker/latest/dg/)__"
   ]
  },
  {
   "cell_type": "code",
   "execution_count": 19,
   "metadata": {},
   "outputs": [],
   "source": [
    "import sagemaker\n",
    "\n",
    "session = sagemaker.Session() # Store the current SageMaker session\n",
    "\n",
    "# S3 prefix (which folder will we use)\n",
    "prefix = 'sentiment-web-app'\n",
    "\n",
    "test_location = session.upload_data(os.path.join(data_dir, 'test.csv'), key_prefix=prefix)\n",
    "val_location = session.upload_data(os.path.join(data_dir, 'validation.csv'), key_prefix=prefix)\n",
    "train_location = session.upload_data(os.path.join(data_dir, 'train.csv'), key_prefix=prefix)"
   ]
  },
  {
   "cell_type": "markdown",
   "metadata": {},
   "source": [
    "## Step 4: Creating the XGBoost model\n",
    "\n",
    "Now that the data has been uploaded it is time to create the XGBoost model. To begin with, we need to do some setup. At this point it is worth discussing what a model is in SageMaker. It is easiest to think of a model of comprising three different objects in the SageMaker ecosystem, which interact with one another.\n",
    "\n",
    "- Model Artifacts\n",
    "- Training Code (Container)\n",
    "- Inference Code (Container)\n",
    "\n",
    "The Model Artifacts are what you might think of as the actual model itself. For example, if you were building a neural network, the model artifacts would be the weights of the various layers. In our case, for an XGBoost model, the artifacts are the actual trees that are created during training.\n",
    "\n",
    "The other two objects, the training code and the inference code are then used to manipulate the training artifacts. More precisely, the training code uses the training data that is provided and creates the model artifacts, while the inference code uses the model artifacts to make predictions on new data.\n",
    "\n",
    "The way that SageMaker runs the training and inference code is by making use of Docker containers. For now, think of a container as being a way of packaging code up so that dependencies aren't an issue."
   ]
  },
  {
   "cell_type": "code",
   "execution_count": 20,
   "metadata": {},
   "outputs": [],
   "source": [
    "from sagemaker import get_execution_role\n",
    "\n",
    "# Our current execution role is required when creating the model as the training\n",
    "# and inference code will need to access the model artifacts.\n",
    "role = get_execution_role()"
   ]
  },
  {
   "cell_type": "code",
   "execution_count": 21,
   "metadata": {},
   "outputs": [
    {
     "name": "stderr",
     "output_type": "stream",
     "text": [
      "'get_image_uri' method will be deprecated in favor of 'ImageURIProvider' class in SageMaker Python SDK v2.\n",
      "There is a more up to date SageMaker XGBoost image. To use the newer image, please set 'repo_version'='1.0-1'. For example:\n",
      "\tget_image_uri(region, 'xgboost', '1.0-1').\n"
     ]
    }
   ],
   "source": [
    "# We need to retrieve the location of the container which is provided by Amazon for using XGBoost.\n",
    "# As a matter of convenience, the training and inference code both use the same container.\n",
    "from sagemaker.amazon.amazon_estimator import get_image_uri\n",
    "\n",
    "container = get_image_uri(session.boto_region_name, 'xgboost')"
   ]
  },
  {
   "cell_type": "code",
   "execution_count": 22,
   "metadata": {},
   "outputs": [
    {
     "name": "stderr",
     "output_type": "stream",
     "text": [
      "Parameter image_name will be renamed to image_uri in SageMaker Python SDK v2.\n"
     ]
    }
   ],
   "source": [
    "# First we create a SageMaker estimator object for our model.\n",
    "xgb = sagemaker.estimator.Estimator(container, # The location of the container we wish to use\n",
    "                                    role,                                    # What is our current IAM Role\n",
    "                                    train_instance_count=1,                  # How many compute instances\n",
    "                                    train_instance_type='ml.m4.xlarge',      # What kind of compute instances\n",
    "                                    output_path='s3://{}/{}/output'.format(session.default_bucket(), prefix),\n",
    "                                    sagemaker_session=session)\n",
    "\n",
    "# And then set the algorithm specific parameters.\n",
    "xgb.set_hyperparameters(max_depth=5,\n",
    "                        eta=0.2,\n",
    "                        gamma=4,\n",
    "                        min_child_weight=6,\n",
    "                        subsample=0.8,\n",
    "                        silent=0,\n",
    "                        objective='binary:logistic',\n",
    "                        early_stopping_rounds=10,\n",
    "                        num_round=500)"
   ]
  },
  {
   "cell_type": "markdown",
   "metadata": {},
   "source": [
    "### Fit the XGBoost model\n",
    "\n",
    "Now that our model has been set up we simply need to attach the training and validation datasets and then ask SageMaker to set up the computation."
   ]
  },
  {
   "cell_type": "code",
   "execution_count": 23,
   "metadata": {},
   "outputs": [
    {
     "name": "stderr",
     "output_type": "stream",
     "text": [
      "'s3_input' class will be renamed to 'TrainingInput' in SageMaker Python SDK v2.\n",
      "'s3_input' class will be renamed to 'TrainingInput' in SageMaker Python SDK v2.\n"
     ]
    }
   ],
   "source": [
    "s3_input_train = sagemaker.s3_input(s3_data=train_location, content_type='csv')\n",
    "s3_input_validation = sagemaker.s3_input(s3_data=val_location, content_type='csv')"
   ]
  },
  {
   "cell_type": "code",
   "execution_count": 24,
   "metadata": {},
   "outputs": [
    {
     "name": "stdout",
     "output_type": "stream",
     "text": [
      "2022-01-30 17:47:43 Starting - Starting the training job...\n",
      "2022-01-30 17:47:46 Starting - Launching requested ML instances......\n",
      "2022-01-30 17:48:59 Starting - Preparing the instances for training.........\n",
      "2022-01-30 17:50:35 Downloading - Downloading input data\n",
      "2022-01-30 17:50:35 Training - Downloading the training image...\n",
      "2022-01-30 17:51:01 Training - Training image download completed. Training in progress.\u001b[34mArguments: train\u001b[0m\n",
      "\u001b[34m[2022-01-30:17:51:01:INFO] Running standalone xgboost training.\u001b[0m\n",
      "\u001b[34m[2022-01-30:17:51:01:INFO] File size need to be processed in the node: 238.5mb. Available memory size in the node: 8376.18mb\u001b[0m\n",
      "\u001b[34m[2022-01-30:17:51:01:INFO] Determined delimiter of CSV input is ','\u001b[0m\n",
      "\u001b[34m[17:51:01] S3DistributionType set as FullyReplicated\u001b[0m\n",
      "\u001b[34m[17:51:04] 15000x5000 matrix with 75000000 entries loaded from /opt/ml/input/data/train?format=csv&label_column=0&delimiter=,\u001b[0m\n",
      "\u001b[34m[2022-01-30:17:51:04:INFO] Determined delimiter of CSV input is ','\u001b[0m\n",
      "\u001b[34m[17:51:04] S3DistributionType set as FullyReplicated\u001b[0m\n",
      "\u001b[34m[17:51:05] 10000x5000 matrix with 50000000 entries loaded from /opt/ml/input/data/validation?format=csv&label_column=0&delimiter=,\u001b[0m\n",
      "\u001b[34m[17:51:09] src/tree/updater_prune.cc:74: tree pruning end, 1 roots, 40 extra nodes, 8 pruned nodes, max_depth=5\u001b[0m\n",
      "\u001b[34m[0]#011train-error:0.3018#011validation-error:0.308\u001b[0m\n",
      "\u001b[34mMultiple eval metrics have been passed: 'validation-error' will be used for early stopping.\u001b[0m\n",
      "\u001b[34mWill train until validation-error hasn't improved in 10 rounds.\u001b[0m\n",
      "\u001b[34m[17:51:10] src/tree/updater_prune.cc:74: tree pruning end, 1 roots, 42 extra nodes, 10 pruned nodes, max_depth=5\u001b[0m\n",
      "\u001b[34m[1]#011train-error:0.288067#011validation-error:0.297\u001b[0m\n",
      "\u001b[34m[17:51:11] src/tree/updater_prune.cc:74: tree pruning end, 1 roots, 44 extra nodes, 4 pruned nodes, max_depth=5\u001b[0m\n",
      "\u001b[34m[2]#011train-error:0.289467#011validation-error:0.2949\u001b[0m\n",
      "\u001b[34m[17:51:13] src/tree/updater_prune.cc:74: tree pruning end, 1 roots, 44 extra nodes, 2 pruned nodes, max_depth=5\u001b[0m\n",
      "\u001b[34m[3]#011train-error:0.266533#011validation-error:0.2747\u001b[0m\n",
      "\u001b[34m[17:51:15] src/tree/updater_prune.cc:74: tree pruning end, 1 roots, 40 extra nodes, 2 pruned nodes, max_depth=5\u001b[0m\n",
      "\u001b[34m[4]#011train-error:0.261533#011validation-error:0.2711\u001b[0m\n",
      "\u001b[34m[17:51:16] src/tree/updater_prune.cc:74: tree pruning end, 1 roots, 26 extra nodes, 14 pruned nodes, max_depth=5\u001b[0m\n",
      "\u001b[34m[5]#011train-error:0.257667#011validation-error:0.2655\u001b[0m\n",
      "\u001b[34m[17:51:18] src/tree/updater_prune.cc:74: tree pruning end, 1 roots, 42 extra nodes, 8 pruned nodes, max_depth=5\u001b[0m\n",
      "\u001b[34m[6]#011train-error:0.253933#011validation-error:0.2687\u001b[0m\n",
      "\u001b[34m[17:51:19] src/tree/updater_prune.cc:74: tree pruning end, 1 roots, 28 extra nodes, 8 pruned nodes, max_depth=5\u001b[0m\n",
      "\u001b[34m[7]#011train-error:0.247467#011validation-error:0.2608\u001b[0m\n",
      "\u001b[34m[17:51:20] src/tree/updater_prune.cc:74: tree pruning end, 1 roots, 34 extra nodes, 4 pruned nodes, max_depth=5\u001b[0m\n",
      "\u001b[34m[8]#011train-error:0.2344#011validation-error:0.2459\u001b[0m\n",
      "\u001b[34m[17:51:22] src/tree/updater_prune.cc:74: tree pruning end, 1 roots, 32 extra nodes, 8 pruned nodes, max_depth=5\u001b[0m\n",
      "\u001b[34m[9]#011train-error:0.232533#011validation-error:0.2467\u001b[0m\n",
      "\u001b[34m[17:51:23] src/tree/updater_prune.cc:74: tree pruning end, 1 roots, 24 extra nodes, 8 pruned nodes, max_depth=5\u001b[0m\n",
      "\u001b[34m[10]#011train-error:0.2232#011validation-error:0.2383\u001b[0m\n",
      "\u001b[34m[17:51:24] src/tree/updater_prune.cc:74: tree pruning end, 1 roots, 36 extra nodes, 8 pruned nodes, max_depth=5\u001b[0m\n",
      "\u001b[34m[11]#011train-error:0.219467#011validation-error:0.2337\u001b[0m\n",
      "\u001b[34m[17:51:26] src/tree/updater_prune.cc:74: tree pruning end, 1 roots, 26 extra nodes, 22 pruned nodes, max_depth=5\u001b[0m\n",
      "\u001b[34m[12]#011train-error:0.2152#011validation-error:0.2287\u001b[0m\n",
      "\u001b[34m[17:51:27] src/tree/updater_prune.cc:74: tree pruning end, 1 roots, 22 extra nodes, 8 pruned nodes, max_depth=5\u001b[0m\n",
      "\u001b[34m[13]#011train-error:0.211667#011validation-error:0.2238\u001b[0m\n",
      "\u001b[34m[17:51:29] src/tree/updater_prune.cc:74: tree pruning end, 1 roots, 34 extra nodes, 12 pruned nodes, max_depth=5\u001b[0m\n",
      "\u001b[34m[14]#011train-error:0.208933#011validation-error:0.2223\u001b[0m\n",
      "\u001b[34m[17:51:30] src/tree/updater_prune.cc:74: tree pruning end, 1 roots, 40 extra nodes, 4 pruned nodes, max_depth=5\u001b[0m\n",
      "\u001b[34m[15]#011train-error:0.2058#011validation-error:0.221\u001b[0m\n",
      "\u001b[34m[17:51:31] src/tree/updater_prune.cc:74: tree pruning end, 1 roots, 26 extra nodes, 10 pruned nodes, max_depth=5\u001b[0m\n",
      "\u001b[34m[16]#011train-error:0.2024#011validation-error:0.2188\u001b[0m\n",
      "\u001b[34m[17:51:33] src/tree/updater_prune.cc:74: tree pruning end, 1 roots, 46 extra nodes, 8 pruned nodes, max_depth=5\u001b[0m\n",
      "\u001b[34m[17]#011train-error:0.198467#011validation-error:0.2158\u001b[0m\n",
      "\u001b[34m[17:51:34] src/tree/updater_prune.cc:74: tree pruning end, 1 roots, 22 extra nodes, 16 pruned nodes, max_depth=5\u001b[0m\n",
      "\u001b[34m[18]#011train-error:0.195067#011validation-error:0.2139\u001b[0m\n",
      "\u001b[34m[17:51:35] src/tree/updater_prune.cc:74: tree pruning end, 1 roots, 26 extra nodes, 14 pruned nodes, max_depth=5\u001b[0m\n",
      "\u001b[34m[19]#011train-error:0.192#011validation-error:0.2134\u001b[0m\n",
      "\u001b[34m[17:51:37] src/tree/updater_prune.cc:74: tree pruning end, 1 roots, 18 extra nodes, 10 pruned nodes, max_depth=5\u001b[0m\n",
      "\u001b[34m[20]#011train-error:0.189#011validation-error:0.21\u001b[0m\n",
      "\u001b[34m[17:51:38] src/tree/updater_prune.cc:74: tree pruning end, 1 roots, 26 extra nodes, 6 pruned nodes, max_depth=5\u001b[0m\n",
      "\u001b[34m[21]#011train-error:0.188#011validation-error:0.2098\u001b[0m\n",
      "\u001b[34m[17:51:39] src/tree/updater_prune.cc:74: tree pruning end, 1 roots, 28 extra nodes, 6 pruned nodes, max_depth=5\u001b[0m\n",
      "\u001b[34m[22]#011train-error:0.184867#011validation-error:0.2084\u001b[0m\n",
      "\u001b[34m[17:51:41] src/tree/updater_prune.cc:74: tree pruning end, 1 roots, 20 extra nodes, 8 pruned nodes, max_depth=5\u001b[0m\n",
      "\u001b[34m[23]#011train-error:0.1844#011validation-error:0.2071\u001b[0m\n",
      "\u001b[34m[17:51:42] src/tree/updater_prune.cc:74: tree pruning end, 1 roots, 26 extra nodes, 10 pruned nodes, max_depth=5\u001b[0m\n",
      "\u001b[34m[24]#011train-error:0.182333#011validation-error:0.2045\u001b[0m\n",
      "\u001b[34m[17:51:43] src/tree/updater_prune.cc:74: tree pruning end, 1 roots, 32 extra nodes, 8 pruned nodes, max_depth=5\u001b[0m\n",
      "\u001b[34m[25]#011train-error:0.179667#011validation-error:0.2052\u001b[0m\n",
      "\u001b[34m[17:51:45] src/tree/updater_prune.cc:74: tree pruning end, 1 roots, 28 extra nodes, 4 pruned nodes, max_depth=5\u001b[0m\n",
      "\u001b[34m[26]#011train-error:0.1772#011validation-error:0.2019\u001b[0m\n",
      "\u001b[34m[17:51:46] src/tree/updater_prune.cc:74: tree pruning end, 1 roots, 36 extra nodes, 6 pruned nodes, max_depth=5\u001b[0m\n",
      "\u001b[34m[27]#011train-error:0.173#011validation-error:0.1996\u001b[0m\n",
      "\u001b[34m[17:51:48] src/tree/updater_prune.cc:74: tree pruning end, 1 roots, 30 extra nodes, 10 pruned nodes, max_depth=5\u001b[0m\n",
      "\u001b[34m[28]#011train-error:0.171133#011validation-error:0.1984\u001b[0m\n",
      "\u001b[34m[17:51:49] src/tree/updater_prune.cc:74: tree pruning end, 1 roots, 32 extra nodes, 10 pruned nodes, max_depth=5\u001b[0m\n",
      "\u001b[34m[29]#011train-error:0.168467#011validation-error:0.1973\u001b[0m\n",
      "\u001b[34m[17:51:50] src/tree/updater_prune.cc:74: tree pruning end, 1 roots, 24 extra nodes, 10 pruned nodes, max_depth=5\u001b[0m\n",
      "\u001b[34m[30]#011train-error:0.1674#011validation-error:0.1957\u001b[0m\n",
      "\u001b[34m[17:51:52] src/tree/updater_prune.cc:74: tree pruning end, 1 roots, 18 extra nodes, 8 pruned nodes, max_depth=5\u001b[0m\n",
      "\u001b[34m[31]#011train-error:0.1654#011validation-error:0.1943\u001b[0m\n",
      "\u001b[34m[17:51:53] src/tree/updater_prune.cc:74: tree pruning end, 1 roots, 26 extra nodes, 2 pruned nodes, max_depth=5\u001b[0m\n",
      "\u001b[34m[32]#011train-error:0.163933#011validation-error:0.193\u001b[0m\n",
      "\u001b[34m[17:51:54] src/tree/updater_prune.cc:74: tree pruning end, 1 roots, 24 extra nodes, 2 pruned nodes, max_depth=5\u001b[0m\n",
      "\u001b[34m[33]#011train-error:0.162533#011validation-error:0.1936\u001b[0m\n",
      "\u001b[34m[17:51:56] src/tree/updater_prune.cc:74: tree pruning end, 1 roots, 20 extra nodes, 14 pruned nodes, max_depth=5\u001b[0m\n",
      "\u001b[34m[34]#011train-error:0.1606#011validation-error:0.1923\u001b[0m\n",
      "\u001b[34m[17:51:57] src/tree/updater_prune.cc:74: tree pruning end, 1 roots, 14 extra nodes, 8 pruned nodes, max_depth=5\u001b[0m\n",
      "\u001b[34m[35]#011train-error:0.159533#011validation-error:0.1912\u001b[0m\n",
      "\u001b[34m[17:51:58] src/tree/updater_prune.cc:74: tree pruning end, 1 roots, 22 extra nodes, 12 pruned nodes, max_depth=5\u001b[0m\n",
      "\u001b[34m[36]#011train-error:0.158867#011validation-error:0.1898\u001b[0m\n",
      "\u001b[34m[17:52:00] src/tree/updater_prune.cc:74: tree pruning end, 1 roots, 16 extra nodes, 10 pruned nodes, max_depth=5\u001b[0m\n",
      "\u001b[34m[37]#011train-error:0.157467#011validation-error:0.1893\u001b[0m\n",
      "\u001b[34m[17:52:01] src/tree/updater_prune.cc:74: tree pruning end, 1 roots, 36 extra nodes, 6 pruned nodes, max_depth=5\u001b[0m\n",
      "\u001b[34m[38]#011train-error:0.1572#011validation-error:0.1897\u001b[0m\n"
     ]
    },
    {
     "name": "stdout",
     "output_type": "stream",
     "text": [
      "\u001b[34m[17:52:03] src/tree/updater_prune.cc:74: tree pruning end, 1 roots, 28 extra nodes, 8 pruned nodes, max_depth=5\u001b[0m\n",
      "\u001b[34m[39]#011train-error:0.1556#011validation-error:0.188\u001b[0m\n",
      "\u001b[34m[17:52:04] src/tree/updater_prune.cc:74: tree pruning end, 1 roots, 20 extra nodes, 10 pruned nodes, max_depth=5\u001b[0m\n",
      "\u001b[34m[40]#011train-error:0.1542#011validation-error:0.1871\u001b[0m\n",
      "\u001b[34m[17:52:06] src/tree/updater_prune.cc:74: tree pruning end, 1 roots, 32 extra nodes, 8 pruned nodes, max_depth=5\u001b[0m\n",
      "\u001b[34m[41]#011train-error:0.153533#011validation-error:0.1852\u001b[0m\n",
      "\u001b[34m[17:52:07] src/tree/updater_prune.cc:74: tree pruning end, 1 roots, 28 extra nodes, 6 pruned nodes, max_depth=5\u001b[0m\n",
      "\u001b[34m[42]#011train-error:0.151933#011validation-error:0.1845\u001b[0m\n",
      "\u001b[34m[17:52:09] src/tree/updater_prune.cc:74: tree pruning end, 1 roots, 26 extra nodes, 12 pruned nodes, max_depth=5\u001b[0m\n",
      "\u001b[34m[43]#011train-error:0.151#011validation-error:0.1823\u001b[0m\n",
      "\u001b[34m[17:52:10] src/tree/updater_prune.cc:74: tree pruning end, 1 roots, 24 extra nodes, 8 pruned nodes, max_depth=5\u001b[0m\n",
      "\u001b[34m[44]#011train-error:0.149867#011validation-error:0.1813\u001b[0m\n",
      "\u001b[34m[17:52:11] src/tree/updater_prune.cc:74: tree pruning end, 1 roots, 20 extra nodes, 10 pruned nodes, max_depth=5\u001b[0m\n",
      "\u001b[34m[45]#011train-error:0.147667#011validation-error:0.1819\u001b[0m\n",
      "\u001b[34m[17:52:13] src/tree/updater_prune.cc:74: tree pruning end, 1 roots, 20 extra nodes, 6 pruned nodes, max_depth=5\u001b[0m\n",
      "\u001b[34m[46]#011train-error:0.147#011validation-error:0.1811\u001b[0m\n",
      "\u001b[34m[17:52:14] src/tree/updater_prune.cc:74: tree pruning end, 1 roots, 18 extra nodes, 8 pruned nodes, max_depth=5\u001b[0m\n",
      "\u001b[34m[47]#011train-error:0.145467#011validation-error:0.1794\u001b[0m\n",
      "\u001b[34m[17:52:15] src/tree/updater_prune.cc:74: tree pruning end, 1 roots, 30 extra nodes, 6 pruned nodes, max_depth=5\u001b[0m\n",
      "\u001b[34m[48]#011train-error:0.1448#011validation-error:0.1789\u001b[0m\n",
      "\u001b[34m[17:52:17] src/tree/updater_prune.cc:74: tree pruning end, 1 roots, 26 extra nodes, 10 pruned nodes, max_depth=5\u001b[0m\n",
      "\u001b[34m[49]#011train-error:0.141667#011validation-error:0.1766\u001b[0m\n",
      "\u001b[34m[17:52:18] src/tree/updater_prune.cc:74: tree pruning end, 1 roots, 10 extra nodes, 8 pruned nodes, max_depth=5\u001b[0m\n",
      "\u001b[34m[50]#011train-error:0.141#011validation-error:0.1772\u001b[0m\n",
      "\u001b[34m[17:52:20] src/tree/updater_prune.cc:74: tree pruning end, 1 roots, 12 extra nodes, 8 pruned nodes, max_depth=5\u001b[0m\n",
      "\u001b[34m[51]#011train-error:0.140667#011validation-error:0.1765\u001b[0m\n",
      "\u001b[34m[17:52:21] src/tree/updater_prune.cc:74: tree pruning end, 1 roots, 24 extra nodes, 4 pruned nodes, max_depth=5\u001b[0m\n",
      "\u001b[34m[52]#011train-error:0.139#011validation-error:0.1765\u001b[0m\n",
      "\u001b[34m[17:52:22] src/tree/updater_prune.cc:74: tree pruning end, 1 roots, 26 extra nodes, 2 pruned nodes, max_depth=5\u001b[0m\n",
      "\u001b[34m[53]#011train-error:0.138067#011validation-error:0.1755\u001b[0m\n",
      "\u001b[34m[17:52:24] src/tree/updater_prune.cc:74: tree pruning end, 1 roots, 24 extra nodes, 6 pruned nodes, max_depth=5\u001b[0m\n",
      "\u001b[34m[54]#011train-error:0.138467#011validation-error:0.1762\u001b[0m\n",
      "\u001b[34m[17:52:25] src/tree/updater_prune.cc:74: tree pruning end, 1 roots, 22 extra nodes, 6 pruned nodes, max_depth=5\u001b[0m\n",
      "\u001b[34m[55]#011train-error:0.137667#011validation-error:0.176\u001b[0m\n",
      "\u001b[34m[17:52:26] src/tree/updater_prune.cc:74: tree pruning end, 1 roots, 22 extra nodes, 8 pruned nodes, max_depth=5\u001b[0m\n",
      "\u001b[34m[56]#011train-error:0.1374#011validation-error:0.1743\u001b[0m\n",
      "\u001b[34m[17:52:28] src/tree/updater_prune.cc:74: tree pruning end, 1 roots, 30 extra nodes, 10 pruned nodes, max_depth=5\u001b[0m\n",
      "\u001b[34m[57]#011train-error:0.135467#011validation-error:0.174\u001b[0m\n",
      "\u001b[34m[17:52:29] src/tree/updater_prune.cc:74: tree pruning end, 1 roots, 18 extra nodes, 6 pruned nodes, max_depth=5\u001b[0m\n",
      "\u001b[34m[58]#011train-error:0.134667#011validation-error:0.1742\u001b[0m\n",
      "\u001b[34m[17:52:30] src/tree/updater_prune.cc:74: tree pruning end, 1 roots, 12 extra nodes, 10 pruned nodes, max_depth=5\u001b[0m\n",
      "\u001b[34m[59]#011train-error:0.1342#011validation-error:0.1734\u001b[0m\n",
      "\u001b[34m[17:52:32] src/tree/updater_prune.cc:74: tree pruning end, 1 roots, 14 extra nodes, 12 pruned nodes, max_depth=5\u001b[0m\n",
      "\u001b[34m[60]#011train-error:0.133867#011validation-error:0.1742\u001b[0m\n",
      "\u001b[34m[17:52:33] src/tree/updater_prune.cc:74: tree pruning end, 1 roots, 14 extra nodes, 8 pruned nodes, max_depth=5\u001b[0m\n",
      "\u001b[34m[61]#011train-error:0.133933#011validation-error:0.1742\u001b[0m\n",
      "\u001b[34m[17:52:34] src/tree/updater_prune.cc:74: tree pruning end, 1 roots, 32 extra nodes, 10 pruned nodes, max_depth=5\u001b[0m\n",
      "\u001b[34m[62]#011train-error:0.133267#011validation-error:0.173\u001b[0m\n",
      "\u001b[34m[17:52:36] src/tree/updater_prune.cc:74: tree pruning end, 1 roots, 22 extra nodes, 10 pruned nodes, max_depth=5\u001b[0m\n",
      "\u001b[34m[63]#011train-error:0.131267#011validation-error:0.1715\u001b[0m\n",
      "\u001b[34m[17:52:37] src/tree/updater_prune.cc:74: tree pruning end, 1 roots, 18 extra nodes, 6 pruned nodes, max_depth=5\u001b[0m\n",
      "\u001b[34m[64]#011train-error:0.130667#011validation-error:0.1708\u001b[0m\n",
      "\u001b[34m[17:52:39] src/tree/updater_prune.cc:74: tree pruning end, 1 roots, 30 extra nodes, 2 pruned nodes, max_depth=5\u001b[0m\n",
      "\u001b[34m[65]#011train-error:0.129933#011validation-error:0.1706\u001b[0m\n",
      "\u001b[34m[17:52:40] src/tree/updater_prune.cc:74: tree pruning end, 1 roots, 20 extra nodes, 8 pruned nodes, max_depth=5\u001b[0m\n",
      "\u001b[34m[66]#011train-error:0.129933#011validation-error:0.1701\u001b[0m\n",
      "\u001b[34m[17:52:41] src/tree/updater_prune.cc:74: tree pruning end, 1 roots, 18 extra nodes, 6 pruned nodes, max_depth=5\u001b[0m\n",
      "\u001b[34m[67]#011train-error:0.128533#011validation-error:0.169\u001b[0m\n",
      "\u001b[34m[17:52:43] src/tree/updater_prune.cc:74: tree pruning end, 1 roots, 16 extra nodes, 6 pruned nodes, max_depth=5\u001b[0m\n",
      "\u001b[34m[68]#011train-error:0.128133#011validation-error:0.1687\u001b[0m\n",
      "\u001b[34m[17:52:44] src/tree/updater_prune.cc:74: tree pruning end, 1 roots, 40 extra nodes, 8 pruned nodes, max_depth=5\u001b[0m\n",
      "\u001b[34m[69]#011train-error:0.125#011validation-error:0.1682\u001b[0m\n",
      "\u001b[34m[17:52:45] src/tree/updater_prune.cc:74: tree pruning end, 1 roots, 20 extra nodes, 12 pruned nodes, max_depth=5\u001b[0m\n",
      "\u001b[34m[70]#011train-error:0.124867#011validation-error:0.1673\u001b[0m\n",
      "\u001b[34m[17:52:47] src/tree/updater_prune.cc:74: tree pruning end, 1 roots, 18 extra nodes, 6 pruned nodes, max_depth=5\u001b[0m\n",
      "\u001b[34m[71]#011train-error:0.124#011validation-error:0.167\u001b[0m\n",
      "\u001b[34m[17:52:48] src/tree/updater_prune.cc:74: tree pruning end, 1 roots, 36 extra nodes, 16 pruned nodes, max_depth=5\u001b[0m\n",
      "\u001b[34m[72]#011train-error:0.122933#011validation-error:0.1672\u001b[0m\n",
      "\u001b[34m[17:52:50] src/tree/updater_prune.cc:74: tree pruning end, 1 roots, 12 extra nodes, 10 pruned nodes, max_depth=5\u001b[0m\n",
      "\u001b[34m[73]#011train-error:0.1226#011validation-error:0.1664\u001b[0m\n",
      "\u001b[34m[17:52:51] src/tree/updater_prune.cc:74: tree pruning end, 1 roots, 24 extra nodes, 6 pruned nodes, max_depth=5\u001b[0m\n",
      "\u001b[34m[74]#011train-error:0.1226#011validation-error:0.1662\u001b[0m\n",
      "\u001b[34m[17:52:52] src/tree/updater_prune.cc:74: tree pruning end, 1 roots, 30 extra nodes, 8 pruned nodes, max_depth=5\u001b[0m\n",
      "\u001b[34m[75]#011train-error:0.120867#011validation-error:0.1655\u001b[0m\n",
      "\u001b[34m[17:52:54] src/tree/updater_prune.cc:74: tree pruning end, 1 roots, 30 extra nodes, 8 pruned nodes, max_depth=5\u001b[0m\n",
      "\u001b[34m[76]#011train-error:0.119333#011validation-error:0.1645\u001b[0m\n",
      "\u001b[34m[17:52:55] src/tree/updater_prune.cc:74: tree pruning end, 1 roots, 24 extra nodes, 6 pruned nodes, max_depth=5\u001b[0m\n",
      "\u001b[34m[77]#011train-error:0.119267#011validation-error:0.1642\u001b[0m\n",
      "\u001b[34m[17:52:56] src/tree/updater_prune.cc:74: tree pruning end, 1 roots, 18 extra nodes, 4 pruned nodes, max_depth=5\u001b[0m\n",
      "\u001b[34m[78]#011train-error:0.1176#011validation-error:0.1635\u001b[0m\n",
      "\u001b[34m[17:52:58] src/tree/updater_prune.cc:74: tree pruning end, 1 roots, 26 extra nodes, 4 pruned nodes, max_depth=5\u001b[0m\n",
      "\u001b[34m[79]#011train-error:0.117467#011validation-error:0.1625\u001b[0m\n",
      "\u001b[34m[17:52:59] src/tree/updater_prune.cc:74: tree pruning end, 1 roots, 18 extra nodes, 2 pruned nodes, max_depth=5\u001b[0m\n",
      "\u001b[34m[80]#011train-error:0.117133#011validation-error:0.1618\u001b[0m\n",
      "\u001b[34m[17:53:00] src/tree/updater_prune.cc:74: tree pruning end, 1 roots, 20 extra nodes, 16 pruned nodes, max_depth=5\u001b[0m\n",
      "\u001b[34m[81]#011train-error:0.1164#011validation-error:0.161\u001b[0m\n",
      "\u001b[34m[17:53:02] src/tree/updater_prune.cc:74: tree pruning end, 1 roots, 22 extra nodes, 10 pruned nodes, max_depth=5\u001b[0m\n",
      "\u001b[34m[82]#011train-error:0.115667#011validation-error:0.1603\u001b[0m\n",
      "\u001b[34m[17:53:03] src/tree/updater_prune.cc:74: tree pruning end, 1 roots, 12 extra nodes, 10 pruned nodes, max_depth=5\u001b[0m\n",
      "\u001b[34m[83]#011train-error:0.114333#011validation-error:0.1597\u001b[0m\n",
      "\u001b[34m[17:53:05] src/tree/updater_prune.cc:74: tree pruning end, 1 roots, 16 extra nodes, 10 pruned nodes, max_depth=5\u001b[0m\n",
      "\u001b[34m[84]#011train-error:0.114#011validation-error:0.1594\u001b[0m\n",
      "\u001b[34m[17:53:06] src/tree/updater_prune.cc:74: tree pruning end, 1 roots, 38 extra nodes, 8 pruned nodes, max_depth=5\u001b[0m\n",
      "\u001b[34m[85]#011train-error:0.1134#011validation-error:0.1596\u001b[0m\n",
      "\u001b[34m[17:53:08] src/tree/updater_prune.cc:74: tree pruning end, 1 roots, 16 extra nodes, 4 pruned nodes, max_depth=5\u001b[0m\n",
      "\u001b[34m[86]#011train-error:0.1128#011validation-error:0.1586\u001b[0m\n"
     ]
    },
    {
     "name": "stdout",
     "output_type": "stream",
     "text": [
      "\u001b[34m[17:53:09] src/tree/updater_prune.cc:74: tree pruning end, 1 roots, 12 extra nodes, 2 pruned nodes, max_depth=5\u001b[0m\n",
      "\u001b[34m[87]#011train-error:0.1126#011validation-error:0.1584\u001b[0m\n",
      "\u001b[34m[17:53:11] src/tree/updater_prune.cc:74: tree pruning end, 1 roots, 14 extra nodes, 4 pruned nodes, max_depth=5\u001b[0m\n",
      "\u001b[34m[88]#011train-error:0.112333#011validation-error:0.1592\u001b[0m\n",
      "\u001b[34m[17:53:12] src/tree/updater_prune.cc:74: tree pruning end, 1 roots, 18 extra nodes, 6 pruned nodes, max_depth=5\u001b[0m\n",
      "\u001b[34m[89]#011train-error:0.112#011validation-error:0.1571\u001b[0m\n",
      "\u001b[34m[17:53:13] src/tree/updater_prune.cc:74: tree pruning end, 1 roots, 12 extra nodes, 14 pruned nodes, max_depth=5\u001b[0m\n",
      "\u001b[34m[90]#011train-error:0.112267#011validation-error:0.1565\u001b[0m\n",
      "\u001b[34m[17:53:15] src/tree/updater_prune.cc:74: tree pruning end, 1 roots, 26 extra nodes, 2 pruned nodes, max_depth=5\u001b[0m\n",
      "\u001b[34m[91]#011train-error:0.1108#011validation-error:0.1567\u001b[0m\n",
      "\u001b[34m[17:53:16] src/tree/updater_prune.cc:74: tree pruning end, 1 roots, 26 extra nodes, 4 pruned nodes, max_depth=5\u001b[0m\n",
      "\u001b[34m[92]#011train-error:0.110467#011validation-error:0.1563\u001b[0m\n",
      "\u001b[34m[17:53:17] src/tree/updater_prune.cc:74: tree pruning end, 1 roots, 12 extra nodes, 6 pruned nodes, max_depth=5\u001b[0m\n",
      "\u001b[34m[93]#011train-error:0.110333#011validation-error:0.1558\u001b[0m\n",
      "\u001b[34m[17:53:19] src/tree/updater_prune.cc:74: tree pruning end, 1 roots, 18 extra nodes, 4 pruned nodes, max_depth=5\u001b[0m\n",
      "\u001b[34m[94]#011train-error:0.110533#011validation-error:0.1556\u001b[0m\n",
      "\u001b[34m[17:53:20] src/tree/updater_prune.cc:74: tree pruning end, 1 roots, 18 extra nodes, 16 pruned nodes, max_depth=5\u001b[0m\n",
      "\u001b[34m[95]#011train-error:0.109733#011validation-error:0.1553\u001b[0m\n",
      "\u001b[34m[17:53:21] src/tree/updater_prune.cc:74: tree pruning end, 1 roots, 22 extra nodes, 24 pruned nodes, max_depth=5\u001b[0m\n",
      "\u001b[34m[96]#011train-error:0.1098#011validation-error:0.1533\u001b[0m\n",
      "\u001b[34m[17:53:23] src/tree/updater_prune.cc:74: tree pruning end, 1 roots, 26 extra nodes, 6 pruned nodes, max_depth=5\u001b[0m\n",
      "\u001b[34m[97]#011train-error:0.109333#011validation-error:0.1539\u001b[0m\n",
      "\u001b[34m[17:53:24] src/tree/updater_prune.cc:74: tree pruning end, 1 roots, 10 extra nodes, 4 pruned nodes, max_depth=5\u001b[0m\n",
      "\u001b[34m[98]#011train-error:0.109533#011validation-error:0.1535\u001b[0m\n",
      "\u001b[34m[17:53:26] src/tree/updater_prune.cc:74: tree pruning end, 1 roots, 18 extra nodes, 18 pruned nodes, max_depth=5\u001b[0m\n",
      "\u001b[34m[99]#011train-error:0.109#011validation-error:0.152\u001b[0m\n",
      "\u001b[34m[17:53:27] src/tree/updater_prune.cc:74: tree pruning end, 1 roots, 12 extra nodes, 10 pruned nodes, max_depth=5\u001b[0m\n",
      "\u001b[34m[100]#011train-error:0.108067#011validation-error:0.1515\u001b[0m\n",
      "\u001b[34m[17:53:28] src/tree/updater_prune.cc:74: tree pruning end, 1 roots, 20 extra nodes, 16 pruned nodes, max_depth=5\u001b[0m\n",
      "\u001b[34m[101]#011train-error:0.1068#011validation-error:0.1522\u001b[0m\n",
      "\u001b[34m[17:53:30] src/tree/updater_prune.cc:74: tree pruning end, 1 roots, 20 extra nodes, 18 pruned nodes, max_depth=5\u001b[0m\n",
      "\u001b[34m[102]#011train-error:0.106467#011validation-error:0.1516\u001b[0m\n",
      "\u001b[34m[17:53:31] src/tree/updater_prune.cc:74: tree pruning end, 1 roots, 18 extra nodes, 8 pruned nodes, max_depth=5\u001b[0m\n",
      "\u001b[34m[103]#011train-error:0.1064#011validation-error:0.1504\u001b[0m\n",
      "\u001b[34m[17:53:32] src/tree/updater_prune.cc:74: tree pruning end, 1 roots, 12 extra nodes, 4 pruned nodes, max_depth=5\u001b[0m\n",
      "\u001b[34m[104]#011train-error:0.105667#011validation-error:0.1509\u001b[0m\n",
      "\u001b[34m[17:53:34] src/tree/updater_prune.cc:74: tree pruning end, 1 roots, 18 extra nodes, 0 pruned nodes, max_depth=5\u001b[0m\n",
      "\u001b[34m[105]#011train-error:0.1054#011validation-error:0.1504\u001b[0m\n",
      "\u001b[34m[17:53:35] src/tree/updater_prune.cc:74: tree pruning end, 1 roots, 18 extra nodes, 10 pruned nodes, max_depth=5\u001b[0m\n",
      "\u001b[34m[106]#011train-error:0.104867#011validation-error:0.1499\u001b[0m\n",
      "\u001b[34m[17:53:36] src/tree/updater_prune.cc:74: tree pruning end, 1 roots, 16 extra nodes, 4 pruned nodes, max_depth=5\u001b[0m\n",
      "\u001b[34m[107]#011train-error:0.104467#011validation-error:0.1496\u001b[0m\n",
      "\u001b[34m[17:53:38] src/tree/updater_prune.cc:74: tree pruning end, 1 roots, 16 extra nodes, 16 pruned nodes, max_depth=5\u001b[0m\n",
      "\u001b[34m[108]#011train-error:0.104267#011validation-error:0.15\u001b[0m\n",
      "\u001b[34m[17:53:39] src/tree/updater_prune.cc:74: tree pruning end, 1 roots, 12 extra nodes, 10 pruned nodes, max_depth=5\u001b[0m\n",
      "\u001b[34m[109]#011train-error:0.104267#011validation-error:0.1491\u001b[0m\n",
      "\u001b[34m[17:53:40] src/tree/updater_prune.cc:74: tree pruning end, 1 roots, 22 extra nodes, 10 pruned nodes, max_depth=5\u001b[0m\n",
      "\u001b[34m[110]#011train-error:0.103667#011validation-error:0.1491\u001b[0m\n",
      "\u001b[34m[17:53:42] src/tree/updater_prune.cc:74: tree pruning end, 1 roots, 26 extra nodes, 10 pruned nodes, max_depth=5\u001b[0m\n",
      "\u001b[34m[111]#011train-error:0.102933#011validation-error:0.1487\u001b[0m\n",
      "\u001b[34m[17:53:43] src/tree/updater_prune.cc:74: tree pruning end, 1 roots, 14 extra nodes, 14 pruned nodes, max_depth=5\u001b[0m\n",
      "\u001b[34m[112]#011train-error:0.102667#011validation-error:0.1489\u001b[0m\n",
      "\u001b[34m[17:53:44] src/tree/updater_prune.cc:74: tree pruning end, 1 roots, 12 extra nodes, 4 pruned nodes, max_depth=5\u001b[0m\n",
      "\u001b[34m[113]#011train-error:0.102#011validation-error:0.1481\u001b[0m\n",
      "\u001b[34m[17:53:46] src/tree/updater_prune.cc:74: tree pruning end, 1 roots, 18 extra nodes, 6 pruned nodes, max_depth=5\u001b[0m\n",
      "\u001b[34m[114]#011train-error:0.102#011validation-error:0.1477\u001b[0m\n",
      "\u001b[34m[17:53:47] src/tree/updater_prune.cc:74: tree pruning end, 1 roots, 10 extra nodes, 10 pruned nodes, max_depth=5\u001b[0m\n",
      "\u001b[34m[115]#011train-error:0.102#011validation-error:0.1474\u001b[0m\n",
      "\u001b[34m[17:53:49] src/tree/updater_prune.cc:74: tree pruning end, 1 roots, 18 extra nodes, 4 pruned nodes, max_depth=5\u001b[0m\n",
      "\u001b[34m[116]#011train-error:0.100333#011validation-error:0.1466\u001b[0m\n",
      "\u001b[34m[17:53:50] src/tree/updater_prune.cc:74: tree pruning end, 1 roots, 12 extra nodes, 2 pruned nodes, max_depth=5\u001b[0m\n",
      "\u001b[34m[117]#011train-error:0.1004#011validation-error:0.1459\u001b[0m\n",
      "\u001b[34m[17:53:51] src/tree/updater_prune.cc:74: tree pruning end, 1 roots, 28 extra nodes, 16 pruned nodes, max_depth=5\u001b[0m\n",
      "\u001b[34m[118]#011train-error:0.100267#011validation-error:0.1464\u001b[0m\n",
      "\u001b[34m[17:53:53] src/tree/updater_prune.cc:74: tree pruning end, 1 roots, 16 extra nodes, 8 pruned nodes, max_depth=5\u001b[0m\n",
      "\u001b[34m[119]#011train-error:0.100267#011validation-error:0.1456\u001b[0m\n",
      "\u001b[34m[17:53:54] src/tree/updater_prune.cc:74: tree pruning end, 1 roots, 16 extra nodes, 18 pruned nodes, max_depth=5\u001b[0m\n",
      "\u001b[34m[120]#011train-error:0.099733#011validation-error:0.1456\u001b[0m\n",
      "\u001b[34m[17:53:55] src/tree/updater_prune.cc:74: tree pruning end, 1 roots, 20 extra nodes, 4 pruned nodes, max_depth=5\u001b[0m\n",
      "\u001b[34m[121]#011train-error:0.0998#011validation-error:0.1458\u001b[0m\n",
      "\u001b[34m[17:53:57] src/tree/updater_prune.cc:74: tree pruning end, 1 roots, 28 extra nodes, 6 pruned nodes, max_depth=5\u001b[0m\n",
      "\u001b[34m[122]#011train-error:0.099267#011validation-error:0.1454\u001b[0m\n",
      "\u001b[34m[17:53:58] src/tree/updater_prune.cc:74: tree pruning end, 1 roots, 16 extra nodes, 10 pruned nodes, max_depth=5\u001b[0m\n",
      "\u001b[34m[123]#011train-error:0.098933#011validation-error:0.1456\u001b[0m\n",
      "\u001b[34m[17:53:59] src/tree/updater_prune.cc:74: tree pruning end, 1 roots, 16 extra nodes, 8 pruned nodes, max_depth=5\u001b[0m\n",
      "\u001b[34m[124]#011train-error:0.098533#011validation-error:0.1453\u001b[0m\n",
      "\u001b[34m[17:54:01] src/tree/updater_prune.cc:74: tree pruning end, 1 roots, 18 extra nodes, 14 pruned nodes, max_depth=5\u001b[0m\n",
      "\u001b[34m[125]#011train-error:0.098467#011validation-error:0.1447\u001b[0m\n",
      "\u001b[34m[17:54:02] src/tree/updater_prune.cc:74: tree pruning end, 1 roots, 28 extra nodes, 18 pruned nodes, max_depth=5\u001b[0m\n",
      "\u001b[34m[126]#011train-error:0.096933#011validation-error:0.1459\u001b[0m\n",
      "\u001b[34m[17:54:04] src/tree/updater_prune.cc:74: tree pruning end, 1 roots, 12 extra nodes, 4 pruned nodes, max_depth=5\u001b[0m\n",
      "\u001b[34m[127]#011train-error:0.096267#011validation-error:0.1454\u001b[0m\n",
      "\u001b[34m[17:54:06] src/tree/updater_prune.cc:74: tree pruning end, 1 roots, 10 extra nodes, 2 pruned nodes, max_depth=5\u001b[0m\n",
      "\u001b[34m[128]#011train-error:0.0962#011validation-error:0.1444\u001b[0m\n",
      "\u001b[34m[17:54:07] src/tree/updater_prune.cc:74: tree pruning end, 1 roots, 10 extra nodes, 14 pruned nodes, max_depth=5\u001b[0m\n",
      "\u001b[34m[129]#011train-error:0.095867#011validation-error:0.1443\u001b[0m\n",
      "\u001b[34m[17:54:08] src/tree/updater_prune.cc:74: tree pruning end, 1 roots, 12 extra nodes, 12 pruned nodes, max_depth=5\u001b[0m\n",
      "\u001b[34m[130]#011train-error:0.095267#011validation-error:0.1436\u001b[0m\n",
      "\u001b[34m[17:54:10] src/tree/updater_prune.cc:74: tree pruning end, 1 roots, 30 extra nodes, 4 pruned nodes, max_depth=5\u001b[0m\n",
      "\u001b[34m[131]#011train-error:0.0942#011validation-error:0.1437\u001b[0m\n"
     ]
    },
    {
     "name": "stdout",
     "output_type": "stream",
     "text": [
      "\u001b[34m[17:54:11] src/tree/updater_prune.cc:74: tree pruning end, 1 roots, 22 extra nodes, 2 pruned nodes, max_depth=5\u001b[0m\n",
      "\u001b[34m[132]#011train-error:0.093733#011validation-error:0.144\u001b[0m\n",
      "\u001b[34m[17:54:12] src/tree/updater_prune.cc:74: tree pruning end, 1 roots, 28 extra nodes, 12 pruned nodes, max_depth=5\u001b[0m\n",
      "\u001b[34m[133]#011train-error:0.0926#011validation-error:0.1436\u001b[0m\n",
      "\u001b[34m[17:54:14] src/tree/updater_prune.cc:74: tree pruning end, 1 roots, 10 extra nodes, 10 pruned nodes, max_depth=5\u001b[0m\n",
      "\u001b[34m[134]#011train-error:0.092733#011validation-error:0.1433\u001b[0m\n",
      "\u001b[34m[17:54:15] src/tree/updater_prune.cc:74: tree pruning end, 1 roots, 12 extra nodes, 4 pruned nodes, max_depth=5\u001b[0m\n",
      "\u001b[34m[135]#011train-error:0.092667#011validation-error:0.1432\u001b[0m\n",
      "\u001b[34m[17:54:17] src/tree/updater_prune.cc:74: tree pruning end, 1 roots, 18 extra nodes, 16 pruned nodes, max_depth=5\u001b[0m\n",
      "\u001b[34m[136]#011train-error:0.092533#011validation-error:0.1436\u001b[0m\n",
      "\u001b[34m[17:54:18] src/tree/updater_prune.cc:74: tree pruning end, 1 roots, 16 extra nodes, 12 pruned nodes, max_depth=5\u001b[0m\n",
      "\u001b[34m[137]#011train-error:0.092067#011validation-error:0.1421\u001b[0m\n",
      "\u001b[34m[17:54:19] src/tree/updater_prune.cc:74: tree pruning end, 1 roots, 12 extra nodes, 6 pruned nodes, max_depth=5\u001b[0m\n",
      "\u001b[34m[138]#011train-error:0.091867#011validation-error:0.1423\u001b[0m\n",
      "\u001b[34m[17:54:21] src/tree/updater_prune.cc:74: tree pruning end, 1 roots, 16 extra nodes, 10 pruned nodes, max_depth=5\u001b[0m\n",
      "\u001b[34m[139]#011train-error:0.091933#011validation-error:0.1425\u001b[0m\n",
      "\u001b[34m[17:54:22] src/tree/updater_prune.cc:74: tree pruning end, 1 roots, 12 extra nodes, 6 pruned nodes, max_depth=5\u001b[0m\n",
      "\u001b[34m[140]#011train-error:0.091667#011validation-error:0.1424\u001b[0m\n",
      "\u001b[34m[17:54:23] src/tree/updater_prune.cc:74: tree pruning end, 1 roots, 20 extra nodes, 8 pruned nodes, max_depth=5\u001b[0m\n",
      "\u001b[34m[141]#011train-error:0.091333#011validation-error:0.1427\u001b[0m\n",
      "\u001b[34m[17:54:25] src/tree/updater_prune.cc:74: tree pruning end, 1 roots, 14 extra nodes, 8 pruned nodes, max_depth=5\u001b[0m\n",
      "\u001b[34m[142]#011train-error:0.090667#011validation-error:0.1431\u001b[0m\n",
      "\u001b[34m[17:54:26] src/tree/updater_prune.cc:74: tree pruning end, 1 roots, 10 extra nodes, 12 pruned nodes, max_depth=5\u001b[0m\n",
      "\u001b[34m[143]#011train-error:0.090333#011validation-error:0.143\u001b[0m\n",
      "\u001b[34m[17:54:27] src/tree/updater_prune.cc:74: tree pruning end, 1 roots, 16 extra nodes, 4 pruned nodes, max_depth=5\u001b[0m\n",
      "\u001b[34m[144]#011train-error:0.089867#011validation-error:0.1427\u001b[0m\n",
      "\u001b[34m[17:54:29] src/tree/updater_prune.cc:74: tree pruning end, 1 roots, 12 extra nodes, 10 pruned nodes, max_depth=5\u001b[0m\n",
      "\u001b[34m[145]#011train-error:0.089667#011validation-error:0.1426\u001b[0m\n",
      "\u001b[34m[17:54:30] src/tree/updater_prune.cc:74: tree pruning end, 1 roots, 26 extra nodes, 6 pruned nodes, max_depth=5\u001b[0m\n",
      "\u001b[34m[146]#011train-error:0.0892#011validation-error:0.1421\u001b[0m\n",
      "\u001b[34m[17:54:32] src/tree/updater_prune.cc:74: tree pruning end, 1 roots, 12 extra nodes, 2 pruned nodes, max_depth=5\u001b[0m\n",
      "\u001b[34m[147]#011train-error:0.089#011validation-error:0.1411\u001b[0m\n",
      "\u001b[34m[17:54:33] src/tree/updater_prune.cc:74: tree pruning end, 1 roots, 14 extra nodes, 16 pruned nodes, max_depth=5\u001b[0m\n",
      "\u001b[34m[148]#011train-error:0.088267#011validation-error:0.1416\u001b[0m\n",
      "\u001b[34m[17:54:34] src/tree/updater_prune.cc:74: tree pruning end, 1 roots, 16 extra nodes, 6 pruned nodes, max_depth=5\u001b[0m\n",
      "\u001b[34m[149]#011train-error:0.088#011validation-error:0.1411\u001b[0m\n",
      "\u001b[34m[17:54:36] src/tree/updater_prune.cc:74: tree pruning end, 1 roots, 10 extra nodes, 6 pruned nodes, max_depth=5\u001b[0m\n",
      "\u001b[34m[150]#011train-error:0.0878#011validation-error:0.1404\u001b[0m\n",
      "\u001b[34m[17:54:37] src/tree/updater_prune.cc:74: tree pruning end, 1 roots, 10 extra nodes, 8 pruned nodes, max_depth=5\u001b[0m\n",
      "\u001b[34m[151]#011train-error:0.087933#011validation-error:0.1398\u001b[0m\n",
      "\u001b[34m[17:54:38] src/tree/updater_prune.cc:74: tree pruning end, 1 roots, 42 extra nodes, 4 pruned nodes, max_depth=5\u001b[0m\n",
      "\u001b[34m[152]#011train-error:0.086733#011validation-error:0.1405\u001b[0m\n",
      "\u001b[34m[17:54:40] src/tree/updater_prune.cc:74: tree pruning end, 1 roots, 10 extra nodes, 6 pruned nodes, max_depth=5\u001b[0m\n",
      "\u001b[34m[153]#011train-error:0.086#011validation-error:0.1403\u001b[0m\n",
      "\u001b[34m[17:54:41] src/tree/updater_prune.cc:74: tree pruning end, 1 roots, 18 extra nodes, 0 pruned nodes, max_depth=5\u001b[0m\n",
      "\u001b[34m[154]#011train-error:0.085733#011validation-error:0.1399\u001b[0m\n",
      "\u001b[34m[17:54:42] src/tree/updater_prune.cc:74: tree pruning end, 1 roots, 16 extra nodes, 14 pruned nodes, max_depth=5\u001b[0m\n",
      "\u001b[34m[155]#011train-error:0.085933#011validation-error:0.1399\u001b[0m\n",
      "\u001b[34m[17:54:44] src/tree/updater_prune.cc:74: tree pruning end, 1 roots, 14 extra nodes, 10 pruned nodes, max_depth=5\u001b[0m\n",
      "\u001b[34m[156]#011train-error:0.086267#011validation-error:0.1392\u001b[0m\n",
      "\u001b[34m[17:54:45] src/tree/updater_prune.cc:74: tree pruning end, 1 roots, 16 extra nodes, 0 pruned nodes, max_depth=5\u001b[0m\n",
      "\u001b[34m[157]#011train-error:0.085933#011validation-error:0.1393\u001b[0m\n",
      "\u001b[34m[17:54:46] src/tree/updater_prune.cc:74: tree pruning end, 1 roots, 14 extra nodes, 14 pruned nodes, max_depth=5\u001b[0m\n",
      "\u001b[34m[158]#011train-error:0.086#011validation-error:0.1388\u001b[0m\n",
      "\u001b[34m[17:54:48] src/tree/updater_prune.cc:74: tree pruning end, 1 roots, 16 extra nodes, 18 pruned nodes, max_depth=5\u001b[0m\n",
      "\u001b[34m[159]#011train-error:0.085533#011validation-error:0.1388\u001b[0m\n",
      "\u001b[34m[17:54:49] src/tree/updater_prune.cc:74: tree pruning end, 1 roots, 20 extra nodes, 6 pruned nodes, max_depth=5\u001b[0m\n",
      "\u001b[34m[160]#011train-error:0.084933#011validation-error:0.1386\u001b[0m\n",
      "\u001b[34m[17:54:51] src/tree/updater_prune.cc:74: tree pruning end, 1 roots, 16 extra nodes, 12 pruned nodes, max_depth=5\u001b[0m\n",
      "\u001b[34m[161]#011train-error:0.084667#011validation-error:0.1387\u001b[0m\n",
      "\u001b[34m[17:54:52] src/tree/updater_prune.cc:74: tree pruning end, 1 roots, 14 extra nodes, 10 pruned nodes, max_depth=5\u001b[0m\n",
      "\u001b[34m[162]#011train-error:0.084333#011validation-error:0.139\u001b[0m\n",
      "\u001b[34m[17:54:53] src/tree/updater_prune.cc:74: tree pruning end, 1 roots, 16 extra nodes, 14 pruned nodes, max_depth=5\u001b[0m\n",
      "\u001b[34m[163]#011train-error:0.084067#011validation-error:0.1386\u001b[0m\n",
      "\u001b[34m[17:54:55] src/tree/updater_prune.cc:74: tree pruning end, 1 roots, 20 extra nodes, 10 pruned nodes, max_depth=5\u001b[0m\n",
      "\u001b[34m[164]#011train-error:0.083267#011validation-error:0.1382\u001b[0m\n",
      "\u001b[34m[17:54:56] src/tree/updater_prune.cc:74: tree pruning end, 1 roots, 12 extra nodes, 8 pruned nodes, max_depth=5\u001b[0m\n",
      "\u001b[34m[165]#011train-error:0.083#011validation-error:0.1383\u001b[0m\n",
      "\u001b[34m[17:54:57] src/tree/updater_prune.cc:74: tree pruning end, 1 roots, 14 extra nodes, 16 pruned nodes, max_depth=5\u001b[0m\n",
      "\u001b[34m[166]#011train-error:0.083333#011validation-error:0.1384\u001b[0m\n",
      "\u001b[34m[17:54:59] src/tree/updater_prune.cc:74: tree pruning end, 1 roots, 30 extra nodes, 10 pruned nodes, max_depth=5\u001b[0m\n",
      "\u001b[34m[167]#011train-error:0.082933#011validation-error:0.1386\u001b[0m\n",
      "\u001b[34m[17:55:00] src/tree/updater_prune.cc:74: tree pruning end, 1 roots, 14 extra nodes, 8 pruned nodes, max_depth=5\u001b[0m\n",
      "\u001b[34m[168]#011train-error:0.082533#011validation-error:0.1376\u001b[0m\n",
      "\u001b[34m[17:55:02] src/tree/updater_prune.cc:74: tree pruning end, 1 roots, 18 extra nodes, 8 pruned nodes, max_depth=5\u001b[0m\n",
      "\u001b[34m[169]#011train-error:0.0822#011validation-error:0.1381\u001b[0m\n",
      "\u001b[34m[17:55:03] src/tree/updater_prune.cc:74: tree pruning end, 1 roots, 26 extra nodes, 10 pruned nodes, max_depth=5\u001b[0m\n",
      "\u001b[34m[170]#011train-error:0.081333#011validation-error:0.1369\u001b[0m\n",
      "\u001b[34m[17:55:05] src/tree/updater_prune.cc:74: tree pruning end, 1 roots, 14 extra nodes, 10 pruned nodes, max_depth=5\u001b[0m\n",
      "\u001b[34m[171]#011train-error:0.081533#011validation-error:0.1375\u001b[0m\n",
      "\u001b[34m[17:55:06] src/tree/updater_prune.cc:74: tree pruning end, 1 roots, 10 extra nodes, 8 pruned nodes, max_depth=5\u001b[0m\n",
      "\u001b[34m[172]#011train-error:0.081133#011validation-error:0.138\u001b[0m\n",
      "\u001b[34m[17:55:08] src/tree/updater_prune.cc:74: tree pruning end, 1 roots, 18 extra nodes, 4 pruned nodes, max_depth=5\u001b[0m\n",
      "\u001b[34m[173]#011train-error:0.080067#011validation-error:0.1377\u001b[0m\n",
      "\u001b[34m[17:55:09] src/tree/updater_prune.cc:74: tree pruning end, 1 roots, 10 extra nodes, 10 pruned nodes, max_depth=5\u001b[0m\n",
      "\u001b[34m[174]#011train-error:0.080133#011validation-error:0.1374\u001b[0m\n",
      "\u001b[34m[17:55:10] src/tree/updater_prune.cc:74: tree pruning end, 1 roots, 12 extra nodes, 2 pruned nodes, max_depth=5\u001b[0m\n",
      "\u001b[34m[175]#011train-error:0.0794#011validation-error:0.137\u001b[0m\n",
      "\u001b[34m[17:55:12] src/tree/updater_prune.cc:74: tree pruning end, 1 roots, 10 extra nodes, 2 pruned nodes, max_depth=5\u001b[0m\n",
      "\u001b[34m[176]#011train-error:0.079533#011validation-error:0.1367\u001b[0m\n",
      "\u001b[34m[17:55:13] src/tree/updater_prune.cc:74: tree pruning end, 1 roots, 18 extra nodes, 16 pruned nodes, max_depth=5\u001b[0m\n",
      "\u001b[34m[177]#011train-error:0.078867#011validation-error:0.1368\u001b[0m\n",
      "\u001b[34m[17:55:14] src/tree/updater_prune.cc:74: tree pruning end, 1 roots, 14 extra nodes, 14 pruned nodes, max_depth=5\u001b[0m\n",
      "\u001b[34m[178]#011train-error:0.078467#011validation-error:0.1359\u001b[0m\n",
      "\u001b[34m[17:55:16] src/tree/updater_prune.cc:74: tree pruning end, 1 roots, 12 extra nodes, 6 pruned nodes, max_depth=5\u001b[0m\n",
      "\u001b[34m[179]#011train-error:0.078267#011validation-error:0.136\u001b[0m\n",
      "\u001b[34m[17:55:17] src/tree/updater_prune.cc:74: tree pruning end, 1 roots, 12 extra nodes, 18 pruned nodes, max_depth=5\u001b[0m\n",
      "\u001b[34m[180]#011train-error:0.079133#011validation-error:0.136\u001b[0m\n"
     ]
    },
    {
     "name": "stdout",
     "output_type": "stream",
     "text": [
      "\u001b[34m[17:55:18] src/tree/updater_prune.cc:74: tree pruning end, 1 roots, 12 extra nodes, 8 pruned nodes, max_depth=5\u001b[0m\n",
      "\u001b[34m[181]#011train-error:0.079067#011validation-error:0.1362\u001b[0m\n",
      "\u001b[34m[17:55:20] src/tree/updater_prune.cc:74: tree pruning end, 1 roots, 12 extra nodes, 10 pruned nodes, max_depth=5\u001b[0m\n",
      "\u001b[34m[182]#011train-error:0.0788#011validation-error:0.1361\u001b[0m\n",
      "\u001b[34m[17:55:21] src/tree/updater_prune.cc:74: tree pruning end, 1 roots, 10 extra nodes, 10 pruned nodes, max_depth=5\u001b[0m\n",
      "\u001b[34m[183]#011train-error:0.078467#011validation-error:0.1358\u001b[0m\n",
      "\u001b[34m[17:55:23] src/tree/updater_prune.cc:74: tree pruning end, 1 roots, 10 extra nodes, 4 pruned nodes, max_depth=5\u001b[0m\n",
      "\u001b[34m[184]#011train-error:0.0788#011validation-error:0.136\u001b[0m\n",
      "\u001b[34m[17:55:24] src/tree/updater_prune.cc:74: tree pruning end, 1 roots, 10 extra nodes, 6 pruned nodes, max_depth=5\u001b[0m\n",
      "\u001b[34m[185]#011train-error:0.078467#011validation-error:0.1363\u001b[0m\n",
      "\u001b[34m[17:55:25] src/tree/updater_prune.cc:74: tree pruning end, 1 roots, 10 extra nodes, 4 pruned nodes, max_depth=5\u001b[0m\n",
      "\u001b[34m[186]#011train-error:0.078333#011validation-error:0.1359\u001b[0m\n",
      "\u001b[34m[17:55:27] src/tree/updater_prune.cc:74: tree pruning end, 1 roots, 10 extra nodes, 2 pruned nodes, max_depth=5\u001b[0m\n",
      "\u001b[34m[187]#011train-error:0.0778#011validation-error:0.1355\u001b[0m\n",
      "\u001b[34m[17:55:28] src/tree/updater_prune.cc:74: tree pruning end, 1 roots, 12 extra nodes, 8 pruned nodes, max_depth=5\u001b[0m\n",
      "\u001b[34m[188]#011train-error:0.0778#011validation-error:0.1349\u001b[0m\n",
      "\u001b[34m[17:55:29] src/tree/updater_prune.cc:74: tree pruning end, 1 roots, 12 extra nodes, 6 pruned nodes, max_depth=5\u001b[0m\n",
      "\u001b[34m[189]#011train-error:0.077333#011validation-error:0.135\u001b[0m\n",
      "\u001b[34m[17:55:31] src/tree/updater_prune.cc:74: tree pruning end, 1 roots, 10 extra nodes, 0 pruned nodes, max_depth=5\u001b[0m\n",
      "\u001b[34m[190]#011train-error:0.0774#011validation-error:0.1357\u001b[0m\n",
      "\u001b[34m[17:55:32] src/tree/updater_prune.cc:74: tree pruning end, 1 roots, 10 extra nodes, 0 pruned nodes, max_depth=5\u001b[0m\n",
      "\u001b[34m[191]#011train-error:0.076667#011validation-error:0.1352\u001b[0m\n",
      "\u001b[34m[17:55:33] src/tree/updater_prune.cc:74: tree pruning end, 1 roots, 24 extra nodes, 8 pruned nodes, max_depth=5\u001b[0m\n",
      "\u001b[34m[192]#011train-error:0.0764#011validation-error:0.1343\u001b[0m\n",
      "\u001b[34m[17:55:35] src/tree/updater_prune.cc:74: tree pruning end, 1 roots, 12 extra nodes, 10 pruned nodes, max_depth=5\u001b[0m\n",
      "\u001b[34m[193]#011train-error:0.076267#011validation-error:0.1347\u001b[0m\n",
      "\u001b[34m[17:55:36] src/tree/updater_prune.cc:74: tree pruning end, 1 roots, 10 extra nodes, 0 pruned nodes, max_depth=5\u001b[0m\n",
      "\u001b[34m[194]#011train-error:0.076467#011validation-error:0.1346\u001b[0m\n",
      "\u001b[34m[17:55:37] src/tree/updater_prune.cc:74: tree pruning end, 1 roots, 10 extra nodes, 4 pruned nodes, max_depth=5\u001b[0m\n",
      "\u001b[34m[195]#011train-error:0.076333#011validation-error:0.1345\u001b[0m\n",
      "\u001b[34m[17:55:39] src/tree/updater_prune.cc:74: tree pruning end, 1 roots, 10 extra nodes, 10 pruned nodes, max_depth=5\u001b[0m\n",
      "\u001b[34m[196]#011train-error:0.076267#011validation-error:0.1343\u001b[0m\n",
      "\u001b[34m[17:55:40] src/tree/updater_prune.cc:74: tree pruning end, 1 roots, 10 extra nodes, 4 pruned nodes, max_depth=5\u001b[0m\n",
      "\u001b[34m[197]#011train-error:0.076267#011validation-error:0.1343\u001b[0m\n",
      "\u001b[34m[17:55:41] src/tree/updater_prune.cc:74: tree pruning end, 1 roots, 12 extra nodes, 4 pruned nodes, max_depth=5\u001b[0m\n",
      "\u001b[34m[198]#011train-error:0.076#011validation-error:0.1345\u001b[0m\n",
      "\u001b[34m[17:55:43] src/tree/updater_prune.cc:74: tree pruning end, 1 roots, 18 extra nodes, 6 pruned nodes, max_depth=5\u001b[0m\n",
      "\u001b[34m[199]#011train-error:0.0754#011validation-error:0.1345\u001b[0m\n",
      "\u001b[34m[17:55:44] src/tree/updater_prune.cc:74: tree pruning end, 1 roots, 16 extra nodes, 2 pruned nodes, max_depth=5\u001b[0m\n",
      "\u001b[34m[200]#011train-error:0.0754#011validation-error:0.1344\u001b[0m\n",
      "\u001b[34m[17:55:45] src/tree/updater_prune.cc:74: tree pruning end, 1 roots, 18 extra nodes, 10 pruned nodes, max_depth=5\u001b[0m\n",
      "\u001b[34m[201]#011train-error:0.075467#011validation-error:0.1347\u001b[0m\n",
      "\u001b[34m[17:55:47] src/tree/updater_prune.cc:74: tree pruning end, 1 roots, 14 extra nodes, 6 pruned nodes, max_depth=5\u001b[0m\n",
      "\u001b[34m[202]#011train-error:0.074867#011validation-error:0.1345\u001b[0m\n",
      "\u001b[34mStopping. Best iteration:\u001b[0m\n",
      "\u001b[34m[192]#011train-error:0.0764#011validation-error:0.1343\u001b[0m\n",
      "\n",
      "2022-01-30 17:56:09 Uploading - Uploading generated training model\n",
      "2022-01-30 17:56:09 Completed - Training job completed\n",
      "Training seconds: 348\n",
      "Billable seconds: 348\n"
     ]
    }
   ],
   "source": [
    "xgb.fit({'train': s3_input_train, 'validation': s3_input_validation})"
   ]
  },
  {
   "cell_type": "markdown",
   "metadata": {},
   "source": [
    "## Step 5: Testing the model\n",
    "\n",
    "Now that we've fit our XGBoost model, it's time to see how well it performs. To do this we will use SageMakers Batch Transform functionality. Batch Transform is a convenient way to perform inference on a large dataset in a way that is not realtime. That is, we don't necessarily need to use our model's results immediately and instead we can perform inference on a large number of samples. An example of this in industry might be performing an end of month report. This method of inference can also be useful to us as it means that we can perform inference on our entire test set. \n",
    "\n",
    "To perform a Batch Transformation we need to first create a transformer objects from our trained estimator object."
   ]
  },
  {
   "cell_type": "code",
   "execution_count": 25,
   "metadata": {},
   "outputs": [
    {
     "name": "stderr",
     "output_type": "stream",
     "text": [
      "Parameter image will be renamed to image_uri in SageMaker Python SDK v2.\n"
     ]
    }
   ],
   "source": [
    "xgb_transformer = xgb.transformer(instance_count = 1, instance_type = 'ml.m4.xlarge')"
   ]
  },
  {
   "cell_type": "markdown",
   "metadata": {},
   "source": [
    "Next we actually perform the transform job. When doing so we need to make sure to specify the type of data we are sending so that it is serialized correctly in the background. In our case we are providing our model with csv data so we specify `text/csv`. Also, if the test data that we have provided is too large to process all at once then we need to specify how the data file should be split up. Since each line is a single entry in our data set we tell SageMaker that it can split the input on each line."
   ]
  },
  {
   "cell_type": "code",
   "execution_count": 26,
   "metadata": {},
   "outputs": [],
   "source": [
    "xgb_transformer.transform(test_location, content_type='text/csv', split_type='Line')"
   ]
  },
  {
   "cell_type": "markdown",
   "metadata": {},
   "source": [
    "Currently the transform job is running but it is doing so in the background. Since we wish to wait until the transform job is done and we would like a bit of feedback we can run the `wait()` method."
   ]
  },
  {
   "cell_type": "code",
   "execution_count": 27,
   "metadata": {},
   "outputs": [
    {
     "name": "stdout",
     "output_type": "stream",
     "text": [
      "...............................\u001b[34mArguments: serve\u001b[0m\n",
      "\u001b[34m[2022-01-30 18:06:34 +0000] [1] [INFO] Starting gunicorn 19.9.0\u001b[0m\n",
      "\u001b[34m[2022-01-30 18:06:34 +0000] [1] [INFO] Listening at: http://0.0.0.0:8080 (1)\u001b[0m\n",
      "\u001b[34m[2022-01-30 18:06:34 +0000] [1] [INFO] Using worker: gevent\u001b[0m\n",
      "\u001b[34m[2022-01-30 18:06:34 +0000] [21] [INFO] Booting worker with pid: 21\u001b[0m\n",
      "\u001b[34m/opt/amazon/lib/python3.7/site-packages/gunicorn/workers/ggevent.py:65: MonkeyPatchWarning: Monkey-patching ssl after ssl has already been imported may lead to errors, including RecursionError on Python 3.6. It may also silently lead to incorrect behaviour on Python 3.7. Please monkey-patch earlier. See https://github.com/gevent/gevent/issues/1016. Modules that had direct imports (NOT patched): ['urllib3.util.ssl_ (/opt/amazon/lib/python3.7/site-packages/urllib3/util/ssl_.py)', 'urllib3.util (/opt/amazon/lib/python3.7/site-packages/urllib3/util/__init__.py)']. \n",
      "  monkey.patch_all(subprocess=True)\u001b[0m\n",
      "\u001b[34m[2022-01-30:18:06:34:INFO] Model loaded successfully for worker : 21\u001b[0m\n",
      "\u001b[34m[2022-01-30 18:06:34 +0000] [22] [INFO] Booting worker with pid: 22\u001b[0m\n",
      "\u001b[34m/opt/amazon/lib/python3.7/site-packages/gunicorn/workers/ggevent.py:65: MonkeyPatchWarning: Monkey-patching ssl after ssl has already been imported may lead to errors, including RecursionError on Python 3.6. It may also silently lead to incorrect behaviour on Python 3.7. Please monkey-patch earlier. See https://github.com/gevent/gevent/issues/1016. Modules that had direct imports (NOT patched): ['urllib3.util.ssl_ (/opt/amazon/lib/python3.7/site-packages/urllib3/util/ssl_.py)', 'urllib3.util (/opt/amazon/lib/python3.7/site-packages/urllib3/util/__init__.py)']. \n",
      "  monkey.patch_all(subprocess=True)\u001b[0m\n",
      "\u001b[34m[2022-01-30:18:06:34:INFO] Model loaded successfully for worker : 22\u001b[0m\n",
      "\u001b[34m[2022-01-30 18:06:34 +0000] [23] [INFO] Booting worker with pid: 23\u001b[0m\n",
      "\u001b[34m/opt/amazon/lib/python3.7/site-packages/gunicorn/workers/ggevent.py:65: MonkeyPatchWarning: Monkey-patching ssl after ssl has already been imported may lead to errors, including RecursionError on Python 3.6. It may also silently lead to incorrect behaviour on Python 3.7. Please monkey-patch earlier. See https://github.com/gevent/gevent/issues/1016. Modules that had direct imports (NOT patched): ['urllib3.util.ssl_ (/opt/amazon/lib/python3.7/site-packages/urllib3/util/ssl_.py)', 'urllib3.util (/opt/amazon/lib/python3.7/site-packages/urllib3/util/__init__.py)']. \n",
      "  monkey.patch_all(subprocess=True)\u001b[0m\n",
      "\u001b[34m[2022-01-30:18:06:34:INFO] Model loaded successfully for worker : 23\u001b[0m\n",
      "\u001b[34m[2022-01-30 18:06:34 +0000] [24] [INFO] Booting worker with pid: 24\u001b[0m\n",
      "\u001b[34m/opt/amazon/lib/python3.7/site-packages/gunicorn/workers/ggevent.py:65: MonkeyPatchWarning: Monkey-patching ssl after ssl has already been imported may lead to errors, including RecursionError on Python 3.6. It may also silently lead to incorrect behaviour on Python 3.7. Please monkey-patch earlier. See https://github.com/gevent/gevent/issues/1016. Modules that had direct imports (NOT patched): ['urllib3.util.ssl_ (/opt/amazon/lib/python3.7/site-packages/urllib3/util/ssl_.py)', 'urllib3.util (/opt/amazon/lib/python3.7/site-packages/urllib3/util/__init__.py)']. \n",
      "  monkey.patch_all(subprocess=True)\u001b[0m\n",
      "\u001b[34m[2022-01-30:18:06:34:INFO] Model loaded successfully for worker : 24\u001b[0m\n",
      "\u001b[32m2022-01-30T18:06:37.964:[sagemaker logs]: MaxConcurrentTransforms=4, MaxPayloadInMB=6, BatchStrategy=MULTI_RECORD\u001b[0m\n",
      "\u001b[34m[2022-01-30:18:06:40:INFO] Sniff delimiter as ','\u001b[0m\n",
      "\u001b[34m[2022-01-30:18:06:40:INFO] Determined delimiter of CSV input is ','\u001b[0m\n",
      "\u001b[35m[2022-01-30:18:06:40:INFO] Sniff delimiter as ','\u001b[0m\n",
      "\u001b[35m[2022-01-30:18:06:40:INFO] Determined delimiter of CSV input is ','\u001b[0m\n",
      "\u001b[34m[2022-01-30:18:06:42:INFO] Sniff delimiter as ','\u001b[0m\n",
      "\u001b[34m[2022-01-30:18:06:42:INFO] Determined delimiter of CSV input is ','\u001b[0m\n",
      "\u001b[34m[2022-01-30:18:06:42:INFO] Sniff delimiter as ','\u001b[0m\n",
      "\u001b[34m[2022-01-30:18:06:42:INFO] Determined delimiter of CSV input is ','\u001b[0m\n",
      "\u001b[35m[2022-01-30:18:06:42:INFO] Sniff delimiter as ','\u001b[0m\n",
      "\u001b[35m[2022-01-30:18:06:42:INFO] Determined delimiter of CSV input is ','\u001b[0m\n",
      "\u001b[35m[2022-01-30:18:06:42:INFO] Sniff delimiter as ','\u001b[0m\n",
      "\u001b[35m[2022-01-30:18:06:42:INFO] Determined delimiter of CSV input is ','\u001b[0m\n",
      "\u001b[34m[2022-01-30:18:06:43:INFO] Sniff delimiter as ','\u001b[0m\n",
      "\u001b[35m[2022-01-30:18:06:43:INFO] Sniff delimiter as ','\u001b[0m\n",
      "\u001b[34m[2022-01-30:18:06:43:INFO] Determined delimiter of CSV input is ','\u001b[0m\n",
      "\u001b[35m[2022-01-30:18:06:43:INFO] Determined delimiter of CSV input is ','\u001b[0m\n",
      "\u001b[34m[2022-01-30:18:06:45:INFO] Sniff delimiter as ','\u001b[0m\n",
      "\u001b[34m[2022-01-30:18:06:45:INFO] Determined delimiter of CSV input is ','\u001b[0m\n",
      "\u001b[34m[2022-01-30:18:06:45:INFO] Sniff delimiter as ','\u001b[0m\n",
      "\u001b[34m[2022-01-30:18:06:45:INFO] Determined delimiter of CSV input is ','\u001b[0m\n",
      "\u001b[35m[2022-01-30:18:06:45:INFO] Sniff delimiter as ','\u001b[0m\n",
      "\u001b[35m[2022-01-30:18:06:45:INFO] Determined delimiter of CSV input is ','\u001b[0m\n",
      "\u001b[35m[2022-01-30:18:06:45:INFO] Sniff delimiter as ','\u001b[0m\n",
      "\u001b[35m[2022-01-30:18:06:45:INFO] Determined delimiter of CSV input is ','\u001b[0m\n",
      "\u001b[34m[2022-01-30:18:06:47:INFO] Sniff delimiter as ','\u001b[0m\n",
      "\u001b[34m[2022-01-30:18:06:47:INFO] Determined delimiter of CSV input is ','\u001b[0m\n",
      "\u001b[34m[2022-01-30:18:06:47:INFO] Sniff delimiter as ','\u001b[0m\n",
      "\u001b[34m[2022-01-30:18:06:47:INFO] Determined delimiter of CSV input is ','\u001b[0m\n",
      "\u001b[34m[2022-01-30:18:06:47:INFO] Sniff delimiter as ','\u001b[0m\n",
      "\u001b[34m[2022-01-30:18:06:47:INFO] Determined delimiter of CSV input is ','\u001b[0m\n",
      "\u001b[35m[2022-01-30:18:06:47:INFO] Sniff delimiter as ','\u001b[0m\n",
      "\u001b[35m[2022-01-30:18:06:47:INFO] Determined delimiter of CSV input is ','\u001b[0m\n",
      "\u001b[35m[2022-01-30:18:06:47:INFO] Sniff delimiter as ','\u001b[0m\n",
      "\u001b[35m[2022-01-30:18:06:47:INFO] Determined delimiter of CSV input is ','\u001b[0m\n",
      "\u001b[35m[2022-01-30:18:06:47:INFO] Sniff delimiter as ','\u001b[0m\n",
      "\u001b[35m[2022-01-30:18:06:47:INFO] Determined delimiter of CSV input is ','\u001b[0m\n",
      "\u001b[34m[2022-01-30:18:06:48:INFO] Sniff delimiter as ','\u001b[0m\n",
      "\u001b[34m[2022-01-30:18:06:48:INFO] Determined delimiter of CSV input is ','\u001b[0m\n",
      "\u001b[35m[2022-01-30:18:06:48:INFO] Sniff delimiter as ','\u001b[0m\n",
      "\u001b[35m[2022-01-30:18:06:48:INFO] Determined delimiter of CSV input is ','\u001b[0m\n",
      "\u001b[34m[2022-01-30:18:06:51:INFO] Sniff delimiter as ','\u001b[0m\n",
      "\u001b[34m[2022-01-30:18:06:51:INFO] Determined delimiter of CSV input is ','\u001b[0m\n",
      "\u001b[34m[2022-01-30:18:06:51:INFO] Sniff delimiter as ','\u001b[0m\n",
      "\u001b[34m[2022-01-30:18:06:51:INFO] Determined delimiter of CSV input is ','\u001b[0m\n",
      "\u001b[35m[2022-01-30:18:06:51:INFO] Sniff delimiter as ','\u001b[0m\n",
      "\u001b[35m[2022-01-30:18:06:51:INFO] Determined delimiter of CSV input is ','\u001b[0m\n",
      "\u001b[35m[2022-01-30:18:06:51:INFO] Sniff delimiter as ','\u001b[0m\n",
      "\u001b[35m[2022-01-30:18:06:51:INFO] Determined delimiter of CSV input is ','\u001b[0m\n",
      "\u001b[34m[2022-01-30:18:06:52:INFO] Sniff delimiter as ','\u001b[0m\n",
      "\u001b[34m[2022-01-30:18:06:52:INFO] Determined delimiter of CSV input is ','\u001b[0m\n",
      "\u001b[35m[2022-01-30:18:06:52:INFO] Sniff delimiter as ','\u001b[0m\n",
      "\u001b[35m[2022-01-30:18:06:52:INFO] Determined delimiter of CSV input is ','\u001b[0m\n",
      "\u001b[34m[2022-01-30:18:06:55:INFO] Sniff delimiter as ','\u001b[0m\n",
      "\u001b[34m[2022-01-30:18:06:55:INFO] Determined delimiter of CSV input is ','\u001b[0m\n",
      "\u001b[34m[2022-01-30:18:06:55:INFO] Sniff delimiter as ','\u001b[0m\n",
      "\u001b[34m[2022-01-30:18:06:55:INFO] Determined delimiter of CSV input is ','\u001b[0m\n",
      "\u001b[34m[2022-01-30:18:06:55:INFO] Sniff delimiter as ','\u001b[0m\n",
      "\u001b[34m[2022-01-30:18:06:55:INFO] Determined delimiter of CSV input is ','\u001b[0m\n",
      "\u001b[34m[2022-01-30:18:06:55:INFO] Sniff delimiter as ','\u001b[0m\n",
      "\u001b[34m[2022-01-30:18:06:55:INFO] Determined delimiter of CSV input is ','\u001b[0m\n",
      "\u001b[35m[2022-01-30:18:06:55:INFO] Sniff delimiter as ','\u001b[0m\n",
      "\u001b[35m[2022-01-30:18:06:55:INFO] Determined delimiter of CSV input is ','\u001b[0m\n",
      "\u001b[35m[2022-01-30:18:06:55:INFO] Sniff delimiter as ','\u001b[0m\n",
      "\u001b[35m[2022-01-30:18:06:55:INFO] Determined delimiter of CSV input is ','\u001b[0m\n",
      "\u001b[35m[2022-01-30:18:06:55:INFO] Sniff delimiter as ','\u001b[0m\n",
      "\u001b[35m[2022-01-30:18:06:55:INFO] Determined delimiter of CSV input is ','\u001b[0m\n",
      "\u001b[35m[2022-01-30:18:06:55:INFO] Sniff delimiter as ','\u001b[0m\n",
      "\u001b[35m[2022-01-30:18:06:55:INFO] Determined delimiter of CSV input is ','\u001b[0m\n",
      "\u001b[34m[2022-01-30:18:07:03:INFO] Sniff delimiter as ','\u001b[0m\n",
      "\u001b[34m[2022-01-30:18:07:03:INFO] Determined delimiter of CSV input is ','\u001b[0m\n",
      "\u001b[35m[2022-01-30:18:07:03:INFO] Sniff delimiter as ','\u001b[0m\n",
      "\u001b[35m[2022-01-30:18:07:03:INFO] Determined delimiter of CSV input is ','\u001b[0m\n",
      "\u001b[34m[2022-01-30:18:07:03:INFO] Sniff delimiter as ','\u001b[0m\n",
      "\u001b[34m[2022-01-30:18:07:03:INFO] Determined delimiter of CSV input is ','\u001b[0m\n",
      "\u001b[34m[2022-01-30:18:07:03:INFO] Sniff delimiter as ','\u001b[0m\n",
      "\u001b[34m[2022-01-30:18:07:03:INFO] Determined delimiter of CSV input is ','\u001b[0m\n",
      "\u001b[34m[2022-01-30:18:07:03:INFO] Sniff delimiter as ','\u001b[0m\n",
      "\u001b[34m[2022-01-30:18:07:03:INFO] Determined delimiter of CSV input is ','\u001b[0m\n",
      "\u001b[35m[2022-01-30:18:07:03:INFO] Sniff delimiter as ','\u001b[0m\n",
      "\u001b[35m[2022-01-30:18:07:03:INFO] Determined delimiter of CSV input is ','\u001b[0m\n",
      "\u001b[35m[2022-01-30:18:07:03:INFO] Sniff delimiter as ','\u001b[0m\n",
      "\u001b[35m[2022-01-30:18:07:03:INFO] Determined delimiter of CSV input is ','\u001b[0m\n",
      "\u001b[35m[2022-01-30:18:07:03:INFO] Sniff delimiter as ','\u001b[0m\n",
      "\u001b[35m[2022-01-30:18:07:03:INFO] Determined delimiter of CSV input is ','\u001b[0m\n",
      "\u001b[34m[2022-01-30:18:07:06:INFO] Sniff delimiter as ','\u001b[0m\n",
      "\u001b[34m[2022-01-30:18:07:06:INFO] Determined delimiter of CSV input is ','\u001b[0m\n",
      "\u001b[34m[2022-01-30:18:07:07:INFO] Sniff delimiter as ','\u001b[0m\n",
      "\u001b[34m[2022-01-30:18:07:07:INFO] Determined delimiter of CSV input is ','\u001b[0m\n",
      "\u001b[35m[2022-01-30:18:07:06:INFO] Sniff delimiter as ','\u001b[0m\n",
      "\u001b[35m[2022-01-30:18:07:06:INFO] Determined delimiter of CSV input is ','\u001b[0m\n",
      "\u001b[35m[2022-01-30:18:07:07:INFO] Sniff delimiter as ','\u001b[0m\n",
      "\u001b[35m[2022-01-30:18:07:07:INFO] Determined delimiter of CSV input is ','\u001b[0m\n",
      "\u001b[34m[2022-01-30:18:07:07:INFO] Sniff delimiter as ','\u001b[0m\n",
      "\u001b[34m[2022-01-30:18:07:07:INFO] Determined delimiter of CSV input is ','\u001b[0m\n",
      "\u001b[34m[2022-01-30:18:07:07:INFO] Sniff delimiter as ','\u001b[0m\n",
      "\u001b[34m[2022-01-30:18:07:07:INFO] Determined delimiter of CSV input is ','\u001b[0m\n",
      "\u001b[35m[2022-01-30:18:07:07:INFO] Sniff delimiter as ','\u001b[0m\n",
      "\u001b[35m[2022-01-30:18:07:07:INFO] Determined delimiter of CSV input is ','\u001b[0m\n",
      "\u001b[35m[2022-01-30:18:07:07:INFO] Sniff delimiter as ','\u001b[0m\n",
      "\u001b[35m[2022-01-30:18:07:07:INFO] Determined delimiter of CSV input is ','\u001b[0m\n",
      "\u001b[34m[2022-01-30:18:07:10:INFO] Sniff delimiter as ','\u001b[0m\n",
      "\u001b[34m[2022-01-30:18:07:10:INFO] Determined delimiter of CSV input is ','\u001b[0m\n",
      "\u001b[34m[2022-01-30:18:07:10:INFO] Sniff delimiter as ','\u001b[0m\n",
      "\u001b[34m[2022-01-30:18:07:10:INFO] Determined delimiter of CSV input is ','\u001b[0m\n",
      "\u001b[35m[2022-01-30:18:07:10:INFO] Sniff delimiter as ','\u001b[0m\n",
      "\u001b[35m[2022-01-30:18:07:10:INFO] Determined delimiter of CSV input is ','\u001b[0m\n",
      "\u001b[35m[2022-01-30:18:07:10:INFO] Sniff delimiter as ','\u001b[0m\n",
      "\u001b[35m[2022-01-30:18:07:10:INFO] Determined delimiter of CSV input is ','\u001b[0m\n"
     ]
    },
    {
     "name": "stdout",
     "output_type": "stream",
     "text": [
      "\u001b[34m[2022-01-30:18:07:14:INFO] Sniff delimiter as ','\u001b[0m\n",
      "\u001b[34m[2022-01-30:18:07:14:INFO] Determined delimiter of CSV input is ','\u001b[0m\n",
      "\u001b[34m[2022-01-30:18:07:14:INFO] Sniff delimiter as ','\u001b[0m\n",
      "\u001b[34m[2022-01-30:18:07:14:INFO] Determined delimiter of CSV input is ','\u001b[0m\n",
      "\u001b[34m[2022-01-30:18:07:15:INFO] Sniff delimiter as ','\u001b[0m\n",
      "\u001b[34m[2022-01-30:18:07:15:INFO] Determined delimiter of CSV input is ','\u001b[0m\n",
      "\u001b[35m[2022-01-30:18:07:14:INFO] Sniff delimiter as ','\u001b[0m\n",
      "\u001b[35m[2022-01-30:18:07:14:INFO] Determined delimiter of CSV input is ','\u001b[0m\n",
      "\u001b[35m[2022-01-30:18:07:14:INFO] Sniff delimiter as ','\u001b[0m\n",
      "\u001b[35m[2022-01-30:18:07:14:INFO] Determined delimiter of CSV input is ','\u001b[0m\n",
      "\u001b[35m[2022-01-30:18:07:15:INFO] Sniff delimiter as ','\u001b[0m\n",
      "\u001b[35m[2022-01-30:18:07:15:INFO] Determined delimiter of CSV input is ','\u001b[0m\n",
      "\u001b[34m[2022-01-30:18:07:15:INFO] Sniff delimiter as ','\u001b[0m\n",
      "\u001b[35m[2022-01-30:18:07:15:INFO] Sniff delimiter as ','\u001b[0m\n",
      "\u001b[34m[2022-01-30:18:07:15:INFO] Determined delimiter of CSV input is ','\u001b[0m\n",
      "\u001b[35m[2022-01-30:18:07:15:INFO] Determined delimiter of CSV input is ','\u001b[0m\n",
      "\u001b[34m[2022-01-30:18:07:18:INFO] Sniff delimiter as ','\u001b[0m\n",
      "\u001b[34m[2022-01-30:18:07:18:INFO] Determined delimiter of CSV input is ','\u001b[0m\n",
      "\u001b[35m[2022-01-30:18:07:18:INFO] Sniff delimiter as ','\u001b[0m\n",
      "\u001b[35m[2022-01-30:18:07:18:INFO] Determined delimiter of CSV input is ','\u001b[0m\n",
      "\u001b[34m[2022-01-30:18:07:18:INFO] Sniff delimiter as ','\u001b[0m\n",
      "\u001b[34m[2022-01-30:18:07:18:INFO] Determined delimiter of CSV input is ','\u001b[0m\n",
      "\u001b[35m[2022-01-30:18:07:18:INFO] Sniff delimiter as ','\u001b[0m\n",
      "\u001b[35m[2022-01-30:18:07:18:INFO] Determined delimiter of CSV input is ','\u001b[0m\n",
      "\n"
     ]
    }
   ],
   "source": [
    "xgb_transformer.wait()"
   ]
  },
  {
   "cell_type": "markdown",
   "metadata": {},
   "source": [
    "Now the transform job has executed and the result, the estimated sentiment of each review, has been saved on S3. Since we would rather work on this file locally we can perform a bit of notebook magic to copy the file to the `data_dir`."
   ]
  },
  {
   "cell_type": "code",
   "execution_count": 28,
   "metadata": {},
   "outputs": [
    {
     "name": "stdout",
     "output_type": "stream",
     "text": [
      "Completed 256.0 KiB/474.3 KiB (2.1 MiB/s) with 1 file(s) remaining\r",
      "Completed 474.3 KiB/474.3 KiB (3.8 MiB/s) with 1 file(s) remaining\r",
      "download: s3://sagemaker-us-east-1-963845225402/xgboost-2022-01-30-18-01-28-797/test.csv.out to ../data/sentiment_web_app/test.csv.out\r\n"
     ]
    }
   ],
   "source": [
    "!aws s3 cp --recursive $xgb_transformer.output_path $data_dir"
   ]
  },
  {
   "cell_type": "markdown",
   "metadata": {},
   "source": [
    "The last step is now to read in the output from our model, convert the output to something a little more usable, in this case we want the sentiment to be either `1` (positive) or `0` (negative), and then compare to the ground truth labels."
   ]
  },
  {
   "cell_type": "code",
   "execution_count": 29,
   "metadata": {},
   "outputs": [],
   "source": [
    "predictions = pd.read_csv(os.path.join(data_dir, 'test.csv.out'), header=None)\n",
    "predictions = [round(num) for num in predictions.squeeze().values]"
   ]
  },
  {
   "cell_type": "code",
   "execution_count": 30,
   "metadata": {},
   "outputs": [
    {
     "data": {
      "text/plain": [
       "0.86176"
      ]
     },
     "execution_count": 30,
     "metadata": {},
     "output_type": "execute_result"
    }
   ],
   "source": [
    "from sklearn.metrics import accuracy_score\n",
    "accuracy_score(test_y, predictions)"
   ]
  },
  {
   "cell_type": "markdown",
   "metadata": {},
   "source": [
    "## Step 6: Deploying the model\n",
    "\n",
    "Once we construct and fit our model, SageMaker stores the resulting model artifacts and we can use those to deploy an endpoint (inference code). To see this, look in the SageMaker console and you should see that a model has been created along with a link to the S3 location where the model artifacts have been stored.\n",
    "\n",
    "Deploying an endpoint is a lot like training the model with a few important differences. The first is that a deployed model doesn't change the model artifacts, so as you send it various testing instances the model won't change. Another difference is that since we aren't performing a fixed computation, as we were in the training step or while performing a batch transform, the compute instance that gets started stays running until we tell it to stop. This is important to note as if we forget and leave it running we will be charged the entire time.\n",
    "\n",
    "In other words **If you are no longer using a deployed endpoint, shut it down!**"
   ]
  },
  {
   "cell_type": "code",
   "execution_count": 31,
   "metadata": {},
   "outputs": [
    {
     "name": "stderr",
     "output_type": "stream",
     "text": [
      "Parameter image will be renamed to image_uri in SageMaker Python SDK v2.\n",
      "Using already existing model: xgboost-2022-01-30-17-47-43-340\n"
     ]
    },
    {
     "name": "stdout",
     "output_type": "stream",
     "text": [
      "------!"
     ]
    }
   ],
   "source": [
    "xgb_predictor = xgb.deploy(initial_instance_count = 1, instance_type = 'ml.m4.xlarge')"
   ]
  },
  {
   "cell_type": "markdown",
   "metadata": {},
   "source": [
    "### Testing the model (again)\n",
    "\n",
    "Now that we have deployed our endpoint, we can send the testing data to it and get back the inference results. We already did this earlier using the batch transform functionality of SageMaker, however, we will test our model again using the newly deployed endpoint so that we can make sure that it works properly and to get a bit of a feel for how the endpoint works.\n",
    "\n",
    "When using the created endpoint it is important to know that we are limited in the amount of information we can send in each call so we need to break the testing data up into chunks and then send each chunk. Also, we need to serialize our data before we send it to the endpoint to ensure that our data is transmitted properly. Fortunately, SageMaker can do the serialization part for us provided we tell it the format of our data."
   ]
  },
  {
   "cell_type": "code",
   "execution_count": 32,
   "metadata": {},
   "outputs": [],
   "source": [
    "from sagemaker.predictor import csv_serializer\n",
    "\n",
    "# We need to tell the endpoint what format the data we are sending is in so that SageMaker can perform the serialization.\n",
    "xgb_predictor.content_type = 'text/csv'\n",
    "xgb_predictor.serializer = csv_serializer"
   ]
  },
  {
   "cell_type": "code",
   "execution_count": 33,
   "metadata": {},
   "outputs": [],
   "source": [
    "# We split the data into chunks and send each chunk seperately, accumulating the results.\n",
    "\n",
    "def predict(data, rows=512):\n",
    "    split_array = np.array_split(data, int(data.shape[0] / float(rows) + 1))\n",
    "    predictions = ''\n",
    "    for array in split_array:\n",
    "        predictions = ','.join([predictions, xgb_predictor.predict(array).decode('utf-8')])\n",
    "    \n",
    "    return np.fromstring(predictions[1:], sep=',')"
   ]
  },
  {
   "cell_type": "code",
   "execution_count": 34,
   "metadata": {},
   "outputs": [],
   "source": [
    "test_X = pd.read_csv(os.path.join(data_dir, 'test.csv'), header=None).values\n",
    "\n",
    "predictions = predict(test_X)\n",
    "predictions = [round(num) for num in predictions]"
   ]
  },
  {
   "cell_type": "markdown",
   "metadata": {},
   "source": [
    "Lastly, we check to see what the accuracy of our model is."
   ]
  },
  {
   "cell_type": "code",
   "execution_count": 35,
   "metadata": {},
   "outputs": [
    {
     "data": {
      "text/plain": [
       "0.86176"
      ]
     },
     "execution_count": 35,
     "metadata": {},
     "output_type": "execute_result"
    }
   ],
   "source": [
    "from sklearn.metrics import accuracy_score\n",
    "accuracy_score(test_y, predictions)"
   ]
  },
  {
   "cell_type": "markdown",
   "metadata": {},
   "source": [
    "And the results here should agree with the model testing that we did earlier using the batch transform job.\n",
    "\n",
    "### Cleaning up\n",
    "\n",
    "Now that we've determined that deploying our model works as expected, we are going to shut it down. Remember that the longer the endpoint is left running, the greater the cost and since we have a bit more work to do before we are able to use our endpoint with our simple web app, we should shut everything down."
   ]
  },
  {
   "cell_type": "code",
   "execution_count": 36,
   "metadata": {},
   "outputs": [],
   "source": [
    "xgb_predictor.delete_endpoint()"
   ]
  },
  {
   "cell_type": "markdown",
   "metadata": {},
   "source": [
    "## Step 7: Putting our model to work\n",
    "\n",
    "As we've mentioned a few times now, our goal is to have our model deployed and then access it using a very simple web app. The intent is for this web app to take some user submitted data (a review), send it off to our endpoint (the model) and then display the result.\n",
    "\n",
    "However, there is a small catch. Currently the only way we can access the endpoint to send it data is using the SageMaker API. We can, if we wish, expose the actual URL that our model's endpoint is receiving data from, however, if we just send it data ourselves we will not get anything in return. This is because the endpoint created by SageMaker requires the entity accessing it have the correct permissions. So, we would need to somehow authenticate our web app with AWS.\n",
    "\n",
    "Having a website that authenticates to AWS seems a bit beyond the scope of this lesson so we will opt for an alternative approach. Namely, we will create a new endpoint which does not require authentication and which acts as a proxy for the SageMaker endpoint.\n",
    "\n",
    "As an additional constraint, we will try to avoid doing any data processing in the web app itself. Remember that when we constructed and tested our model we started with a movie review, then we simplified it by removing any html formatting and punctuation, then we constructed a bag of words embedding and the resulting vector is what we sent to our model. All of this needs to be done to our user input as well.\n",
    "\n",
    "Fortunately we can do all of this data processing in the backend, using Amazon's Lambda service.\n",
    "\n",
    "<img src=\"Web App Diagram.svg\">\n",
    "\n",
    "The diagram above gives an overview of how the various services will work together. On the far right is the model which we trained above and which will be deployed using SageMaker. On the far left is our web app that collects a user's movie review, sends it off and expects a positive or negative sentiment in return.\n",
    "\n",
    "In the middle is where some of the magic happens. We will construct a Lambda function, which you can think of as a straightforward Python function that can be executed whenever a specified event occurs. This Python function will do the data processing we need to perform on a user submitted review. In addition, we will give this function permission to send and recieve data from a SageMaker endpoint.\n",
    "\n",
    "Lastly, the method we will use to execute the Lambda function is a new endpoint that we will create using API Gateway. This endpoint will be a url that listens for data to be sent to it. Once it gets some data it will pass that data on to the Lambda function and then return whatever the Lambda function returns. Essentially it will act as an interface that lets our web app communicate with the Lambda function.\n",
    "\n",
    "### Processing a single review\n",
    "\n",
    "For now, suppose we are given a movie review by our user in the form of a string, like so:"
   ]
  },
  {
   "cell_type": "code",
   "execution_count": 37,
   "metadata": {},
   "outputs": [],
   "source": [
    "test_review = \"Nothing but a disgusting materialistic pageant of glistening abed remote control greed zombies, totally devoid of any heart or heat. A romantic comedy that has zero romantic chemestry and zero laughs!\""
   ]
  },
  {
   "cell_type": "markdown",
   "metadata": {},
   "source": [
    "How do we go from this string to the bag of words feature vector that is expected by our model?\n",
    "\n",
    "If we recall at the beginning of this notebook, the first step is to remove any unnecessary characters using the `review_to_words` method. Remember that we intentionally did this in a very simplistic way. This is because we are going to have to copy this method to our (eventual) Lambda function (we will go into more detail later) and this means it needs to be rather simplistic."
   ]
  },
  {
   "cell_type": "code",
   "execution_count": 38,
   "metadata": {},
   "outputs": [
    {
     "name": "stdout",
     "output_type": "stream",
     "text": [
      "nothing but a disgusting materialistic pageant of glistening abed remote control greed zombies totally devoid of any heart or heat a romantic comedy that has zero romantic chemestry and zero laughs\n"
     ]
    }
   ],
   "source": [
    "test_words = review_to_words(test_review)\n",
    "print(test_words)"
   ]
  },
  {
   "cell_type": "markdown",
   "metadata": {},
   "source": [
    "Next, we need to construct a bag of words embedding of the `test_words` string. To do this, remember that a bag of words embedding uses a `vocabulary` consisting of the most frequently appearing words in a set of documents. Then, for each word in the vocabulary we record the number of times that word appears in `test_words`. We constructed the `vocabulary` earlier using the training set for our problem so encoding `test_words` is relatively straightforward."
   ]
  },
  {
   "cell_type": "code",
   "execution_count": 39,
   "metadata": {},
   "outputs": [],
   "source": [
    "def bow_encoding(words, vocabulary):\n",
    "    bow = [0] * len(vocabulary) # Start by setting the count for each word in the vocabulary to zero.\n",
    "    for word in words.split():  # For each word in the string\n",
    "        if word in vocabulary:  # If the word is one that occurs in the vocabulary, increase its count.\n",
    "            bow[vocabulary[word]] += 1\n",
    "    return bow"
   ]
  },
  {
   "cell_type": "code",
   "execution_count": 40,
   "metadata": {},
   "outputs": [
    {
     "name": "stdout",
     "output_type": "stream",
     "text": [
      "[0, 0, 0, 0, 0, 0, 0, 0, 0, 0, 0, 0, 0, 0, 0, 0, 0, 0, 0, 0, 0, 0, 0, 0, 0, 0, 0, 0, 0, 0, 0, 0, 0, 0, 0, 0, 0, 0, 0, 0, 0, 0, 0, 0, 0, 0, 0, 0, 0, 0, 0, 0, 0, 0, 0, 0, 0, 0, 0, 0, 0, 0, 0, 0, 0, 0, 0, 0, 0, 0, 0, 0, 0, 0, 0, 0, 0, 0, 0, 0, 0, 0, 0, 0, 0, 0, 0, 0, 0, 0, 0, 0, 0, 0, 0, 0, 0, 0, 0, 0, 0, 0, 0, 0, 0, 0, 0, 0, 0, 0, 0, 0, 0, 0, 0, 0, 0, 0, 0, 0, 0, 0, 0, 0, 0, 0, 0, 0, 0, 0, 0, 0, 0, 0, 0, 0, 0, 0, 0, 0, 0, 0, 0, 0, 0, 0, 0, 0, 0, 0, 0, 0, 0, 0, 0, 0, 0, 0, 0, 0, 0, 0, 0, 0, 0, 0, 0, 0, 0, 0, 0, 0, 0, 0, 0, 0, 0, 0, 0, 0, 0, 0, 0, 0, 0, 0, 0, 0, 0, 0, 0, 0, 0, 0, 0, 0, 0, 0, 0, 0, 0, 0, 0, 0, 0, 0, 0, 0, 0, 0, 0, 0, 0, 0, 0, 0, 0, 0, 0, 0, 0, 0, 0, 0, 0, 0, 1, 0, 0, 0, 0, 0, 0, 0, 0, 0, 0, 0, 0, 0, 0, 0, 0, 0, 0, 0, 0, 0, 0, 0, 0, 0, 0, 0, 0, 0, 1, 0, 0, 0, 0, 0, 0, 0, 0, 0, 0, 0, 0, 0, 0, 0, 0, 0, 0, 0, 0, 0, 0, 0, 0, 0, 0, 0, 0, 0, 0, 0, 0, 0, 0, 0, 0, 0, 0, 0, 0, 0, 0, 0, 0, 0, 0, 0, 0, 0, 0, 0, 0, 0, 0, 0, 0, 0, 0, 0, 0, 0, 0, 0, 0, 0, 0, 0, 0, 0, 0, 0, 0, 0, 0, 0, 0, 0, 0, 0, 0, 0, 0, 0, 0, 0, 0, 0, 0, 0, 0, 0, 0, 0, 0, 0, 0, 0, 0, 0, 0, 0, 0, 0, 0, 0, 0, 0, 0, 0, 0, 0, 0, 0, 0, 0, 0, 0, 0, 0, 0, 0, 0, 0, 0, 0, 0, 0, 0, 0, 0, 0, 0, 0, 0, 0, 0, 0, 0, 0, 0, 0, 0, 0, 0, 0, 0, 0, 0, 0, 0, 0, 0, 0, 0, 0, 0, 0, 0, 0, 0, 0, 0, 0, 0, 0, 0, 0, 0, 0, 0, 0, 0, 0, 0, 0, 0, 0, 0, 0, 0, 0, 0, 0, 0, 0, 0, 0, 0, 0, 0, 0, 0, 0, 0, 0, 0, 0, 0, 0, 0, 0, 0, 0, 0, 0, 0, 0, 0, 0, 0, 0, 0, 0, 0, 0, 0, 0, 0, 0, 0, 0, 0, 0, 0, 0, 0, 0, 0, 0, 0, 0, 0, 0, 0, 0, 0, 0, 0, 0, 0, 0, 0, 0, 0, 0, 0, 0, 0, 0, 0, 0, 0, 0, 0, 0, 0, 0, 0, 0, 0, 0, 0, 0, 0, 0, 0, 0, 0, 0, 0, 0, 0, 0, 0, 0, 0, 0, 0, 0, 0, 0, 0, 0, 0, 0, 0, 0, 0, 0, 0, 0, 0, 0, 0, 0, 0, 0, 0, 0, 0, 0, 0, 0, 0, 0, 0, 0, 0, 0, 0, 0, 0, 0, 0, 0, 0, 0, 0, 0, 0, 0, 0, 0, 0, 0, 0, 0, 0, 0, 0, 0, 0, 0, 0, 0, 0, 0, 0, 0, 0, 0, 0, 0, 0, 0, 0, 0, 0, 0, 0, 0, 0, 0, 0, 0, 0, 0, 0, 0, 0, 0, 0, 0, 0, 0, 0, 0, 0, 0, 0, 0, 0, 0, 0, 0, 0, 0, 0, 0, 1, 0, 0, 0, 0, 0, 0, 0, 0, 0, 0, 0, 0, 0, 0, 0, 0, 0, 0, 0, 0, 0, 0, 0, 0, 0, 0, 0, 0, 0, 0, 0, 0, 0, 0, 0, 0, 0, 0, 0, 0, 0, 0, 0, 0, 0, 0, 0, 0, 0, 0, 0, 0, 0, 0, 0, 0, 0, 0, 0, 0, 0, 0, 0, 0, 0, 0, 0, 0, 0, 0, 0, 0, 0, 0, 0, 0, 0, 0, 0, 0, 0, 0, 0, 0, 0, 0, 0, 0, 0, 0, 0, 0, 0, 0, 0, 0, 0, 0, 0, 0, 0, 0, 0, 0, 0, 0, 0, 0, 0, 0, 0, 0, 0, 0, 0, 0, 0, 0, 0, 0, 0, 0, 0, 0, 0, 0, 0, 0, 0, 0, 0, 0, 0, 0, 0, 0, 0, 0, 0, 0, 0, 0, 0, 0, 0, 0, 0, 0, 0, 0, 0, 0, 0, 0, 0, 0, 0, 0, 0, 0, 0, 0, 0, 0, 0, 0, 0, 0, 0, 0, 0, 0, 0, 0, 0, 0, 0, 0, 0, 0, 0, 0, 0, 0, 0, 0, 0, 0, 0, 0, 0, 0, 0, 0, 0, 0, 0, 0, 0, 0, 0, 0, 0, 0, 0, 0, 0, 0, 0, 0, 0, 0, 0, 0, 0, 0, 0, 0, 0, 0, 0, 0, 0, 0, 0, 0, 0, 0, 0, 0, 0, 0, 0, 0, 0, 0, 0, 0, 0, 0, 0, 0, 0, 0, 0, 0, 0, 0, 0, 0, 0, 0, 0, 1, 0, 0, 0, 0, 0, 0, 0, 0, 0, 0, 0, 0, 0, 0, 0, 0, 0, 0, 0, 0, 0, 0, 0, 0, 0, 0, 0, 0, 0, 0, 0, 0, 0, 0, 0, 0, 0, 0, 0, 0, 0, 0, 0, 0, 0, 0, 0, 0, 0, 0, 0, 0, 0, 0, 0, 0, 0, 0, 0, 0, 0, 0, 0, 0, 0, 0, 0, 0, 0, 0, 0, 0, 0, 0, 0, 0, 0, 0, 0, 0, 0, 0, 0, 0, 0, 0, 1, 0, 0, 0, 0, 0, 0, 0, 0, 0, 0, 0, 0, 0, 0, 0, 0, 0, 0, 0, 0, 0, 0, 0, 0, 0, 0, 0, 0, 0, 0, 0, 0, 0, 0, 0, 0, 0, 0, 0, 0, 0, 0, 0, 0, 0, 0, 0, 0, 0, 0, 0, 0, 0, 0, 0, 0, 0, 0, 0, 0, 0, 0, 0, 0, 0, 0, 0, 0, 0, 0, 0, 0, 0, 0, 0, 0, 0, 0, 0, 0, 0, 0, 0, 0, 0, 0, 0, 0, 0, 0, 0, 0, 0, 0, 0, 0, 0, 0, 0, 0, 0, 0, 0, 0, 0, 0, 0, 0, 0, 0, 0, 0, 0, 0, 0, 0, 0, 0, 0, 0, 0, 0, 0, 0, 0, 0, 0, 0, 0, 0, 0, 0, 0, 0, 0, 0, 0, 0, 0, 0, 0, 0, 0, 0, 0, 0, 0, 0, 0, 0, 0, 0, 0, 0, 0, 0, 0, 0, 0, 0, 0, 0, 0, 0, 0, 0, 0, 0, 0, 0, 0, 0, 0, 0, 0, 0, 0, 0, 0, 0, 0, 0, 0, 0, 0, 0, 0, 0, 0, 0, 0, 0, 0, 0, 0, 0, 0, 0, 0, 0, 0, 0, 0, 0, 0, 0, 0, 0, 0, 0, 0, 0, 0, 0, 0, 0, 0, 0, 0, 0, 0, 0, 0, 0, 0, 0, 0, 0, 0, 0, 0, 0, 0, 0, 0, 0, 0, 0, 0, 0, 0, 0, 0, 0, 0, 0, 0, 0, 0, 0, 0, 0, 1, 0, 0, 0, 0, 0, 0, 0, 0, 0, 0, 0, 0, 0, 0, 0, 0, 0, 0, 0, 0, 0, 0, 0, 0, 0, 0, 0, 0, 0, 0, 0, 0, 0, 0, 0, 0, 0, 0, 0, 0, 0, 0, 0, 0, 0, 0, 0, 0, 0, 0, 0, 0, 0, 0, 0, 1, 0, 0, 0, 0, 0, 0, 0, 0, 0, 0, 0, 0, 0, 0, 0, 0, 0, 0, 0, 0, 0, 0, 0, 0, 0, 0, 0, 0, 0, 0, 0, 0, 0, 0, 0, 0, 0, 0, 0, 0, 0, 0, 0, 0, 0, 0, 0, 0, 0, 0, 0, 0, 0, 0, 0, 0, 0, 0, 0, 0, 0, 0, 0, 0, 0, 0, 0, 0, 0, 0, 0, 0, 0, 0, 0, 0, 0, 0, 0, 0, 0, 0, 0, 0, 0, 0, 0, 0, 0, 0, 0, 0, 0, 0, 0, 0, 0, 0, 0, 0, 0, 0, 0, 0, 0, 0, 0, 0, 0, 0, 0, 0, 0, 0, 0, 0, 0, 0, 0, 0, 0, 0, 0, 0, 0, 0, 0, 0, 0, 0, 0, 0, 0, 0, 0, 0, 0, 0, 0, 0, 0, 0, 0, 0, 0, 0, 0, 0, 0, 0, 0, 0, 0, 0, 0, 0, 0, 0, 0, 0, 0, 0, 0, 0, 0, 0, 0, 0, 0, 0, 0, 0, 0, 0, 0, 0, 0, 0, 0, 0, 0, 0, 0, 0, 0, 0, 0, 0, 0, 0, 0, 0, 0, 0, 0, 0, 0, 0, 0, 0, 0, 0, 0, 0, 0, 0, 0, 0, 0, 0, 0, 0, 0, 0, 0, 0, 0, 0, 0, 0, 0, 0, 0, 0, 0, 0, 0, 0, 0, 0, 0, 0, 0, 0, 0, 0, 0, 0, 0, 0, 0, 0, 0, 0, 0, 0, 0, 0, 0, 0, 0, 0, 0, 0, 0, 0, 0, 0, 0, 0, 0, 0, 0, 0, 0, 0, 0, 0, 0, 0, 0, 0, 0, 0, 0, 0, 0, 0, 0, 0, 0, 0, 0, 0, 0, 0, 0, 0, 0, 0, 0, 0, 0, 0, 0, 0, 0, 0, 0, 0, 0, 0, 0, 0, 0, 0, 0, 0, 0, 0, 0, 0, 0, 0, 0, 0, 0, 0, 0, 0, 0, 0, 0, 0, 0, 0, 0, 0, 0, 0, 0, 0, 0, 0, 0, 0, 0, 0, 0, 0, 0, 0, 0, 0, 0, 0, 0, 0, 0, 0, 0, 0, 0, 0, 0, 0, 0, 0, 0, 0, 0, 0, 0, 0, 0, 0, 0, 0, 0, 0, 0, 0, 0, 0, 0, 0, 0, 0, 0, 0, 0, 0, 0, 0, 0, 0, 0, 0, 0, 0, 0, 0, 0, 0, 0, 0, 0, 0, 0, 0, 0, 0, 0, 0, 0, 0, 0, 0, 0, 0, 0, 0, 0, 0, 0, 0, 0, 0, 0, 0, 0, 0, 0, 0, 0, 0, 0, 0, 0, 0, 0, 0, 0, 0, 0, 0, 0, 0, 0, 0, 0, 0, 0, 0, 0, 0, 0, 0, 0, 0, 0, 0, 0, 0, 0, 0, 0, 0, 0, 0, 0, 0, 0, 0, 0, 0, 0, 0, 0, 0, 0, 0, 0, 0, 0, 0, 0, 0, 0, 0, 0, 0, 0, 0, 0, 0, 0, 0, 0, 0, 0, 0, 0, 0, 0, 0, 0, 0, 0, 0, 0, 0, 0, 0, 0, 0, 0, 0, 0, 0, 0, 0, 0, 0, 0, 0, 0, 0, 0, 0, 0, 0, 0, 0, 0, 0, 0, 0, 0, 0, 0, 0, 0, 0, 0, 0, 0, 0, 0, 0, 0, 0, 0, 0, 0, 0, 0, 0, 0, 0, 0, 0, 0, 0, 0, 0, 0, 0, 0, 0, 0, 0, 0, 0, 0, 0, 0, 0, 0, 0, 0, 0, 0, 0, 0, 0, 0, 0, 0, 0, 0, 0, 0, 0, 0, 0, 0, 0, 0, 0, 0, 0, 0, 0, 0, 0, 0, 0, 0, 0, 0, 0, 0, 0, 0, 0, 0, 0, 0, 0, 0, 0, 0, 0, 0, 0, 0, 0, 0, 0, 0, 0, 0, 0, 0, 0, 0, 0, 0, 0, 0, 0, 0, 0, 0, 0, 0, 0, 0, 0, 0, 0, 0, 0, 0, 0, 0, 0, 0, 0, 0, 0, 0, 0, 0, 0, 0, 0, 0, 0, 0, 0, 0, 0, 0, 0, 0, 0, 0, 0, 0, 0, 0, 0, 0, 0, 0, 0, 0, 0, 0, 1, 0, 0, 0, 0, 0, 0, 0, 0, 0, 0, 0, 0, 0, 0, 0, 0, 0, 0, 0, 0, 0, 0, 0, 0, 0, 0, 0, 0, 0, 0, 0, 0, 0, 0, 0, 0, 0, 0, 0, 0, 0, 0, 0, 0, 0, 0, 0, 0, 0, 0, 0, 0, 0, 0, 0, 0, 0, 0, 0, 0, 0, 0, 0, 0, 0, 0, 0, 0, 0, 0, 0, 0, 0, 0, 1, 0, 0, 0, 0, 0, 0, 0, 0, 0, 0, 0, 0, 0, 0, 0, 0, 0, 0, 0, 0, 1, 0, 0, 1, 0, 0, 0, 0, 0, 0, 0, 0, 0, 0, 0, 0, 0, 0, 0, 0, 0, 0, 0, 0, 0, 0, 0, 0, 0, 0, 0, 0, 0, 0, 0, 0, 0, 0, 0, 0, 0, 0, 0, 0, 0, 0, 0, 0, 0, 0, 0, 0, 0, 0, 0, 0, 0, 0, 0, 0, 0, 0, 0, 0, 0, 0, 0, 0, 0, 0, 0, 0, 0, 0, 0, 0, 0, 0, 0, 0, 0, 0, 0, 0, 0, 0, 0, 0, 0, 0, 0, 0, 0, 0, 0, 0, 0, 0, 0, 0, 0, 0, 0, 0, 0, 0, 0, 0, 0, 0, 0, 0, 0, 0, 0, 0, 0, 0, 0, 0, 0, 0, 0, 0, 0, 0, 0, 0, 0, 0, 0, 0, 0, 0, 0, 0, 0, 0, 0, 0, 0, 0, 0, 0, 0, 0, 0, 0, 0, 0, 0, 0, 0, 0, 0, 0, 0, 0, 0, 0, 0, 0, 0, 0, 0, 0, 0, 0, 0, 0, 0, 0, 0, 0, 0, 0, 0, 0, 0, 0, 0, 0, 0, 0, 0, 0, 0, 0, 0, 0, 0, 0, 0, 0, 0, 0, 0, 0, 0, 0, 0, 0, 0, 0, 0, 0, 0, 0, 0, 0, 0, 0, 0, 0, 0, 0, 0, 0, 0, 0, 0, 0, 0, 0, 0, 0, 0, 0, 0, 0, 0, 0, 0, 0, 0, 0, 0, 0, 0, 0, 0, 0, 0, 0, 0, 0, 0, 0, 0, 0, 0, 0, 0, 0, 0, 0, 0, 0, 0, 0, 0, 0, 0, 0, 0, 0, 0, 0, 0, 0, 0, 0, 0, 0, 0, 0, 0, 0, 0, 0, 0, 0, 0, 0, 0, 0, 0, 0, 0, 0, 0, 0, 0, 0, 0, 0, 0, 0, 0, 0, 0, 0, 0, 0, 0, 0, 0, 0, 0, 0, 0, 0, 0, 0, 0, 0, 0, 0, 0, 0, 0, 0, 0, 0, 0, 0, 0, 0, 0, 0, 0, 0, 0, 0, 0, 0, 0, 0, 0, 0, 0, 0, 0, 0, 0, 0, 0, 0, 0, 0, 0, 0, 0, 0, 0, 0, 0, 0, 0, 0, 0, 0, 0, 0, 0, 0, 0, 0, 0, 0, 0, 0, 0, 0, 0, 0, 0, 0, 0, 0, 0, 0, 0, 0, 0, 0, 0, 0, 0, 0, 0, 0, 0, 0, 0, 0, 0, 0, 0, 0, 0, 0, 0, 0, 0, 0, 0, 0, 0, 0, 0, 0, 0, 0, 0, 0, 0, 0, 0, 0, 0, 0, 0, 0, 0, 0, 0, 0, 0, 0, 0, 0, 0, 0, 0, 0, 0, 0, 0, 0, 0, 0, 0, 0, 0, 0, 0, 0, 0, 0, 0, 0, 0, 0, 0, 0, 0, 0, 0, 0, 0, 0, 0, 0, 0, 0, 0, 0, 0, 0, 1, 0, 0, 0, 0, 0, 0, 0, 0, 0, 0, 0, 0, 0, 0, 0, 0, 0, 0, 0, 0, 0, 0, 0, 0, 0, 0, 0, 0, 0, 0, 0, 0, 0, 0, 0, 0, 0, 0, 0, 0, 0, 0, 0, 0, 0, 0, 0, 0, 0, 0, 0, 0, 0, 0, 0, 0, 0, 0, 0, 0, 0, 0, 0, 0, 0, 0, 0, 0, 0, 0, 0, 0, 0, 0, 0, 0, 0, 0, 0, 0, 0, 0, 0, 0, 0, 0, 0, 0, 0, 0, 0, 0, 0, 0, 0, 0, 0, 0, 0, 0, 0, 0, 0, 0, 0, 0, 0, 0, 0, 0, 0, 0, 0, 0, 0, 0, 0, 0, 0, 0, 0, 0, 0, 0, 0, 0, 0, 0, 0, 0, 0, 0, 0, 0, 0, 0, 0, 0, 0, 0, 0, 0, 0, 0, 0, 0, 0, 0, 0, 0, 0, 0, 0, 0, 0, 0, 0, 0, 0, 0, 0, 0, 0, 0, 0, 0, 0, 0, 0, 0, 0, 0, 0, 0, 0, 0, 0, 0, 0, 0, 0, 0, 0, 0, 0, 0, 0, 0, 0, 0, 0, 0, 0, 0, 0, 0, 0, 0, 0, 0, 0, 0, 0, 0, 0, 0, 0, 0, 0, 0, 0, 0, 0, 0, 0, 0, 0, 0, 0, 0, 0, 0, 0, 0, 0, 0, 0, 0, 0, 0, 0, 0, 0, 0, 0, 0, 0, 0, 0, 0, 0, 0, 0, 0, 0, 0, 0, 0, 0, 0, 0, 0, 0, 0, 0, 0, 0, 0, 0, 0, 0, 0, 0, 0, 0, 0, 0, 0, 0, 0, 0, 0, 0, 0, 0, 0, 0, 0, 0, 0, 0, 0, 0, 0, 0, 0, 0, 0, 0, 0, 0, 0, 0, 0, 0, 0, 0, 0, 0, 0, 0, 0, 0, 0, 0, 0, 0, 0, 0, 0, 0, 0, 0, 0, 0, 0, 0, 0, 0, 0, 0, 0, 0, 0, 0, 0, 0, 0, 0, 0, 0, 0, 0, 0, 0, 0, 0, 0, 0, 0, 0, 0, 0, 0, 0, 0, 0, 0, 0, 0, 0, 0, 0, 0, 0, 0, 0, 0, 0, 0, 0, 0, 0, 0, 0, 0, 0, 0, 0, 0, 0, 0, 0, 0, 0, 0, 0, 0, 0, 0, 0, 0, 0, 0, 0, 0, 0, 0, 0, 0, 0, 0, 0, 0, 0, 0, 0, 0, 0, 0, 0, 0, 0, 0, 0, 0, 0, 0, 0, 0, 0, 0, 0, 0, 0, 0, 0, 0, 0, 0, 0, 0, 0, 0, 0, 0, 0, 0, 0, 0, 0, 0, 0, 0, 0, 0, 0, 0, 0, 0, 0, 0, 0, 0, 0, 0, 0, 0, 0, 0, 0, 0, 0, 0, 0, 0, 0, 0, 0, 0, 0, 0, 0, 0, 0, 0, 0, 0, 0, 0, 0, 0, 0, 0, 0, 0, 0, 0, 0, 0, 0, 0, 0, 0, 0, 0, 0, 0, 0, 0, 0, 0, 0, 0, 0, 0, 0, 0, 0, 0, 0, 0, 0, 0, 0, 0, 0, 0, 0, 0, 0, 0, 1, 0, 0, 0, 0, 0, 0, 0, 0, 0, 0, 0, 0, 0, 0, 0, 0, 0, 0, 0, 0, 0, 0, 0, 0, 0, 0, 0, 0, 0, 0, 0, 0, 0, 0, 0, 2, 0, 0, 0, 0, 0, 0, 0, 0, 0, 0, 0, 0, 0, 0, 0, 0, 0, 0, 0, 0, 0, 0, 0, 0, 0, 0, 0, 0, 0, 0, 0, 0, 0, 0, 0, 0, 0, 0, 0, 0, 1, 0, 0, 0, 0, 0, 0, 0, 0, 0, 0, 0, 0, 0, 0, 0, 0, 0, 0, 0, 0, 0, 0, 0, 0, 0, 0, 0, 0, 0, 0, 0, 0, 0, 0, 0, 0, 0, 0, 0, 0, 0, 0, 0, 0, 0, 0, 0, 0, 0, 0, 0, 0, 0, 0, 0, 0, 0, 0, 0, 0, 0, 0, 0, 0, 0, 0, 0, 0, 0, 0, 0, 0, 0, 0, 0, 0, 0, 0, 0, 0, 0, 0, 0, 0, 0, 0, 0, 0, 0, 0, 0, 0, 0, 0, 0, 0, 0, 0, 0, 0, 0, 0, 0, 0, 0, 0, 0, 0, 0, 0, 0, 0, 0, 0, 0, 0, 0, 0, 0, 0, 0, 0, 0, 0, 0, 0, 0, 0, 0, 0, 0, 0, 0, 0, 0, 0, 0, 0, 0, 0, 0, 0, 0, 0, 0, 0, 0, 0, 0, 0, 0, 0, 0, 0, 0, 0, 0, 0, 0, 0, 0, 0, 0, 0, 0, 0, 0, 0, 0, 0, 0, 0, 0, 0, 0, 0, 0, 0, 0, 0, 0, 0, 0, 0, 0, 0, 0, 0, 0, 0, 0, 0, 0, 0, 0, 0, 0, 0, 0, 0, 0, 0, 0, 0, 0, 0, 0, 0, 0, 0, 0, 0, 0, 0, 0, 0, 0, 0, 0, 0, 0, 0, 0, 0, 0, 0, 0, 0, 0, 0, 0, 0, 0, 0, 0, 0, 0, 0, 0, 0, 0, 0, 0, 0, 0, 0, 0, 0, 0, 0, 0, 0, 0, 0, 0, 0, 0, 0, 0, 0, 0, 0, 0, 0, 0, 0, 0, 0, 0, 0, 0, 0, 0, 0, 0, 0, 0, 0, 0, 0, 0, 0, 0, 0, 0, 0, 0, 0, 0, 0, 0, 0, 0, 0, 0, 0, 0, 0, 0, 0, 0, 0, 0, 0, 0, 0, 0, 0, 0, 0, 0, 0, 0, 0, 0, 0, 0, 0, 0, 0, 0, 0, 0, 0, 0, 0, 0, 0, 0, 0, 0, 0, 0, 0, 0, 0, 0, 0, 0, 0, 0, 0, 0, 0, 0, 0, 0, 0, 0, 0, 0, 0, 0, 0, 0, 0, 0, 0, 0, 0, 0, 0, 0, 0, 0, 0, 0, 0, 0, 0, 0, 0, 0, 0, 0, 0, 0, 0, 0, 0, 0, 0, 0, 0, 0, 0, 0, 0, 0, 0, 0, 0, 0, 0, 0, 0, 0, 0, 0, 0, 0, 0, 0, 0, 0, 0, 0, 0, 0, 0, 0, 0, 0, 0, 0, 0, 0, 0, 0, 0, 0, 0, 0, 0, 0, 0, 0, 0, 0, 0, 0, 0, 0, 0, 0, 0, 0, 0, 0, 0, 0, 0, 0, 0, 0, 0, 0, 0, 0, 0, 0, 0, 0, 0, 0, 0, 0, 0, 0, 0, 0, 0, 0, 0, 0, 0, 0, 0, 0, 0, 0, 0, 0, 0, 0, 0, 0, 0, 0, 0, 0, 0, 0, 0, 0, 0, 0, 0, 0, 0, 0, 0, 0, 0, 0, 0, 0, 1, 0, 0, 0, 0, 0, 0, 0, 0, 0, 0, 0, 0, 0, 0, 0, 0, 0, 0, 0, 0, 0, 0, 0, 0, 0, 0, 0, 0, 0, 0, 0, 0, 0, 0, 0, 0, 0, 0, 0, 0, 0, 0, 0, 0, 0, 0, 0, 0, 0, 0, 0, 0, 0, 0, 0, 0, 0, 0, 0, 0, 0, 0, 0, 0, 0, 0, 0, 0, 0, 0, 0, 0, 0, 0, 0, 0, 0, 0, 0, 0, 0, 0, 0, 0, 0, 0, 0, 0, 0, 0, 0, 0, 0, 0, 0, 0, 0, 0, 0, 0, 0, 0, 0, 0, 0, 0, 0, 0, 0, 0, 2, 0, 0, 0, 0, 0, 0, 0, 0, 0, 0, 0, 0, 0, 0, 0, 0, 0, 0, 0, 0, 0, 0, 0, 0, 0, 0, 0, 0, 0, 0, 0, 0, 0, 0, 0, 0, 0, 0, 0, 0, 0, 0, 0, 0, 0, 0, 0, 0, 0, 0, 0, 0, 0, 0, 0, 0, 0, 0, 0, 0, 0, 0, 0, 0, 0, 0, 0, 0, 0, 0, 0, 0, 0, 0, 0, 0, 0, 0, 0, 0, 0, 0, 0, 0, 0, 0, 0, 0, 0, 0, 0, 0, 0, 0, 0, 0, 0, 0, 0, 0, 0, 0, 0, 0, 0, 0, 0, 0, 0, 0, 0, 0, 0, 0, 0, 0, 0, 0, 0, 0, 0, 0, 0, 0, 0, 0, 0, 0, 0, 0, 0, 0, 0, 0, 0, 0, 0, 0, 0, 0, 0, 0, 0, 0, 0, 0, 0, 0, 0, 0, 0, 0, 0, 0, 0, 0, 0, 0, 0, 0, 0, 0, 0, 0, 0, 0, 0, 0, 0, 0, 0, 0, 0, 0, 0, 0, 0, 0, 0, 0, 0, 0, 0, 0, 0, 0, 0, 0, 0, 0, 0, 0, 0, 0, 0, 0, 0, 0, 0, 0, 0, 0, 0, 0, 0, 0, 0, 0, 0, 0, 0, 0, 0, 0, 0, 0, 0, 0, 0, 0, 0, 0, 0, 0, 0, 0, 0, 0, 0, 0, 0, 0, 0, 0, 0, 0, 0, 0, 0, 0, 0, 0, 0, 0, 0, 0, 0, 0, 0, 0, 0, 0, 0, 0, 0, 0, 0, 0, 0, 0, 0, 0, 0, 0, 0, 0, 0, 0, 0, 0, 0, 0, 0, 0, 0, 0, 0, 0, 0, 0, 0, 0, 0, 0, 0, 0, 0, 0, 0, 0, 0, 0, 0, 0, 0, 0, 0, 0, 0, 0, 0, 0, 0, 0, 0, 0, 0, 0, 0, 0, 0, 0, 0, 0, 0, 0, 0, 0, 0, 0, 0, 0, 0, 0, 0, 0, 0, 0, 0, 0, 0, 0, 0, 0, 0, 0, 0, 0, 0, 0, 0, 0, 0, 0, 0, 0, 0, 0, 0, 0, 0, 0, 0, 0, 0, 0, 0, 0, 0, 0, 0, 0, 0, 0, 0, 0, 0, 0, 0, 0, 0, 0, 0, 0, 0, 0, 0, 0, 0, 0, 0, 0, 0, 0, 0, 0, 0, 0, 0, 0, 0, 0, 0, 0, 0, 0, 0, 0, 0, 0, 0, 0, 0, 0, 0, 0, 0, 0, 0, 0, 0, 0, 0, 0, 0, 0, 0, 0, 0, 0, 0, 0, 0, 0, 0, 0, 0, 0, 0, 0, 0, 0, 0, 0, 0, 0, 0, 0, 0, 0, 0, 0, 0, 0, 0, 0, 0, 0, 0, 0, 0, 0, 0, 0, 0, 0, 0, 0, 0, 0, 0, 0, 0, 0, 0, 0, 0, 0, 0, 0, 0, 0, 0, 0, 0, 0, 0, 0, 0, 0, 0, 0, 0, 0, 0, 0, 0, 0, 0, 0, 0, 0, 0, 0, 0, 0, 0, 0, 0, 0, 0, 0, 0, 0, 0, 0, 0, 0, 0, 0, 0, 0, 0, 0, 0, 0, 0, 0, 0, 0, 0, 0, 0, 0, 0, 0, 0, 0, 0, 0, 0, 0, 0, 0, 0, 0, 0, 0, 0, 0, 0, 0, 0, 0, 0, 0, 0, 0, 0, 0, 0, 0, 0, 0, 0, 0, 0, 0, 0, 0, 0, 0, 0, 0, 0, 0, 0, 0, 0, 0, 0, 0, 0, 0, 0, 0, 0, 0, 0, 0, 0, 0, 0, 0, 0, 0, 0, 0, 0, 0, 0, 0, 0, 0, 0, 0, 0, 0, 0, 0, 0, 0, 0, 0, 0, 0, 0, 0, 0, 0, 0, 0, 0, 0, 0, 0, 0, 0, 0, 0, 0, 0, 0, 0, 0, 0, 0, 0, 0, 0, 0, 0, 0, 0, 0, 0, 0, 0, 0, 0, 0, 0, 0, 0, 0, 0, 0, 0, 0, 0, 0, 0, 0, 0, 0, 0, 0, 0, 0, 0, 0, 0, 0, 0, 0, 0, 0, 0, 0, 0, 0, 0, 0, 0, 0, 0, 0, 0, 0, 0, 0, 0, 0, 0, 0, 0, 0, 0, 0, 0, 1, 0, 0, 0, 0, 0, 0, 0, 0, 0, 0, 0, 0, 0, 0, 0, 0, 0, 0, 0, 0, 0, 0, 0, 0, 0, 0, 0, 0, 0, 0, 0, 0, 0, 0, 0, 0, 0, 0, 0, 0, 0, 0, 0, 0, 0, 0, 0, 0, 0, 0, 0, 0, 0, 0, 0, 0, 0, 0, 0, 0, 0, 0, 0, 0, 0, 0, 0, 0, 0, 0, 0, 0, 0, 0, 0, 0, 0, 0, 0, 0, 0, 0, 0, 0, 0, 0, 0, 0, 0, 0, 0, 0, 0, 0, 0, 0, 0, 0, 0, 0, 0, 0, 0, 0, 0, 0, 0, 1, 0, 0, 0, 0, 0, 0, 0, 0, 0, 0, 0, 0, 0, 0, 0, 0, 0, 0, 0, 0, 0, 0, 0, 0, 0, 0, 0, 0, 0, 0, 0, 0, 0, 0, 0, 0, 0, 0, 0, 0, 0, 0, 0, 0, 0, 0, 0, 0, 0, 0, 0, 0, 0, 0, 0, 0, 0, 0, 0, 0, 0, 0, 0, 0, 0, 0, 0, 0, 0, 0, 0, 0, 0, 0, 0, 0, 0, 0, 0, 0, 0, 0, 0, 0, 0, 0, 0, 0, 0, 0, 0, 0, 0, 0, 0, 0, 0, 0, 0, 0, 0, 0, 0, 0, 0, 0, 0, 0, 0, 0, 0, 0, 0, 0, 0, 0, 0, 0, 0, 0, 0, 0, 0, 0, 0, 0, 0, 0, 0, 0, 0, 0, 0, 0, 0, 0, 0, 0, 0, 0, 0, 0, 0, 0, 0, 0, 0, 0, 0, 0, 0, 0, 0, 0, 0, 0, 0, 0, 0, 0, 0, 0, 0, 0, 0, 0, 0, 0, 0, 0, 0, 0, 0, 0, 0, 0, 0, 0, 0, 0, 0, 0, 0, 0, 0, 0, 0, 0, 0, 0, 0, 0, 0, 0, 0, 0, 0, 0, 0, 0, 0, 0, 0, 0, 0, 0, 0, 0, 0, 0, 0, 0, 0, 0, 0, 0, 0, 0, 0, 0, 0, 0, 0, 0, 0, 0, 0, 0, 0, 0, 0, 0, 0, 0, 0, 0, 0, 0, 0, 0, 0, 0, 0, 0, 0, 0, 0, 0, 0, 0, 0, 0, 0, 0, 0, 0, 0, 0, 0, 0, 0, 0, 0, 0, 0, 0, 0, 0, 0, 0, 0, 0, 0, 0, 0, 0, 0, 0, 0, 0, 0, 0, 0, 0, 0, 0, 0, 0, 0, 0, 0, 0, 0, 0, 0, 0, 0, 0, 0, 0, 0, 0, 0, 0, 0, 0, 0, 0, 0, 0, 0, 0, 0, 0, 0, 0, 0, 0, 0, 0, 0, 0, 0, 0, 0, 0, 0, 0, 0, 0, 0, 0, 0, 0, 0, 0, 0, 0, 0, 0, 0, 0, 0, 0, 0, 0, 0, 0, 0, 0, 0, 0, 0, 0, 0, 0, 0, 0, 0, 0, 0, 0, 0, 0, 0, 0, 0, 0, 0, 0, 0, 0, 0, 0, 0, 0, 0, 0, 0, 0, 0, 0, 0, 0, 0, 0, 0, 0, 0, 0, 0, 0, 0, 0, 0, 0, 0, 0, 0, 0, 0, 0, 0, 0, 0, 0, 0, 0, 0, 0, 0, 0, 0, 0, 0, 0, 0, 0, 0, 0, 0, 0, 0, 0, 0, 0, 0, 0, 0, 0, 0, 0, 0, 0, 0, 0, 0, 0, 0, 0, 0, 0, 0, 0, 0, 0, 0, 0, 0, 0, 0, 0, 0, 0, 0, 0, 0, 0, 0, 0, 0, 0, 0, 2, 0, 1, 0]\n"
     ]
    }
   ],
   "source": [
    "test_bow = bow_encoding(test_words, vocabulary)\n",
    "print(test_bow)"
   ]
  },
  {
   "cell_type": "code",
   "execution_count": 41,
   "metadata": {},
   "outputs": [
    {
     "data": {
      "text/plain": [
       "5000"
      ]
     },
     "execution_count": 41,
     "metadata": {},
     "output_type": "execute_result"
    }
   ],
   "source": [
    "len(test_bow)"
   ]
  },
  {
   "cell_type": "markdown",
   "metadata": {},
   "source": [
    "So now we know how to construct a bag of words encoding of a user provided review, how to we send it to our endpoint? First, we need to start the endpoint back up."
   ]
  },
  {
   "cell_type": "code",
   "execution_count": 42,
   "metadata": {},
   "outputs": [
    {
     "name": "stderr",
     "output_type": "stream",
     "text": [
      "Parameter image will be renamed to image_uri in SageMaker Python SDK v2.\n",
      "Using already existing model: xgboost-2022-01-30-17-47-43-340\n"
     ]
    },
    {
     "name": "stdout",
     "output_type": "stream",
     "text": [
      "---------!"
     ]
    }
   ],
   "source": [
    "xgb_predictor = xgb.deploy(initial_instance_count = 1, instance_type = 'ml.m4.xlarge')"
   ]
  },
  {
   "cell_type": "markdown",
   "metadata": {},
   "source": [
    "At this point we could just do the same thing that we did earlier when we tested our deployed model and send `test_bow` to our endpoint using the `xgb_predictor` object. However, when we eventually construct our Lambda function we won't have access to this object, so how do we call a SageMaker endpoint?\n",
    "\n",
    "It turns out that Python functions that are used in Lambda have access to another Amazon library called `boto3`. This library provides an API for working with Amazon services, including SageMaker. To start with, we need to get a handle to the SageMaker runtime."
   ]
  },
  {
   "cell_type": "code",
   "execution_count": 43,
   "metadata": {},
   "outputs": [],
   "source": [
    "import boto3\n",
    "\n",
    "runtime = boto3.Session().client('sagemaker-runtime')"
   ]
  },
  {
   "cell_type": "markdown",
   "metadata": {},
   "source": [
    "And now that we have access to the SageMaker runtime, we can ask it to make use of (invoke) an endpoint that has already been created. However, we need to provide SageMaker with the name of the deployed endpoint. To find this out we can print it out using the `xgb_predictor` object."
   ]
  },
  {
   "cell_type": "code",
   "execution_count": 44,
   "metadata": {},
   "outputs": [
    {
     "data": {
      "text/plain": [
       "'xgboost-2022-01-30-17-47-43-340'"
      ]
     },
     "execution_count": 44,
     "metadata": {},
     "output_type": "execute_result"
    }
   ],
   "source": [
    "xgb_predictor.endpoint"
   ]
  },
  {
   "cell_type": "markdown",
   "metadata": {},
   "source": [
    "Using the SageMaker runtime and the name of our endpoint, we can invoke the endpoint and send it the `test_bow` data."
   ]
  },
  {
   "cell_type": "code",
   "execution_count": 45,
   "metadata": {},
   "outputs": [
    {
     "ename": "ParamValidationError",
     "evalue": "Parameter validation failed:\nInvalid type for parameter Body, value: [0, 0, 0, 0, 0, 0, 0, 0, 0, 0, 0, 0, 0, 0, 0, 0, 0, 0, 0, 0, 0, 0, 0, 0, 0, 0, 0, 0, 0, 0, 0, 0, 0, 0, 0, 0, 0, 0, 0, 0, 0, 0, 0, 0, 0, 0, 0, 0, 0, 0, 0, 0, 0, 0, 0, 0, 0, 0, 0, 0, 0, 0, 0, 0, 0, 0, 0, 0, 0, 0, 0, 0, 0, 0, 0, 0, 0, 0, 0, 0, 0, 0, 0, 0, 0, 0, 0, 0, 0, 0, 0, 0, 0, 0, 0, 0, 0, 0, 0, 0, 0, 0, 0, 0, 0, 0, 0, 0, 0, 0, 0, 0, 0, 0, 0, 0, 0, 0, 0, 0, 0, 0, 0, 0, 0, 0, 0, 0, 0, 0, 0, 0, 0, 0, 0, 0, 0, 0, 0, 0, 0, 0, 0, 0, 0, 0, 0, 0, 0, 0, 0, 0, 0, 0, 0, 0, 0, 0, 0, 0, 0, 0, 0, 0, 0, 0, 0, 0, 0, 0, 0, 0, 0, 0, 0, 0, 0, 0, 0, 0, 0, 0, 0, 0, 0, 0, 0, 0, 0, 0, 0, 0, 0, 0, 0, 0, 0, 0, 0, 0, 0, 0, 0, 0, 0, 0, 0, 0, 0, 0, 0, 0, 0, 0, 0, 0, 0, 0, 0, 0, 0, 0, 0, 0, 0, 0, 1, 0, 0, 0, 0, 0, 0, 0, 0, 0, 0, 0, 0, 0, 0, 0, 0, 0, 0, 0, 0, 0, 0, 0, 0, 0, 0, 0, 0, 0, 1, 0, 0, 0, 0, 0, 0, 0, 0, 0, 0, 0, 0, 0, 0, 0, 0, 0, 0, 0, 0, 0, 0, 0, 0, 0, 0, 0, 0, 0, 0, 0, 0, 0, 0, 0, 0, 0, 0, 0, 0, 0, 0, 0, 0, 0, 0, 0, 0, 0, 0, 0, 0, 0, 0, 0, 0, 0, 0, 0, 0, 0, 0, 0, 0, 0, 0, 0, 0, 0, 0, 0, 0, 0, 0, 0, 0, 0, 0, 0, 0, 0, 0, 0, 0, 0, 0, 0, 0, 0, 0, 0, 0, 0, 0, 0, 0, 0, 0, 0, 0, 0, 0, 0, 0, 0, 0, 0, 0, 0, 0, 0, 0, 0, 0, 0, 0, 0, 0, 0, 0, 0, 0, 0, 0, 0, 0, 0, 0, 0, 0, 0, 0, 0, 0, 0, 0, 0, 0, 0, 0, 0, 0, 0, 0, 0, 0, 0, 0, 0, 0, 0, 0, 0, 0, 0, 0, 0, 0, 0, 0, 0, 0, 0, 0, 0, 0, 0, 0, 0, 0, 0, 0, 0, 0, 0, 0, 0, 0, 0, 0, 0, 0, 0, 0, 0, 0, 0, 0, 0, 0, 0, 0, 0, 0, 0, 0, 0, 0, 0, 0, 0, 0, 0, 0, 0, 0, 0, 0, 0, 0, 0, 0, 0, 0, 0, 0, 0, 0, 0, 0, 0, 0, 0, 0, 0, 0, 0, 0, 0, 0, 0, 0, 0, 0, 0, 0, 0, 0, 0, 0, 0, 0, 0, 0, 0, 0, 0, 0, 0, 0, 0, 0, 0, 0, 0, 0, 0, 0, 0, 0, 0, 0, 0, 0, 0, 0, 0, 0, 0, 0, 0, 0, 0, 0, 0, 0, 0, 0, 0, 0, 0, 0, 0, 0, 0, 0, 0, 0, 0, 0, 0, 0, 0, 0, 0, 0, 0, 0, 0, 0, 0, 0, 0, 0, 0, 0, 0, 0, 0, 0, 0, 0, 0, 0, 0, 0, 0, 0, 0, 0, 0, 0, 0, 0, 0, 0, 0, 0, 0, 0, 0, 0, 0, 0, 0, 0, 0, 0, 0, 0, 0, 0, 0, 0, 0, 0, 0, 0, 0, 0, 0, 0, 0, 0, 0, 0, 0, 0, 0, 0, 0, 0, 0, 0, 0, 0, 0, 0, 0, 0, 0, 0, 0, 0, 0, 0, 0, 0, 0, 1, 0, 0, 0, 0, 0, 0, 0, 0, 0, 0, 0, 0, 0, 0, 0, 0, 0, 0, 0, 0, 0, 0, 0, 0, 0, 0, 0, 0, 0, 0, 0, 0, 0, 0, 0, 0, 0, 0, 0, 0, 0, 0, 0, 0, 0, 0, 0, 0, 0, 0, 0, 0, 0, 0, 0, 0, 0, 0, 0, 0, 0, 0, 0, 0, 0, 0, 0, 0, 0, 0, 0, 0, 0, 0, 0, 0, 0, 0, 0, 0, 0, 0, 0, 0, 0, 0, 0, 0, 0, 0, 0, 0, 0, 0, 0, 0, 0, 0, 0, 0, 0, 0, 0, 0, 0, 0, 0, 0, 0, 0, 0, 0, 0, 0, 0, 0, 0, 0, 0, 0, 0, 0, 0, 0, 0, 0, 0, 0, 0, 0, 0, 0, 0, 0, 0, 0, 0, 0, 0, 0, 0, 0, 0, 0, 0, 0, 0, 0, 0, 0, 0, 0, 0, 0, 0, 0, 0, 0, 0, 0, 0, 0, 0, 0, 0, 0, 0, 0, 0, 0, 0, 0, 0, 0, 0, 0, 0, 0, 0, 0, 0, 0, 0, 0, 0, 0, 0, 0, 0, 0, 0, 0, 0, 0, 0, 0, 0, 0, 0, 0, 0, 0, 0, 0, 0, 0, 0, 0, 0, 0, 0, 0, 0, 0, 0, 0, 0, 0, 0, 0, 0, 0, 0, 0, 0, 0, 0, 0, 0, 0, 0, 0, 0, 0, 0, 0, 0, 0, 0, 0, 0, 0, 0, 0, 0, 0, 0, 0, 0, 0, 0, 0, 0, 1, 0, 0, 0, 0, 0, 0, 0, 0, 0, 0, 0, 0, 0, 0, 0, 0, 0, 0, 0, 0, 0, 0, 0, 0, 0, 0, 0, 0, 0, 0, 0, 0, 0, 0, 0, 0, 0, 0, 0, 0, 0, 0, 0, 0, 0, 0, 0, 0, 0, 0, 0, 0, 0, 0, 0, 0, 0, 0, 0, 0, 0, 0, 0, 0, 0, 0, 0, 0, 0, 0, 0, 0, 0, 0, 0, 0, 0, 0, 0, 0, 0, 0, 0, 0, 0, 0, 1, 0, 0, 0, 0, 0, 0, 0, 0, 0, 0, 0, 0, 0, 0, 0, 0, 0, 0, 0, 0, 0, 0, 0, 0, 0, 0, 0, 0, 0, 0, 0, 0, 0, 0, 0, 0, 0, 0, 0, 0, 0, 0, 0, 0, 0, 0, 0, 0, 0, 0, 0, 0, 0, 0, 0, 0, 0, 0, 0, 0, 0, 0, 0, 0, 0, 0, 0, 0, 0, 0, 0, 0, 0, 0, 0, 0, 0, 0, 0, 0, 0, 0, 0, 0, 0, 0, 0, 0, 0, 0, 0, 0, 0, 0, 0, 0, 0, 0, 0, 0, 0, 0, 0, 0, 0, 0, 0, 0, 0, 0, 0, 0, 0, 0, 0, 0, 0, 0, 0, 0, 0, 0, 0, 0, 0, 0, 0, 0, 0, 0, 0, 0, 0, 0, 0, 0, 0, 0, 0, 0, 0, 0, 0, 0, 0, 0, 0, 0, 0, 0, 0, 0, 0, 0, 0, 0, 0, 0, 0, 0, 0, 0, 0, 0, 0, 0, 0, 0, 0, 0, 0, 0, 0, 0, 0, 0, 0, 0, 0, 0, 0, 0, 0, 0, 0, 0, 0, 0, 0, 0, 0, 0, 0, 0, 0, 0, 0, 0, 0, 0, 0, 0, 0, 0, 0, 0, 0, 0, 0, 0, 0, 0, 0, 0, 0, 0, 0, 0, 0, 0, 0, 0, 0, 0, 0, 0, 0, 0, 0, 0, 0, 0, 0, 0, 0, 0, 0, 0, 0, 0, 0, 0, 0, 0, 0, 0, 0, 0, 0, 0, 0, 0, 1, 0, 0, 0, 0, 0, 0, 0, 0, 0, 0, 0, 0, 0, 0, 0, 0, 0, 0, 0, 0, 0, 0, 0, 0, 0, 0, 0, 0, 0, 0, 0, 0, 0, 0, 0, 0, 0, 0, 0, 0, 0, 0, 0, 0, 0, 0, 0, 0, 0, 0, 0, 0, 0, 0, 0, 1, 0, 0, 0, 0, 0, 0, 0, 0, 0, 0, 0, 0, 0, 0, 0, 0, 0, 0, 0, 0, 0, 0, 0, 0, 0, 0, 0, 0, 0, 0, 0, 0, 0, 0, 0, 0, 0, 0, 0, 0, 0, 0, 0, 0, 0, 0, 0, 0, 0, 0, 0, 0, 0, 0, 0, 0, 0, 0, 0, 0, 0, 0, 0, 0, 0, 0, 0, 0, 0, 0, 0, 0, 0, 0, 0, 0, 0, 0, 0, 0, 0, 0, 0, 0, 0, 0, 0, 0, 0, 0, 0, 0, 0, 0, 0, 0, 0, 0, 0, 0, 0, 0, 0, 0, 0, 0, 0, 0, 0, 0, 0, 0, 0, 0, 0, 0, 0, 0, 0, 0, 0, 0, 0, 0, 0, 0, 0, 0, 0, 0, 0, 0, 0, 0, 0, 0, 0, 0, 0, 0, 0, 0, 0, 0, 0, 0, 0, 0, 0, 0, 0, 0, 0, 0, 0, 0, 0, 0, 0, 0, 0, 0, 0, 0, 0, 0, 0, 0, 0, 0, 0, 0, 0, 0, 0, 0, 0, 0, 0, 0, 0, 0, 0, 0, 0, 0, 0, 0, 0, 0, 0, 0, 0, 0, 0, 0, 0, 0, 0, 0, 0, 0, 0, 0, 0, 0, 0, 0, 0, 0, 0, 0, 0, 0, 0, 0, 0, 0, 0, 0, 0, 0, 0, 0, 0, 0, 0, 0, 0, 0, 0, 0, 0, 0, 0, 0, 0, 0, 0, 0, 0, 0, 0, 0, 0, 0, 0, 0, 0, 0, 0, 0, 0, 0, 0, 0, 0, 0, 0, 0, 0, 0, 0, 0, 0, 0, 0, 0, 0, 0, 0, 0, 0, 0, 0, 0, 0, 0, 0, 0, 0, 0, 0, 0, 0, 0, 0, 0, 0, 0, 0, 0, 0, 0, 0, 0, 0, 0, 0, 0, 0, 0, 0, 0, 0, 0, 0, 0, 0, 0, 0, 0, 0, 0, 0, 0, 0, 0, 0, 0, 0, 0, 0, 0, 0, 0, 0, 0, 0, 0, 0, 0, 0, 0, 0, 0, 0, 0, 0, 0, 0, 0, 0, 0, 0, 0, 0, 0, 0, 0, 0, 0, 0, 0, 0, 0, 0, 0, 0, 0, 0, 0, 0, 0, 0, 0, 0, 0, 0, 0, 0, 0, 0, 0, 0, 0, 0, 0, 0, 0, 0, 0, 0, 0, 0, 0, 0, 0, 0, 0, 0, 0, 0, 0, 0, 0, 0, 0, 0, 0, 0, 0, 0, 0, 0, 0, 0, 0, 0, 0, 0, 0, 0, 0, 0, 0, 0, 0, 0, 0, 0, 0, 0, 0, 0, 0, 0, 0, 0, 0, 0, 0, 0, 0, 0, 0, 0, 0, 0, 0, 0, 0, 0, 0, 0, 0, 0, 0, 0, 0, 0, 0, 0, 0, 0, 0, 0, 0, 0, 0, 0, 0, 0, 0, 0, 0, 0, 0, 0, 0, 0, 0, 0, 0, 0, 0, 0, 0, 0, 0, 0, 0, 0, 0, 0, 0, 0, 0, 0, 0, 0, 0, 0, 0, 0, 0, 0, 0, 0, 0, 0, 0, 0, 0, 0, 0, 0, 0, 0, 0, 0, 0, 0, 0, 0, 0, 0, 0, 0, 0, 0, 0, 0, 0, 0, 0, 0, 0, 0, 0, 0, 0, 0, 0, 0, 0, 0, 0, 0, 0, 0, 0, 0, 0, 0, 0, 0, 0, 0, 0, 0, 0, 0, 0, 0, 0, 0, 0, 0, 0, 0, 0, 0, 0, 0, 0, 0, 0, 0, 0, 0, 0, 0, 0, 0, 0, 0, 0, 0, 0, 0, 0, 0, 0, 0, 0, 0, 0, 0, 0, 0, 0, 0, 0, 0, 0, 0, 0, 0, 0, 0, 0, 0, 0, 0, 0, 0, 0, 0, 0, 0, 0, 0, 0, 0, 0, 0, 0, 0, 0, 0, 0, 0, 0, 0, 0, 0, 0, 0, 0, 0, 0, 0, 0, 0, 0, 0, 0, 0, 0, 0, 0, 0, 0, 0, 0, 0, 0, 0, 0, 0, 0, 0, 0, 0, 0, 0, 0, 0, 0, 0, 0, 0, 0, 0, 0, 0, 0, 0, 0, 0, 0, 0, 0, 0, 0, 0, 0, 0, 0, 0, 1, 0, 0, 0, 0, 0, 0, 0, 0, 0, 0, 0, 0, 0, 0, 0, 0, 0, 0, 0, 0, 0, 0, 0, 0, 0, 0, 0, 0, 0, 0, 0, 0, 0, 0, 0, 0, 0, 0, 0, 0, 0, 0, 0, 0, 0, 0, 0, 0, 0, 0, 0, 0, 0, 0, 0, 0, 0, 0, 0, 0, 0, 0, 0, 0, 0, 0, 0, 0, 0, 0, 0, 0, 0, 0, 1, 0, 0, 0, 0, 0, 0, 0, 0, 0, 0, 0, 0, 0, 0, 0, 0, 0, 0, 0, 0, 1, 0, 0, 1, 0, 0, 0, 0, 0, 0, 0, 0, 0, 0, 0, 0, 0, 0, 0, 0, 0, 0, 0, 0, 0, 0, 0, 0, 0, 0, 0, 0, 0, 0, 0, 0, 0, 0, 0, 0, 0, 0, 0, 0, 0, 0, 0, 0, 0, 0, 0, 0, 0, 0, 0, 0, 0, 0, 0, 0, 0, 0, 0, 0, 0, 0, 0, 0, 0, 0, 0, 0, 0, 0, 0, 0, 0, 0, 0, 0, 0, 0, 0, 0, 0, 0, 0, 0, 0, 0, 0, 0, 0, 0, 0, 0, 0, 0, 0, 0, 0, 0, 0, 0, 0, 0, 0, 0, 0, 0, 0, 0, 0, 0, 0, 0, 0, 0, 0, 0, 0, 0, 0, 0, 0, 0, 0, 0, 0, 0, 0, 0, 0, 0, 0, 0, 0, 0, 0, 0, 0, 0, 0, 0, 0, 0, 0, 0, 0, 0, 0, 0, 0, 0, 0, 0, 0, 0, 0, 0, 0, 0, 0, 0, 0, 0, 0, 0, 0, 0, 0, 0, 0, 0, 0, 0, 0, 0, 0, 0, 0, 0, 0, 0, 0, 0, 0, 0, 0, 0, 0, 0, 0, 0, 0, 0, 0, 0, 0, 0, 0, 0, 0, 0, 0, 0, 0, 0, 0, 0, 0, 0, 0, 0, 0, 0, 0, 0, 0, 0, 0, 0, 0, 0, 0, 0, 0, 0, 0, 0, 0, 0, 0, 0, 0, 0, 0, 0, 0, 0, 0, 0, 0, 0, 0, 0, 0, 0, 0, 0, 0, 0, 0, 0, 0, 0, 0, 0, 0, 0, 0, 0, 0, 0, 0, 0, 0, 0, 0, 0, 0, 0, 0, 0, 0, 0, 0, 0, 0, 0, 0, 0, 0, 0, 0, 0, 0, 0, 0, 0, 0, 0, 0, 0, 0, 0, 0, 0, 0, 0, 0, 0, 0, 0, 0, 0, 0, 0, 0, 0, 0, 0, 0, 0, 0, 0, 0, 0, 0, 0, 0, 0, 0, 0, 0, 0, 0, 0, 0, 0, 0, 0, 0, 0, 0, 0, 0, 0, 0, 0, 0, 0, 0, 0, 0, 0, 0, 0, 0, 0, 0, 0, 0, 0, 0, 0, 0, 0, 0, 0, 0, 0, 0, 0, 0, 0, 0, 0, 0, 0, 0, 0, 0, 0, 0, 0, 0, 0, 0, 0, 0, 0, 0, 0, 0, 0, 0, 0, 0, 0, 0, 0, 0, 0, 0, 0, 0, 0, 0, 0, 0, 0, 0, 0, 0, 0, 0, 0, 0, 0, 0, 0, 0, 0, 0, 0, 0, 0, 0, 0, 0, 0, 0, 0, 0, 0, 0, 0, 0, 0, 0, 0, 0, 0, 0, 0, 0, 0, 0, 0, 0, 0, 0, 0, 0, 0, 0, 0, 0, 0, 0, 0, 0, 0, 0, 0, 0, 0, 0, 0, 0, 0, 0, 0, 0, 0, 0, 0, 0, 0, 1, 0, 0, 0, 0, 0, 0, 0, 0, 0, 0, 0, 0, 0, 0, 0, 0, 0, 0, 0, 0, 0, 0, 0, 0, 0, 0, 0, 0, 0, 0, 0, 0, 0, 0, 0, 0, 0, 0, 0, 0, 0, 0, 0, 0, 0, 0, 0, 0, 0, 0, 0, 0, 0, 0, 0, 0, 0, 0, 0, 0, 0, 0, 0, 0, 0, 0, 0, 0, 0, 0, 0, 0, 0, 0, 0, 0, 0, 0, 0, 0, 0, 0, 0, 0, 0, 0, 0, 0, 0, 0, 0, 0, 0, 0, 0, 0, 0, 0, 0, 0, 0, 0, 0, 0, 0, 0, 0, 0, 0, 0, 0, 0, 0, 0, 0, 0, 0, 0, 0, 0, 0, 0, 0, 0, 0, 0, 0, 0, 0, 0, 0, 0, 0, 0, 0, 0, 0, 0, 0, 0, 0, 0, 0, 0, 0, 0, 0, 0, 0, 0, 0, 0, 0, 0, 0, 0, 0, 0, 0, 0, 0, 0, 0, 0, 0, 0, 0, 0, 0, 0, 0, 0, 0, 0, 0, 0, 0, 0, 0, 0, 0, 0, 0, 0, 0, 0, 0, 0, 0, 0, 0, 0, 0, 0, 0, 0, 0, 0, 0, 0, 0, 0, 0, 0, 0, 0, 0, 0, 0, 0, 0, 0, 0, 0, 0, 0, 0, 0, 0, 0, 0, 0, 0, 0, 0, 0, 0, 0, 0, 0, 0, 0, 0, 0, 0, 0, 0, 0, 0, 0, 0, 0, 0, 0, 0, 0, 0, 0, 0, 0, 0, 0, 0, 0, 0, 0, 0, 0, 0, 0, 0, 0, 0, 0, 0, 0, 0, 0, 0, 0, 0, 0, 0, 0, 0, 0, 0, 0, 0, 0, 0, 0, 0, 0, 0, 0, 0, 0, 0, 0, 0, 0, 0, 0, 0, 0, 0, 0, 0, 0, 0, 0, 0, 0, 0, 0, 0, 0, 0, 0, 0, 0, 0, 0, 0, 0, 0, 0, 0, 0, 0, 0, 0, 0, 0, 0, 0, 0, 0, 0, 0, 0, 0, 0, 0, 0, 0, 0, 0, 0, 0, 0, 0, 0, 0, 0, 0, 0, 0, 0, 0, 0, 0, 0, 0, 0, 0, 0, 0, 0, 0, 0, 0, 0, 0, 0, 0, 0, 0, 0, 0, 0, 0, 0, 0, 0, 0, 0, 0, 0, 0, 0, 0, 0, 0, 0, 0, 0, 0, 0, 0, 0, 0, 0, 0, 0, 0, 0, 0, 0, 0, 0, 0, 0, 0, 0, 0, 0, 0, 0, 0, 0, 0, 0, 0, 0, 0, 0, 0, 0, 0, 0, 0, 0, 0, 0, 0, 0, 0, 0, 0, 0, 0, 0, 0, 0, 0, 0, 0, 0, 0, 0, 0, 0, 0, 0, 0, 0, 0, 0, 0, 0, 0, 0, 0, 0, 0, 0, 0, 0, 0, 0, 0, 0, 0, 0, 0, 0, 0, 0, 0, 0, 0, 0, 0, 0, 0, 0, 0, 0, 0, 0, 0, 0, 0, 0, 0, 0, 0, 0, 0, 0, 0, 0, 0, 0, 0, 0, 0, 0, 0, 0, 0, 0, 0, 0, 0, 0, 0, 0, 0, 0, 1, 0, 0, 0, 0, 0, 0, 0, 0, 0, 0, 0, 0, 0, 0, 0, 0, 0, 0, 0, 0, 0, 0, 0, 0, 0, 0, 0, 0, 0, 0, 0, 0, 0, 0, 0, 2, 0, 0, 0, 0, 0, 0, 0, 0, 0, 0, 0, 0, 0, 0, 0, 0, 0, 0, 0, 0, 0, 0, 0, 0, 0, 0, 0, 0, 0, 0, 0, 0, 0, 0, 0, 0, 0, 0, 0, 0, 1, 0, 0, 0, 0, 0, 0, 0, 0, 0, 0, 0, 0, 0, 0, 0, 0, 0, 0, 0, 0, 0, 0, 0, 0, 0, 0, 0, 0, 0, 0, 0, 0, 0, 0, 0, 0, 0, 0, 0, 0, 0, 0, 0, 0, 0, 0, 0, 0, 0, 0, 0, 0, 0, 0, 0, 0, 0, 0, 0, 0, 0, 0, 0, 0, 0, 0, 0, 0, 0, 0, 0, 0, 0, 0, 0, 0, 0, 0, 0, 0, 0, 0, 0, 0, 0, 0, 0, 0, 0, 0, 0, 0, 0, 0, 0, 0, 0, 0, 0, 0, 0, 0, 0, 0, 0, 0, 0, 0, 0, 0, 0, 0, 0, 0, 0, 0, 0, 0, 0, 0, 0, 0, 0, 0, 0, 0, 0, 0, 0, 0, 0, 0, 0, 0, 0, 0, 0, 0, 0, 0, 0, 0, 0, 0, 0, 0, 0, 0, 0, 0, 0, 0, 0, 0, 0, 0, 0, 0, 0, 0, 0, 0, 0, 0, 0, 0, 0, 0, 0, 0, 0, 0, 0, 0, 0, 0, 0, 0, 0, 0, 0, 0, 0, 0, 0, 0, 0, 0, 0, 0, 0, 0, 0, 0, 0, 0, 0, 0, 0, 0, 0, 0, 0, 0, 0, 0, 0, 0, 0, 0, 0, 0, 0, 0, 0, 0, 0, 0, 0, 0, 0, 0, 0, 0, 0, 0, 0, 0, 0, 0, 0, 0, 0, 0, 0, 0, 0, 0, 0, 0, 0, 0, 0, 0, 0, 0, 0, 0, 0, 0, 0, 0, 0, 0, 0, 0, 0, 0, 0, 0, 0, 0, 0, 0, 0, 0, 0, 0, 0, 0, 0, 0, 0, 0, 0, 0, 0, 0, 0, 0, 0, 0, 0, 0, 0, 0, 0, 0, 0, 0, 0, 0, 0, 0, 0, 0, 0, 0, 0, 0, 0, 0, 0, 0, 0, 0, 0, 0, 0, 0, 0, 0, 0, 0, 0, 0, 0, 0, 0, 0, 0, 0, 0, 0, 0, 0, 0, 0, 0, 0, 0, 0, 0, 0, 0, 0, 0, 0, 0, 0, 0, 0, 0, 0, 0, 0, 0, 0, 0, 0, 0, 0, 0, 0, 0, 0, 0, 0, 0, 0, 0, 0, 0, 0, 0, 0, 0, 0, 0, 0, 0, 0, 0, 0, 0, 0, 0, 0, 0, 0, 0, 0, 0, 0, 0, 0, 0, 0, 0, 0, 0, 0, 0, 0, 0, 0, 0, 0, 0, 0, 0, 0, 0, 0, 0, 0, 0, 0, 0, 0, 0, 0, 0, 0, 0, 0, 0, 0, 0, 0, 0, 0, 0, 0, 0, 0, 0, 0, 0, 0, 0, 0, 0, 0, 0, 0, 0, 0, 0, 0, 0, 0, 0, 0, 0, 0, 0, 0, 0, 0, 0, 0, 0, 0, 0, 0, 0, 0, 0, 0, 0, 0, 0, 0, 0, 0, 0, 0, 0, 0, 0, 0, 0, 0, 0, 0, 0, 0, 0, 0, 0, 0, 0, 0, 0, 0, 0, 0, 0, 0, 0, 0, 0, 0, 0, 0, 0, 1, 0, 0, 0, 0, 0, 0, 0, 0, 0, 0, 0, 0, 0, 0, 0, 0, 0, 0, 0, 0, 0, 0, 0, 0, 0, 0, 0, 0, 0, 0, 0, 0, 0, 0, 0, 0, 0, 0, 0, 0, 0, 0, 0, 0, 0, 0, 0, 0, 0, 0, 0, 0, 0, 0, 0, 0, 0, 0, 0, 0, 0, 0, 0, 0, 0, 0, 0, 0, 0, 0, 0, 0, 0, 0, 0, 0, 0, 0, 0, 0, 0, 0, 0, 0, 0, 0, 0, 0, 0, 0, 0, 0, 0, 0, 0, 0, 0, 0, 0, 0, 0, 0, 0, 0, 0, 0, 0, 0, 0, 0, 2, 0, 0, 0, 0, 0, 0, 0, 0, 0, 0, 0, 0, 0, 0, 0, 0, 0, 0, 0, 0, 0, 0, 0, 0, 0, 0, 0, 0, 0, 0, 0, 0, 0, 0, 0, 0, 0, 0, 0, 0, 0, 0, 0, 0, 0, 0, 0, 0, 0, 0, 0, 0, 0, 0, 0, 0, 0, 0, 0, 0, 0, 0, 0, 0, 0, 0, 0, 0, 0, 0, 0, 0, 0, 0, 0, 0, 0, 0, 0, 0, 0, 0, 0, 0, 0, 0, 0, 0, 0, 0, 0, 0, 0, 0, 0, 0, 0, 0, 0, 0, 0, 0, 0, 0, 0, 0, 0, 0, 0, 0, 0, 0, 0, 0, 0, 0, 0, 0, 0, 0, 0, 0, 0, 0, 0, 0, 0, 0, 0, 0, 0, 0, 0, 0, 0, 0, 0, 0, 0, 0, 0, 0, 0, 0, 0, 0, 0, 0, 0, 0, 0, 0, 0, 0, 0, 0, 0, 0, 0, 0, 0, 0, 0, 0, 0, 0, 0, 0, 0, 0, 0, 0, 0, 0, 0, 0, 0, 0, 0, 0, 0, 0, 0, 0, 0, 0, 0, 0, 0, 0, 0, 0, 0, 0, 0, 0, 0, 0, 0, 0, 0, 0, 0, 0, 0, 0, 0, 0, 0, 0, 0, 0, 0, 0, 0, 0, 0, 0, 0, 0, 0, 0, 0, 0, 0, 0, 0, 0, 0, 0, 0, 0, 0, 0, 0, 0, 0, 0, 0, 0, 0, 0, 0, 0, 0, 0, 0, 0, 0, 0, 0, 0, 0, 0, 0, 0, 0, 0, 0, 0, 0, 0, 0, 0, 0, 0, 0, 0, 0, 0, 0, 0, 0, 0, 0, 0, 0, 0, 0, 0, 0, 0, 0, 0, 0, 0, 0, 0, 0, 0, 0, 0, 0, 0, 0, 0, 0, 0, 0, 0, 0, 0, 0, 0, 0, 0, 0, 0, 0, 0, 0, 0, 0, 0, 0, 0, 0, 0, 0, 0, 0, 0, 0, 0, 0, 0, 0, 0, 0, 0, 0, 0, 0, 0, 0, 0, 0, 0, 0, 0, 0, 0, 0, 0, 0, 0, 0, 0, 0, 0, 0, 0, 0, 0, 0, 0, 0, 0, 0, 0, 0, 0, 0, 0, 0, 0, 0, 0, 0, 0, 0, 0, 0, 0, 0, 0, 0, 0, 0, 0, 0, 0, 0, 0, 0, 0, 0, 0, 0, 0, 0, 0, 0, 0, 0, 0, 0, 0, 0, 0, 0, 0, 0, 0, 0, 0, 0, 0, 0, 0, 0, 0, 0, 0, 0, 0, 0, 0, 0, 0, 0, 0, 0, 0, 0, 0, 0, 0, 0, 0, 0, 0, 0, 0, 0, 0, 0, 0, 0, 0, 0, 0, 0, 0, 0, 0, 0, 0, 0, 0, 0, 0, 0, 0, 0, 0, 0, 0, 0, 0, 0, 0, 0, 0, 0, 0, 0, 0, 0, 0, 0, 0, 0, 0, 0, 0, 0, 0, 0, 0, 0, 0, 0, 0, 0, 0, 0, 0, 0, 0, 0, 0, 0, 0, 0, 0, 0, 0, 0, 0, 0, 0, 0, 0, 0, 0, 0, 0, 0, 0, 0, 0, 0, 0, 0, 0, 0, 0, 0, 0, 0, 0, 0, 0, 0, 0, 0, 0, 0, 0, 0, 0, 0, 0, 0, 0, 0, 0, 0, 0, 0, 0, 0, 0, 0, 0, 0, 0, 0, 0, 0, 0, 0, 0, 0, 0, 0, 0, 0, 0, 0, 0, 0, 0, 0, 0, 0, 0, 0, 0, 0, 0, 0, 0, 0, 0, 0, 0, 0, 0, 0, 0, 0, 0, 0, 0, 0, 0, 0, 0, 0, 0, 0, 0, 0, 0, 0, 0, 0, 0, 0, 0, 0, 0, 0, 0, 0, 0, 0, 0, 0, 0, 0, 0, 0, 0, 0, 0, 0, 0, 0, 0, 0, 0, 0, 0, 0, 0, 0, 0, 0, 0, 0, 0, 0, 0, 0, 0, 0, 0, 0, 0, 0, 0, 0, 0, 0, 0, 0, 0, 0, 0, 0, 0, 0, 0, 0, 0, 0, 0, 0, 0, 0, 0, 0, 0, 0, 0, 0, 0, 0, 0, 0, 0, 0, 0, 0, 0, 0, 0, 0, 0, 0, 0, 0, 0, 0, 0, 0, 0, 1, 0, 0, 0, 0, 0, 0, 0, 0, 0, 0, 0, 0, 0, 0, 0, 0, 0, 0, 0, 0, 0, 0, 0, 0, 0, 0, 0, 0, 0, 0, 0, 0, 0, 0, 0, 0, 0, 0, 0, 0, 0, 0, 0, 0, 0, 0, 0, 0, 0, 0, 0, 0, 0, 0, 0, 0, 0, 0, 0, 0, 0, 0, 0, 0, 0, 0, 0, 0, 0, 0, 0, 0, 0, 0, 0, 0, 0, 0, 0, 0, 0, 0, 0, 0, 0, 0, 0, 0, 0, 0, 0, 0, 0, 0, 0, 0, 0, 0, 0, 0, 0, 0, 0, 0, 0, 0, 0, 1, 0, 0, 0, 0, 0, 0, 0, 0, 0, 0, 0, 0, 0, 0, 0, 0, 0, 0, 0, 0, 0, 0, 0, 0, 0, 0, 0, 0, 0, 0, 0, 0, 0, 0, 0, 0, 0, 0, 0, 0, 0, 0, 0, 0, 0, 0, 0, 0, 0, 0, 0, 0, 0, 0, 0, 0, 0, 0, 0, 0, 0, 0, 0, 0, 0, 0, 0, 0, 0, 0, 0, 0, 0, 0, 0, 0, 0, 0, 0, 0, 0, 0, 0, 0, 0, 0, 0, 0, 0, 0, 0, 0, 0, 0, 0, 0, 0, 0, 0, 0, 0, 0, 0, 0, 0, 0, 0, 0, 0, 0, 0, 0, 0, 0, 0, 0, 0, 0, 0, 0, 0, 0, 0, 0, 0, 0, 0, 0, 0, 0, 0, 0, 0, 0, 0, 0, 0, 0, 0, 0, 0, 0, 0, 0, 0, 0, 0, 0, 0, 0, 0, 0, 0, 0, 0, 0, 0, 0, 0, 0, 0, 0, 0, 0, 0, 0, 0, 0, 0, 0, 0, 0, 0, 0, 0, 0, 0, 0, 0, 0, 0, 0, 0, 0, 0, 0, 0, 0, 0, 0, 0, 0, 0, 0, 0, 0, 0, 0, 0, 0, 0, 0, 0, 0, 0, 0, 0, 0, 0, 0, 0, 0, 0, 0, 0, 0, 0, 0, 0, 0, 0, 0, 0, 0, 0, 0, 0, 0, 0, 0, 0, 0, 0, 0, 0, 0, 0, 0, 0, 0, 0, 0, 0, 0, 0, 0, 0, 0, 0, 0, 0, 0, 0, 0, 0, 0, 0, 0, 0, 0, 0, 0, 0, 0, 0, 0, 0, 0, 0, 0, 0, 0, 0, 0, 0, 0, 0, 0, 0, 0, 0, 0, 0, 0, 0, 0, 0, 0, 0, 0, 0, 0, 0, 0, 0, 0, 0, 0, 0, 0, 0, 0, 0, 0, 0, 0, 0, 0, 0, 0, 0, 0, 0, 0, 0, 0, 0, 0, 0, 0, 0, 0, 0, 0, 0, 0, 0, 0, 0, 0, 0, 0, 0, 0, 0, 0, 0, 0, 0, 0, 0, 0, 0, 0, 0, 0, 0, 0, 0, 0, 0, 0, 0, 0, 0, 0, 0, 0, 0, 0, 0, 0, 0, 0, 0, 0, 0, 0, 0, 0, 0, 0, 0, 0, 0, 0, 0, 0, 0, 0, 0, 0, 0, 0, 0, 0, 0, 0, 0, 0, 0, 0, 0, 0, 0, 0, 0, 0, 0, 0, 0, 0, 0, 0, 0, 0, 0, 0, 0, 0, 0, 0, 0, 0, 0, 0, 0, 0, 0, 0, 0, 0, 0, 0, 0, 0, 0, 0, 0, 0, 0, 0, 0, 0, 0, 0, 0, 0, 0, 0, 0, 0, 0, 0, 0, 0, 0, 0, 0, 0, 0, 0, 0, 0, 0, 0, 0, 0, 0, 0, 0, 0, 0, 2, 0, 1, 0], type: <class 'list'>, valid types: <class 'bytes'>, <class 'bytearray'>, file-like object",
     "output_type": "error",
     "traceback": [
      "\u001b[0;31m---------------------------------------------------------------------------\u001b[0m",
      "\u001b[0;31mParamValidationError\u001b[0m                      Traceback (most recent call last)",
      "\u001b[0;32m<ipython-input-45-c9ab54ae3a48>\u001b[0m in \u001b[0;36m<module>\u001b[0;34m\u001b[0m\n\u001b[1;32m      1\u001b[0m response = runtime.invoke_endpoint(EndpointName = xgb_predictor.endpoint, # The name of the endpoint we created\n\u001b[1;32m      2\u001b[0m                                        \u001b[0mContentType\u001b[0m \u001b[0;34m=\u001b[0m \u001b[0;34m'text/csv'\u001b[0m\u001b[0;34m,\u001b[0m                     \u001b[0;31m# The data format that is expected\u001b[0m\u001b[0;34m\u001b[0m\u001b[0;34m\u001b[0m\u001b[0m\n\u001b[0;32m----> 3\u001b[0;31m                                        Body = test_bow)\n\u001b[0m",
      "\u001b[0;32m~/anaconda3/envs/python3/lib/python3.6/site-packages/botocore/client.py\u001b[0m in \u001b[0;36m_api_call\u001b[0;34m(self, *args, **kwargs)\u001b[0m\n\u001b[1;32m    389\u001b[0m                     \"%s() only accepts keyword arguments.\" % py_operation_name)\n\u001b[1;32m    390\u001b[0m             \u001b[0;31m# The \"self\" in this scope is referring to the BaseClient.\u001b[0m\u001b[0;34m\u001b[0m\u001b[0;34m\u001b[0m\u001b[0;34m\u001b[0m\u001b[0m\n\u001b[0;32m--> 391\u001b[0;31m             \u001b[0;32mreturn\u001b[0m \u001b[0mself\u001b[0m\u001b[0;34m.\u001b[0m\u001b[0m_make_api_call\u001b[0m\u001b[0;34m(\u001b[0m\u001b[0moperation_name\u001b[0m\u001b[0;34m,\u001b[0m \u001b[0mkwargs\u001b[0m\u001b[0;34m)\u001b[0m\u001b[0;34m\u001b[0m\u001b[0;34m\u001b[0m\u001b[0m\n\u001b[0m\u001b[1;32m    392\u001b[0m \u001b[0;34m\u001b[0m\u001b[0m\n\u001b[1;32m    393\u001b[0m         \u001b[0m_api_call\u001b[0m\u001b[0;34m.\u001b[0m\u001b[0m__name__\u001b[0m \u001b[0;34m=\u001b[0m \u001b[0mstr\u001b[0m\u001b[0;34m(\u001b[0m\u001b[0mpy_operation_name\u001b[0m\u001b[0;34m)\u001b[0m\u001b[0;34m\u001b[0m\u001b[0;34m\u001b[0m\u001b[0m\n",
      "\u001b[0;32m~/anaconda3/envs/python3/lib/python3.6/site-packages/botocore/client.py\u001b[0m in \u001b[0;36m_make_api_call\u001b[0;34m(self, operation_name, api_params)\u001b[0m\n\u001b[1;32m    690\u001b[0m         }\n\u001b[1;32m    691\u001b[0m         request_dict = self._convert_to_request_dict(\n\u001b[0;32m--> 692\u001b[0;31m             api_params, operation_model, context=request_context)\n\u001b[0m\u001b[1;32m    693\u001b[0m \u001b[0;34m\u001b[0m\u001b[0m\n\u001b[1;32m    694\u001b[0m         \u001b[0mservice_id\u001b[0m \u001b[0;34m=\u001b[0m \u001b[0mself\u001b[0m\u001b[0;34m.\u001b[0m\u001b[0m_service_model\u001b[0m\u001b[0;34m.\u001b[0m\u001b[0mservice_id\u001b[0m\u001b[0;34m.\u001b[0m\u001b[0mhyphenize\u001b[0m\u001b[0;34m(\u001b[0m\u001b[0;34m)\u001b[0m\u001b[0;34m\u001b[0m\u001b[0;34m\u001b[0m\u001b[0m\n",
      "\u001b[0;32m~/anaconda3/envs/python3/lib/python3.6/site-packages/botocore/client.py\u001b[0m in \u001b[0;36m_convert_to_request_dict\u001b[0;34m(self, api_params, operation_model, context)\u001b[0m\n\u001b[1;32m    738\u001b[0m             api_params, operation_model, context)\n\u001b[1;32m    739\u001b[0m         request_dict = self._serializer.serialize_to_request(\n\u001b[0;32m--> 740\u001b[0;31m             api_params, operation_model)\n\u001b[0m\u001b[1;32m    741\u001b[0m         \u001b[0;32mif\u001b[0m \u001b[0;32mnot\u001b[0m \u001b[0mself\u001b[0m\u001b[0;34m.\u001b[0m\u001b[0m_client_config\u001b[0m\u001b[0;34m.\u001b[0m\u001b[0minject_host_prefix\u001b[0m\u001b[0;34m:\u001b[0m\u001b[0;34m\u001b[0m\u001b[0;34m\u001b[0m\u001b[0m\n\u001b[1;32m    742\u001b[0m             \u001b[0mrequest_dict\u001b[0m\u001b[0;34m.\u001b[0m\u001b[0mpop\u001b[0m\u001b[0;34m(\u001b[0m\u001b[0;34m'host_prefix'\u001b[0m\u001b[0;34m,\u001b[0m \u001b[0;32mNone\u001b[0m\u001b[0;34m)\u001b[0m\u001b[0;34m\u001b[0m\u001b[0;34m\u001b[0m\u001b[0m\n",
      "\u001b[0;32m~/anaconda3/envs/python3/lib/python3.6/site-packages/botocore/validate.py\u001b[0m in \u001b[0;36mserialize_to_request\u001b[0;34m(self, parameters, operation_model)\u001b[0m\n\u001b[1;32m    358\u001b[0m                                                     operation_model.input_shape)\n\u001b[1;32m    359\u001b[0m             \u001b[0;32mif\u001b[0m \u001b[0mreport\u001b[0m\u001b[0;34m.\u001b[0m\u001b[0mhas_errors\u001b[0m\u001b[0;34m(\u001b[0m\u001b[0;34m)\u001b[0m\u001b[0;34m:\u001b[0m\u001b[0;34m\u001b[0m\u001b[0;34m\u001b[0m\u001b[0m\n\u001b[0;32m--> 360\u001b[0;31m                 \u001b[0;32mraise\u001b[0m \u001b[0mParamValidationError\u001b[0m\u001b[0;34m(\u001b[0m\u001b[0mreport\u001b[0m\u001b[0;34m=\u001b[0m\u001b[0mreport\u001b[0m\u001b[0;34m.\u001b[0m\u001b[0mgenerate_report\u001b[0m\u001b[0;34m(\u001b[0m\u001b[0;34m)\u001b[0m\u001b[0;34m)\u001b[0m\u001b[0;34m\u001b[0m\u001b[0;34m\u001b[0m\u001b[0m\n\u001b[0m\u001b[1;32m    361\u001b[0m         return self._serializer.serialize_to_request(parameters,\n\u001b[1;32m    362\u001b[0m                                                      operation_model)\n",
      "\u001b[0;31mParamValidationError\u001b[0m: Parameter validation failed:\nInvalid type for parameter Body, value: [0, 0, 0, 0, 0, 0, 0, 0, 0, 0, 0, 0, 0, 0, 0, 0, 0, 0, 0, 0, 0, 0, 0, 0, 0, 0, 0, 0, 0, 0, 0, 0, 0, 0, 0, 0, 0, 0, 0, 0, 0, 0, 0, 0, 0, 0, 0, 0, 0, 0, 0, 0, 0, 0, 0, 0, 0, 0, 0, 0, 0, 0, 0, 0, 0, 0, 0, 0, 0, 0, 0, 0, 0, 0, 0, 0, 0, 0, 0, 0, 0, 0, 0, 0, 0, 0, 0, 0, 0, 0, 0, 0, 0, 0, 0, 0, 0, 0, 0, 0, 0, 0, 0, 0, 0, 0, 0, 0, 0, 0, 0, 0, 0, 0, 0, 0, 0, 0, 0, 0, 0, 0, 0, 0, 0, 0, 0, 0, 0, 0, 0, 0, 0, 0, 0, 0, 0, 0, 0, 0, 0, 0, 0, 0, 0, 0, 0, 0, 0, 0, 0, 0, 0, 0, 0, 0, 0, 0, 0, 0, 0, 0, 0, 0, 0, 0, 0, 0, 0, 0, 0, 0, 0, 0, 0, 0, 0, 0, 0, 0, 0, 0, 0, 0, 0, 0, 0, 0, 0, 0, 0, 0, 0, 0, 0, 0, 0, 0, 0, 0, 0, 0, 0, 0, 0, 0, 0, 0, 0, 0, 0, 0, 0, 0, 0, 0, 0, 0, 0, 0, 0, 0, 0, 0, 0, 0, 1, 0, 0, 0, 0, 0, 0, 0, 0, 0, 0, 0, 0, 0, 0, 0, 0, 0, 0, 0, 0, 0, 0, 0, 0, 0, 0, 0, 0, 0, 1, 0, 0, 0, 0, 0, 0, 0, 0, 0, 0, 0, 0, 0, 0, 0, 0, 0, 0, 0, 0, 0, 0, 0, 0, 0, 0, 0, 0, 0, 0, 0, 0, 0, 0, 0, 0, 0, 0, 0, 0, 0, 0, 0, 0, 0, 0, 0, 0, 0, 0, 0, 0, 0, 0, 0, 0, 0, 0, 0, 0, 0, 0, 0, 0, 0, 0, 0, 0, 0, 0, 0, 0, 0, 0, 0, 0, 0, 0, 0, 0, 0, 0, 0, 0, 0, 0, 0, 0, 0, 0, 0, 0, 0, 0, 0, 0, 0, 0, 0, 0, 0, 0, 0, 0, 0, 0, 0, 0, 0, 0, 0, 0, 0, 0, 0, 0, 0, 0, 0, 0, 0, 0, 0, 0, 0, 0, 0, 0, 0, 0, 0, 0, 0, 0, 0, 0, 0, 0, 0, 0, 0, 0, 0, 0, 0, 0, 0, 0, 0, 0, 0, 0, 0, 0, 0, 0, 0, 0, 0, 0, 0, 0, 0, 0, 0, 0, 0, 0, 0, 0, 0, 0, 0, 0, 0, 0, 0, 0, 0, 0, 0, 0, 0, 0, 0, 0, 0, 0, 0, 0, 0, 0, 0, 0, 0, 0, 0, 0, 0, 0, 0, 0, 0, 0, 0, 0, 0, 0, 0, 0, 0, 0, 0, 0, 0, 0, 0, 0, 0, 0, 0, 0, 0, 0, 0, 0, 0, 0, 0, 0, 0, 0, 0, 0, 0, 0, 0, 0, 0, 0, 0, 0, 0, 0, 0, 0, 0, 0, 0, 0, 0, 0, 0, 0, 0, 0, 0, 0, 0, 0, 0, 0, 0, 0, 0, 0, 0, 0, 0, 0, 0, 0, 0, 0, 0, 0, 0, 0, 0, 0, 0, 0, 0, 0, 0, 0, 0, 0, 0, 0, 0, 0, 0, 0, 0, 0, 0, 0, 0, 0, 0, 0, 0, 0, 0, 0, 0, 0, 0, 0, 0, 0, 0, 0, 0, 0, 0, 0, 0, 0, 0, 0, 0, 0, 0, 0, 0, 0, 0, 0, 0, 0, 0, 0, 0, 0, 0, 0, 0, 0, 0, 0, 0, 0, 0, 0, 0, 0, 0, 0, 0, 0, 0, 0, 0, 0, 0, 0, 0, 0, 0, 0, 0, 0, 0, 0, 0, 0, 0, 0, 0, 0, 0, 0, 0, 0, 0, 0, 0, 1, 0, 0, 0, 0, 0, 0, 0, 0, 0, 0, 0, 0, 0, 0, 0, 0, 0, 0, 0, 0, 0, 0, 0, 0, 0, 0, 0, 0, 0, 0, 0, 0, 0, 0, 0, 0, 0, 0, 0, 0, 0, 0, 0, 0, 0, 0, 0, 0, 0, 0, 0, 0, 0, 0, 0, 0, 0, 0, 0, 0, 0, 0, 0, 0, 0, 0, 0, 0, 0, 0, 0, 0, 0, 0, 0, 0, 0, 0, 0, 0, 0, 0, 0, 0, 0, 0, 0, 0, 0, 0, 0, 0, 0, 0, 0, 0, 0, 0, 0, 0, 0, 0, 0, 0, 0, 0, 0, 0, 0, 0, 0, 0, 0, 0, 0, 0, 0, 0, 0, 0, 0, 0, 0, 0, 0, 0, 0, 0, 0, 0, 0, 0, 0, 0, 0, 0, 0, 0, 0, 0, 0, 0, 0, 0, 0, 0, 0, 0, 0, 0, 0, 0, 0, 0, 0, 0, 0, 0, 0, 0, 0, 0, 0, 0, 0, 0, 0, 0, 0, 0, 0, 0, 0, 0, 0, 0, 0, 0, 0, 0, 0, 0, 0, 0, 0, 0, 0, 0, 0, 0, 0, 0, 0, 0, 0, 0, 0, 0, 0, 0, 0, 0, 0, 0, 0, 0, 0, 0, 0, 0, 0, 0, 0, 0, 0, 0, 0, 0, 0, 0, 0, 0, 0, 0, 0, 0, 0, 0, 0, 0, 0, 0, 0, 0, 0, 0, 0, 0, 0, 0, 0, 0, 0, 0, 0, 0, 0, 0, 0, 0, 0, 0, 0, 1, 0, 0, 0, 0, 0, 0, 0, 0, 0, 0, 0, 0, 0, 0, 0, 0, 0, 0, 0, 0, 0, 0, 0, 0, 0, 0, 0, 0, 0, 0, 0, 0, 0, 0, 0, 0, 0, 0, 0, 0, 0, 0, 0, 0, 0, 0, 0, 0, 0, 0, 0, 0, 0, 0, 0, 0, 0, 0, 0, 0, 0, 0, 0, 0, 0, 0, 0, 0, 0, 0, 0, 0, 0, 0, 0, 0, 0, 0, 0, 0, 0, 0, 0, 0, 0, 0, 1, 0, 0, 0, 0, 0, 0, 0, 0, 0, 0, 0, 0, 0, 0, 0, 0, 0, 0, 0, 0, 0, 0, 0, 0, 0, 0, 0, 0, 0, 0, 0, 0, 0, 0, 0, 0, 0, 0, 0, 0, 0, 0, 0, 0, 0, 0, 0, 0, 0, 0, 0, 0, 0, 0, 0, 0, 0, 0, 0, 0, 0, 0, 0, 0, 0, 0, 0, 0, 0, 0, 0, 0, 0, 0, 0, 0, 0, 0, 0, 0, 0, 0, 0, 0, 0, 0, 0, 0, 0, 0, 0, 0, 0, 0, 0, 0, 0, 0, 0, 0, 0, 0, 0, 0, 0, 0, 0, 0, 0, 0, 0, 0, 0, 0, 0, 0, 0, 0, 0, 0, 0, 0, 0, 0, 0, 0, 0, 0, 0, 0, 0, 0, 0, 0, 0, 0, 0, 0, 0, 0, 0, 0, 0, 0, 0, 0, 0, 0, 0, 0, 0, 0, 0, 0, 0, 0, 0, 0, 0, 0, 0, 0, 0, 0, 0, 0, 0, 0, 0, 0, 0, 0, 0, 0, 0, 0, 0, 0, 0, 0, 0, 0, 0, 0, 0, 0, 0, 0, 0, 0, 0, 0, 0, 0, 0, 0, 0, 0, 0, 0, 0, 0, 0, 0, 0, 0, 0, 0, 0, 0, 0, 0, 0, 0, 0, 0, 0, 0, 0, 0, 0, 0, 0, 0, 0, 0, 0, 0, 0, 0, 0, 0, 0, 0, 0, 0, 0, 0, 0, 0, 0, 0, 0, 0, 0, 0, 0, 0, 0, 0, 0, 0, 1, 0, 0, 0, 0, 0, 0, 0, 0, 0, 0, 0, 0, 0, 0, 0, 0, 0, 0, 0, 0, 0, 0, 0, 0, 0, 0, 0, 0, 0, 0, 0, 0, 0, 0, 0, 0, 0, 0, 0, 0, 0, 0, 0, 0, 0, 0, 0, 0, 0, 0, 0, 0, 0, 0, 0, 1, 0, 0, 0, 0, 0, 0, 0, 0, 0, 0, 0, 0, 0, 0, 0, 0, 0, 0, 0, 0, 0, 0, 0, 0, 0, 0, 0, 0, 0, 0, 0, 0, 0, 0, 0, 0, 0, 0, 0, 0, 0, 0, 0, 0, 0, 0, 0, 0, 0, 0, 0, 0, 0, 0, 0, 0, 0, 0, 0, 0, 0, 0, 0, 0, 0, 0, 0, 0, 0, 0, 0, 0, 0, 0, 0, 0, 0, 0, 0, 0, 0, 0, 0, 0, 0, 0, 0, 0, 0, 0, 0, 0, 0, 0, 0, 0, 0, 0, 0, 0, 0, 0, 0, 0, 0, 0, 0, 0, 0, 0, 0, 0, 0, 0, 0, 0, 0, 0, 0, 0, 0, 0, 0, 0, 0, 0, 0, 0, 0, 0, 0, 0, 0, 0, 0, 0, 0, 0, 0, 0, 0, 0, 0, 0, 0, 0, 0, 0, 0, 0, 0, 0, 0, 0, 0, 0, 0, 0, 0, 0, 0, 0, 0, 0, 0, 0, 0, 0, 0, 0, 0, 0, 0, 0, 0, 0, 0, 0, 0, 0, 0, 0, 0, 0, 0, 0, 0, 0, 0, 0, 0, 0, 0, 0, 0, 0, 0, 0, 0, 0, 0, 0, 0, 0, 0, 0, 0, 0, 0, 0, 0, 0, 0, 0, 0, 0, 0, 0, 0, 0, 0, 0, 0, 0, 0, 0, 0, 0, 0, 0, 0, 0, 0, 0, 0, 0, 0, 0, 0, 0, 0, 0, 0, 0, 0, 0, 0, 0, 0, 0, 0, 0, 0, 0, 0, 0, 0, 0, 0, 0, 0, 0, 0, 0, 0, 0, 0, 0, 0, 0, 0, 0, 0, 0, 0, 0, 0, 0, 0, 0, 0, 0, 0, 0, 0, 0, 0, 0, 0, 0, 0, 0, 0, 0, 0, 0, 0, 0, 0, 0, 0, 0, 0, 0, 0, 0, 0, 0, 0, 0, 0, 0, 0, 0, 0, 0, 0, 0, 0, 0, 0, 0, 0, 0, 0, 0, 0, 0, 0, 0, 0, 0, 0, 0, 0, 0, 0, 0, 0, 0, 0, 0, 0, 0, 0, 0, 0, 0, 0, 0, 0, 0, 0, 0, 0, 0, 0, 0, 0, 0, 0, 0, 0, 0, 0, 0, 0, 0, 0, 0, 0, 0, 0, 0, 0, 0, 0, 0, 0, 0, 0, 0, 0, 0, 0, 0, 0, 0, 0, 0, 0, 0, 0, 0, 0, 0, 0, 0, 0, 0, 0, 0, 0, 0, 0, 0, 0, 0, 0, 0, 0, 0, 0, 0, 0, 0, 0, 0, 0, 0, 0, 0, 0, 0, 0, 0, 0, 0, 0, 0, 0, 0, 0, 0, 0, 0, 0, 0, 0, 0, 0, 0, 0, 0, 0, 0, 0, 0, 0, 0, 0, 0, 0, 0, 0, 0, 0, 0, 0, 0, 0, 0, 0, 0, 0, 0, 0, 0, 0, 0, 0, 0, 0, 0, 0, 0, 0, 0, 0, 0, 0, 0, 0, 0, 0, 0, 0, 0, 0, 0, 0, 0, 0, 0, 0, 0, 0, 0, 0, 0, 0, 0, 0, 0, 0, 0, 0, 0, 0, 0, 0, 0, 0, 0, 0, 0, 0, 0, 0, 0, 0, 0, 0, 0, 0, 0, 0, 0, 0, 0, 0, 0, 0, 0, 0, 0, 0, 0, 0, 0, 0, 0, 0, 0, 0, 0, 0, 0, 0, 0, 0, 0, 0, 0, 0, 0, 0, 0, 0, 0, 0, 0, 0, 0, 0, 0, 0, 0, 0, 0, 0, 0, 0, 0, 0, 0, 0, 0, 0, 0, 0, 0, 0, 0, 0, 0, 0, 0, 0, 0, 0, 0, 0, 0, 0, 0, 0, 0, 0, 0, 0, 0, 0, 0, 0, 0, 0, 0, 0, 0, 0, 0, 0, 0, 0, 0, 0, 0, 0, 0, 0, 0, 0, 0, 0, 0, 0, 0, 0, 0, 0, 0, 0, 0, 0, 0, 0, 0, 0, 0, 0, 0, 0, 0, 0, 0, 0, 0, 0, 0, 0, 0, 0, 0, 0, 0, 0, 0, 0, 0, 0, 0, 0, 0, 0, 0, 0, 0, 0, 0, 0, 0, 0, 0, 0, 0, 0, 0, 0, 0, 0, 1, 0, 0, 0, 0, 0, 0, 0, 0, 0, 0, 0, 0, 0, 0, 0, 0, 0, 0, 0, 0, 0, 0, 0, 0, 0, 0, 0, 0, 0, 0, 0, 0, 0, 0, 0, 0, 0, 0, 0, 0, 0, 0, 0, 0, 0, 0, 0, 0, 0, 0, 0, 0, 0, 0, 0, 0, 0, 0, 0, 0, 0, 0, 0, 0, 0, 0, 0, 0, 0, 0, 0, 0, 0, 0, 1, 0, 0, 0, 0, 0, 0, 0, 0, 0, 0, 0, 0, 0, 0, 0, 0, 0, 0, 0, 0, 1, 0, 0, 1, 0, 0, 0, 0, 0, 0, 0, 0, 0, 0, 0, 0, 0, 0, 0, 0, 0, 0, 0, 0, 0, 0, 0, 0, 0, 0, 0, 0, 0, 0, 0, 0, 0, 0, 0, 0, 0, 0, 0, 0, 0, 0, 0, 0, 0, 0, 0, 0, 0, 0, 0, 0, 0, 0, 0, 0, 0, 0, 0, 0, 0, 0, 0, 0, 0, 0, 0, 0, 0, 0, 0, 0, 0, 0, 0, 0, 0, 0, 0, 0, 0, 0, 0, 0, 0, 0, 0, 0, 0, 0, 0, 0, 0, 0, 0, 0, 0, 0, 0, 0, 0, 0, 0, 0, 0, 0, 0, 0, 0, 0, 0, 0, 0, 0, 0, 0, 0, 0, 0, 0, 0, 0, 0, 0, 0, 0, 0, 0, 0, 0, 0, 0, 0, 0, 0, 0, 0, 0, 0, 0, 0, 0, 0, 0, 0, 0, 0, 0, 0, 0, 0, 0, 0, 0, 0, 0, 0, 0, 0, 0, 0, 0, 0, 0, 0, 0, 0, 0, 0, 0, 0, 0, 0, 0, 0, 0, 0, 0, 0, 0, 0, 0, 0, 0, 0, 0, 0, 0, 0, 0, 0, 0, 0, 0, 0, 0, 0, 0, 0, 0, 0, 0, 0, 0, 0, 0, 0, 0, 0, 0, 0, 0, 0, 0, 0, 0, 0, 0, 0, 0, 0, 0, 0, 0, 0, 0, 0, 0, 0, 0, 0, 0, 0, 0, 0, 0, 0, 0, 0, 0, 0, 0, 0, 0, 0, 0, 0, 0, 0, 0, 0, 0, 0, 0, 0, 0, 0, 0, 0, 0, 0, 0, 0, 0, 0, 0, 0, 0, 0, 0, 0, 0, 0, 0, 0, 0, 0, 0, 0, 0, 0, 0, 0, 0, 0, 0, 0, 0, 0, 0, 0, 0, 0, 0, 0, 0, 0, 0, 0, 0, 0, 0, 0, 0, 0, 0, 0, 0, 0, 0, 0, 0, 0, 0, 0, 0, 0, 0, 0, 0, 0, 0, 0, 0, 0, 0, 0, 0, 0, 0, 0, 0, 0, 0, 0, 0, 0, 0, 0, 0, 0, 0, 0, 0, 0, 0, 0, 0, 0, 0, 0, 0, 0, 0, 0, 0, 0, 0, 0, 0, 0, 0, 0, 0, 0, 0, 0, 0, 0, 0, 0, 0, 0, 0, 0, 0, 0, 0, 0, 0, 0, 0, 0, 0, 0, 0, 0, 0, 0, 0, 0, 0, 0, 0, 0, 0, 0, 0, 0, 0, 0, 0, 0, 0, 0, 0, 0, 0, 0, 0, 0, 0, 0, 0, 0, 0, 0, 0, 0, 0, 0, 0, 0, 0, 0, 0, 0, 0, 0, 0, 0, 0, 0, 0, 0, 0, 0, 0, 0, 0, 0, 0, 0, 0, 0, 0, 0, 0, 0, 0, 0, 0, 0, 0, 0, 0, 0, 0, 0, 0, 0, 0, 0, 0, 0, 0, 1, 0, 0, 0, 0, 0, 0, 0, 0, 0, 0, 0, 0, 0, 0, 0, 0, 0, 0, 0, 0, 0, 0, 0, 0, 0, 0, 0, 0, 0, 0, 0, 0, 0, 0, 0, 0, 0, 0, 0, 0, 0, 0, 0, 0, 0, 0, 0, 0, 0, 0, 0, 0, 0, 0, 0, 0, 0, 0, 0, 0, 0, 0, 0, 0, 0, 0, 0, 0, 0, 0, 0, 0, 0, 0, 0, 0, 0, 0, 0, 0, 0, 0, 0, 0, 0, 0, 0, 0, 0, 0, 0, 0, 0, 0, 0, 0, 0, 0, 0, 0, 0, 0, 0, 0, 0, 0, 0, 0, 0, 0, 0, 0, 0, 0, 0, 0, 0, 0, 0, 0, 0, 0, 0, 0, 0, 0, 0, 0, 0, 0, 0, 0, 0, 0, 0, 0, 0, 0, 0, 0, 0, 0, 0, 0, 0, 0, 0, 0, 0, 0, 0, 0, 0, 0, 0, 0, 0, 0, 0, 0, 0, 0, 0, 0, 0, 0, 0, 0, 0, 0, 0, 0, 0, 0, 0, 0, 0, 0, 0, 0, 0, 0, 0, 0, 0, 0, 0, 0, 0, 0, 0, 0, 0, 0, 0, 0, 0, 0, 0, 0, 0, 0, 0, 0, 0, 0, 0, 0, 0, 0, 0, 0, 0, 0, 0, 0, 0, 0, 0, 0, 0, 0, 0, 0, 0, 0, 0, 0, 0, 0, 0, 0, 0, 0, 0, 0, 0, 0, 0, 0, 0, 0, 0, 0, 0, 0, 0, 0, 0, 0, 0, 0, 0, 0, 0, 0, 0, 0, 0, 0, 0, 0, 0, 0, 0, 0, 0, 0, 0, 0, 0, 0, 0, 0, 0, 0, 0, 0, 0, 0, 0, 0, 0, 0, 0, 0, 0, 0, 0, 0, 0, 0, 0, 0, 0, 0, 0, 0, 0, 0, 0, 0, 0, 0, 0, 0, 0, 0, 0, 0, 0, 0, 0, 0, 0, 0, 0, 0, 0, 0, 0, 0, 0, 0, 0, 0, 0, 0, 0, 0, 0, 0, 0, 0, 0, 0, 0, 0, 0, 0, 0, 0, 0, 0, 0, 0, 0, 0, 0, 0, 0, 0, 0, 0, 0, 0, 0, 0, 0, 0, 0, 0, 0, 0, 0, 0, 0, 0, 0, 0, 0, 0, 0, 0, 0, 0, 0, 0, 0, 0, 0, 0, 0, 0, 0, 0, 0, 0, 0, 0, 0, 0, 0, 0, 0, 0, 0, 0, 0, 0, 0, 0, 0, 0, 0, 0, 0, 0, 0, 0, 0, 0, 0, 0, 0, 0, 0, 0, 0, 0, 0, 0, 0, 0, 0, 0, 0, 0, 0, 0, 0, 0, 0, 0, 0, 0, 0, 0, 0, 0, 0, 0, 0, 0, 0, 0, 0, 0, 0, 0, 0, 0, 0, 0, 0, 0, 0, 0, 0, 0, 0, 0, 0, 0, 0, 0, 0, 0, 0, 0, 0, 0, 0, 0, 0, 0, 0, 0, 0, 0, 0, 0, 0, 0, 0, 0, 0, 0, 0, 0, 0, 0, 0, 0, 0, 0, 0, 0, 0, 0, 0, 0, 0, 0, 0, 0, 0, 0, 0, 0, 0, 0, 1, 0, 0, 0, 0, 0, 0, 0, 0, 0, 0, 0, 0, 0, 0, 0, 0, 0, 0, 0, 0, 0, 0, 0, 0, 0, 0, 0, 0, 0, 0, 0, 0, 0, 0, 0, 2, 0, 0, 0, 0, 0, 0, 0, 0, 0, 0, 0, 0, 0, 0, 0, 0, 0, 0, 0, 0, 0, 0, 0, 0, 0, 0, 0, 0, 0, 0, 0, 0, 0, 0, 0, 0, 0, 0, 0, 0, 1, 0, 0, 0, 0, 0, 0, 0, 0, 0, 0, 0, 0, 0, 0, 0, 0, 0, 0, 0, 0, 0, 0, 0, 0, 0, 0, 0, 0, 0, 0, 0, 0, 0, 0, 0, 0, 0, 0, 0, 0, 0, 0, 0, 0, 0, 0, 0, 0, 0, 0, 0, 0, 0, 0, 0, 0, 0, 0, 0, 0, 0, 0, 0, 0, 0, 0, 0, 0, 0, 0, 0, 0, 0, 0, 0, 0, 0, 0, 0, 0, 0, 0, 0, 0, 0, 0, 0, 0, 0, 0, 0, 0, 0, 0, 0, 0, 0, 0, 0, 0, 0, 0, 0, 0, 0, 0, 0, 0, 0, 0, 0, 0, 0, 0, 0, 0, 0, 0, 0, 0, 0, 0, 0, 0, 0, 0, 0, 0, 0, 0, 0, 0, 0, 0, 0, 0, 0, 0, 0, 0, 0, 0, 0, 0, 0, 0, 0, 0, 0, 0, 0, 0, 0, 0, 0, 0, 0, 0, 0, 0, 0, 0, 0, 0, 0, 0, 0, 0, 0, 0, 0, 0, 0, 0, 0, 0, 0, 0, 0, 0, 0, 0, 0, 0, 0, 0, 0, 0, 0, 0, 0, 0, 0, 0, 0, 0, 0, 0, 0, 0, 0, 0, 0, 0, 0, 0, 0, 0, 0, 0, 0, 0, 0, 0, 0, 0, 0, 0, 0, 0, 0, 0, 0, 0, 0, 0, 0, 0, 0, 0, 0, 0, 0, 0, 0, 0, 0, 0, 0, 0, 0, 0, 0, 0, 0, 0, 0, 0, 0, 0, 0, 0, 0, 0, 0, 0, 0, 0, 0, 0, 0, 0, 0, 0, 0, 0, 0, 0, 0, 0, 0, 0, 0, 0, 0, 0, 0, 0, 0, 0, 0, 0, 0, 0, 0, 0, 0, 0, 0, 0, 0, 0, 0, 0, 0, 0, 0, 0, 0, 0, 0, 0, 0, 0, 0, 0, 0, 0, 0, 0, 0, 0, 0, 0, 0, 0, 0, 0, 0, 0, 0, 0, 0, 0, 0, 0, 0, 0, 0, 0, 0, 0, 0, 0, 0, 0, 0, 0, 0, 0, 0, 0, 0, 0, 0, 0, 0, 0, 0, 0, 0, 0, 0, 0, 0, 0, 0, 0, 0, 0, 0, 0, 0, 0, 0, 0, 0, 0, 0, 0, 0, 0, 0, 0, 0, 0, 0, 0, 0, 0, 0, 0, 0, 0, 0, 0, 0, 0, 0, 0, 0, 0, 0, 0, 0, 0, 0, 0, 0, 0, 0, 0, 0, 0, 0, 0, 0, 0, 0, 0, 0, 0, 0, 0, 0, 0, 0, 0, 0, 0, 0, 0, 0, 0, 0, 0, 0, 0, 0, 0, 0, 0, 0, 0, 0, 0, 0, 0, 0, 0, 0, 0, 0, 0, 0, 0, 0, 0, 0, 0, 0, 0, 0, 0, 0, 0, 0, 0, 0, 0, 0, 0, 0, 0, 0, 0, 0, 0, 0, 0, 0, 0, 0, 0, 0, 0, 0, 0, 0, 0, 0, 0, 0, 0, 0, 0, 0, 0, 0, 0, 0, 0, 0, 0, 0, 0, 0, 1, 0, 0, 0, 0, 0, 0, 0, 0, 0, 0, 0, 0, 0, 0, 0, 0, 0, 0, 0, 0, 0, 0, 0, 0, 0, 0, 0, 0, 0, 0, 0, 0, 0, 0, 0, 0, 0, 0, 0, 0, 0, 0, 0, 0, 0, 0, 0, 0, 0, 0, 0, 0, 0, 0, 0, 0, 0, 0, 0, 0, 0, 0, 0, 0, 0, 0, 0, 0, 0, 0, 0, 0, 0, 0, 0, 0, 0, 0, 0, 0, 0, 0, 0, 0, 0, 0, 0, 0, 0, 0, 0, 0, 0, 0, 0, 0, 0, 0, 0, 0, 0, 0, 0, 0, 0, 0, 0, 0, 0, 0, 2, 0, 0, 0, 0, 0, 0, 0, 0, 0, 0, 0, 0, 0, 0, 0, 0, 0, 0, 0, 0, 0, 0, 0, 0, 0, 0, 0, 0, 0, 0, 0, 0, 0, 0, 0, 0, 0, 0, 0, 0, 0, 0, 0, 0, 0, 0, 0, 0, 0, 0, 0, 0, 0, 0, 0, 0, 0, 0, 0, 0, 0, 0, 0, 0, 0, 0, 0, 0, 0, 0, 0, 0, 0, 0, 0, 0, 0, 0, 0, 0, 0, 0, 0, 0, 0, 0, 0, 0, 0, 0, 0, 0, 0, 0, 0, 0, 0, 0, 0, 0, 0, 0, 0, 0, 0, 0, 0, 0, 0, 0, 0, 0, 0, 0, 0, 0, 0, 0, 0, 0, 0, 0, 0, 0, 0, 0, 0, 0, 0, 0, 0, 0, 0, 0, 0, 0, 0, 0, 0, 0, 0, 0, 0, 0, 0, 0, 0, 0, 0, 0, 0, 0, 0, 0, 0, 0, 0, 0, 0, 0, 0, 0, 0, 0, 0, 0, 0, 0, 0, 0, 0, 0, 0, 0, 0, 0, 0, 0, 0, 0, 0, 0, 0, 0, 0, 0, 0, 0, 0, 0, 0, 0, 0, 0, 0, 0, 0, 0, 0, 0, 0, 0, 0, 0, 0, 0, 0, 0, 0, 0, 0, 0, 0, 0, 0, 0, 0, 0, 0, 0, 0, 0, 0, 0, 0, 0, 0, 0, 0, 0, 0, 0, 0, 0, 0, 0, 0, 0, 0, 0, 0, 0, 0, 0, 0, 0, 0, 0, 0, 0, 0, 0, 0, 0, 0, 0, 0, 0, 0, 0, 0, 0, 0, 0, 0, 0, 0, 0, 0, 0, 0, 0, 0, 0, 0, 0, 0, 0, 0, 0, 0, 0, 0, 0, 0, 0, 0, 0, 0, 0, 0, 0, 0, 0, 0, 0, 0, 0, 0, 0, 0, 0, 0, 0, 0, 0, 0, 0, 0, 0, 0, 0, 0, 0, 0, 0, 0, 0, 0, 0, 0, 0, 0, 0, 0, 0, 0, 0, 0, 0, 0, 0, 0, 0, 0, 0, 0, 0, 0, 0, 0, 0, 0, 0, 0, 0, 0, 0, 0, 0, 0, 0, 0, 0, 0, 0, 0, 0, 0, 0, 0, 0, 0, 0, 0, 0, 0, 0, 0, 0, 0, 0, 0, 0, 0, 0, 0, 0, 0, 0, 0, 0, 0, 0, 0, 0, 0, 0, 0, 0, 0, 0, 0, 0, 0, 0, 0, 0, 0, 0, 0, 0, 0, 0, 0, 0, 0, 0, 0, 0, 0, 0, 0, 0, 0, 0, 0, 0, 0, 0, 0, 0, 0, 0, 0, 0, 0, 0, 0, 0, 0, 0, 0, 0, 0, 0, 0, 0, 0, 0, 0, 0, 0, 0, 0, 0, 0, 0, 0, 0, 0, 0, 0, 0, 0, 0, 0, 0, 0, 0, 0, 0, 0, 0, 0, 0, 0, 0, 0, 0, 0, 0, 0, 0, 0, 0, 0, 0, 0, 0, 0, 0, 0, 0, 0, 0, 0, 0, 0, 0, 0, 0, 0, 0, 0, 0, 0, 0, 0, 0, 0, 0, 0, 0, 0, 0, 0, 0, 0, 0, 0, 0, 0, 0, 0, 0, 0, 0, 0, 0, 0, 0, 0, 0, 0, 0, 0, 0, 0, 0, 0, 0, 0, 0, 0, 0, 0, 0, 0, 0, 0, 0, 0, 0, 0, 0, 0, 0, 0, 0, 0, 0, 0, 0, 0, 0, 0, 0, 0, 0, 0, 0, 0, 0, 0, 0, 0, 0, 0, 0, 0, 0, 0, 0, 0, 0, 0, 0, 0, 0, 0, 0, 0, 0, 0, 0, 0, 0, 0, 0, 0, 0, 0, 0, 0, 0, 0, 0, 0, 0, 0, 0, 0, 0, 0, 0, 0, 0, 0, 0, 0, 0, 0, 0, 0, 0, 0, 0, 0, 0, 0, 0, 0, 0, 0, 0, 0, 0, 0, 0, 0, 0, 0, 0, 0, 0, 0, 0, 0, 0, 0, 0, 0, 0, 0, 0, 0, 0, 0, 0, 0, 0, 0, 0, 0, 0, 0, 0, 0, 0, 0, 0, 0, 0, 0, 0, 0, 0, 0, 0, 0, 0, 0, 0, 0, 0, 0, 0, 0, 0, 0, 0, 0, 0, 0, 0, 0, 0, 0, 0, 1, 0, 0, 0, 0, 0, 0, 0, 0, 0, 0, 0, 0, 0, 0, 0, 0, 0, 0, 0, 0, 0, 0, 0, 0, 0, 0, 0, 0, 0, 0, 0, 0, 0, 0, 0, 0, 0, 0, 0, 0, 0, 0, 0, 0, 0, 0, 0, 0, 0, 0, 0, 0, 0, 0, 0, 0, 0, 0, 0, 0, 0, 0, 0, 0, 0, 0, 0, 0, 0, 0, 0, 0, 0, 0, 0, 0, 0, 0, 0, 0, 0, 0, 0, 0, 0, 0, 0, 0, 0, 0, 0, 0, 0, 0, 0, 0, 0, 0, 0, 0, 0, 0, 0, 0, 0, 0, 0, 1, 0, 0, 0, 0, 0, 0, 0, 0, 0, 0, 0, 0, 0, 0, 0, 0, 0, 0, 0, 0, 0, 0, 0, 0, 0, 0, 0, 0, 0, 0, 0, 0, 0, 0, 0, 0, 0, 0, 0, 0, 0, 0, 0, 0, 0, 0, 0, 0, 0, 0, 0, 0, 0, 0, 0, 0, 0, 0, 0, 0, 0, 0, 0, 0, 0, 0, 0, 0, 0, 0, 0, 0, 0, 0, 0, 0, 0, 0, 0, 0, 0, 0, 0, 0, 0, 0, 0, 0, 0, 0, 0, 0, 0, 0, 0, 0, 0, 0, 0, 0, 0, 0, 0, 0, 0, 0, 0, 0, 0, 0, 0, 0, 0, 0, 0, 0, 0, 0, 0, 0, 0, 0, 0, 0, 0, 0, 0, 0, 0, 0, 0, 0, 0, 0, 0, 0, 0, 0, 0, 0, 0, 0, 0, 0, 0, 0, 0, 0, 0, 0, 0, 0, 0, 0, 0, 0, 0, 0, 0, 0, 0, 0, 0, 0, 0, 0, 0, 0, 0, 0, 0, 0, 0, 0, 0, 0, 0, 0, 0, 0, 0, 0, 0, 0, 0, 0, 0, 0, 0, 0, 0, 0, 0, 0, 0, 0, 0, 0, 0, 0, 0, 0, 0, 0, 0, 0, 0, 0, 0, 0, 0, 0, 0, 0, 0, 0, 0, 0, 0, 0, 0, 0, 0, 0, 0, 0, 0, 0, 0, 0, 0, 0, 0, 0, 0, 0, 0, 0, 0, 0, 0, 0, 0, 0, 0, 0, 0, 0, 0, 0, 0, 0, 0, 0, 0, 0, 0, 0, 0, 0, 0, 0, 0, 0, 0, 0, 0, 0, 0, 0, 0, 0, 0, 0, 0, 0, 0, 0, 0, 0, 0, 0, 0, 0, 0, 0, 0, 0, 0, 0, 0, 0, 0, 0, 0, 0, 0, 0, 0, 0, 0, 0, 0, 0, 0, 0, 0, 0, 0, 0, 0, 0, 0, 0, 0, 0, 0, 0, 0, 0, 0, 0, 0, 0, 0, 0, 0, 0, 0, 0, 0, 0, 0, 0, 0, 0, 0, 0, 0, 0, 0, 0, 0, 0, 0, 0, 0, 0, 0, 0, 0, 0, 0, 0, 0, 0, 0, 0, 0, 0, 0, 0, 0, 0, 0, 0, 0, 0, 0, 0, 0, 0, 0, 0, 0, 0, 0, 0, 0, 0, 0, 0, 0, 0, 0, 0, 0, 0, 0, 0, 0, 0, 0, 0, 0, 0, 0, 0, 0, 0, 0, 0, 0, 0, 0, 0, 0, 0, 0, 0, 0, 0, 0, 0, 0, 0, 0, 0, 0, 0, 0, 0, 0, 0, 0, 0, 0, 0, 0, 0, 0, 0, 0, 0, 0, 0, 0, 0, 0, 0, 0, 0, 0, 0, 0, 0, 0, 0, 0, 0, 0, 0, 0, 0, 0, 0, 0, 0, 0, 0, 0, 0, 0, 2, 0, 1, 0], type: <class 'list'>, valid types: <class 'bytes'>, <class 'bytearray'>, file-like object"
     ]
    }
   ],
   "source": [
    "response = runtime.invoke_endpoint(EndpointName = xgb_predictor.endpoint, # The name of the endpoint we created\n",
    "                                       ContentType = 'text/csv',                     # The data format that is expected\n",
    "                                       Body = test_bow)"
   ]
  },
  {
   "cell_type": "markdown",
   "metadata": {},
   "source": [
    "So why did we get an error?\n",
    "\n",
    "Because we tried to send the endpoint a list of integers but it expected us to send data of type `text/csv`. So, we need to convert it."
   ]
  },
  {
   "cell_type": "code",
   "execution_count": 46,
   "metadata": {},
   "outputs": [],
   "source": [
    "response = runtime.invoke_endpoint(EndpointName = xgb_predictor.endpoint, # The name of the endpoint we created\n",
    "                                       ContentType = 'text/csv',                     # The data format that is expected\n",
    "                                       Body = ','.join([str(val) for val in test_bow]).encode('utf-8'))"
   ]
  },
  {
   "cell_type": "code",
   "execution_count": 47,
   "metadata": {},
   "outputs": [
    {
     "name": "stdout",
     "output_type": "stream",
     "text": [
      "{'ResponseMetadata': {'RequestId': '5f2d48e0-656f-4122-8d32-8478abc79fb5', 'HTTPStatusCode': 200, 'HTTPHeaders': {'x-amzn-requestid': '5f2d48e0-656f-4122-8d32-8478abc79fb5', 'x-amzn-invoked-production-variant': 'AllTraffic', 'date': 'Sun, 30 Jan 2022 18:20:01 GMT', 'content-type': 'text/csv; charset=utf-8', 'content-length': '18'}, 'RetryAttempts': 0}, 'ContentType': 'text/csv; charset=utf-8', 'InvokedProductionVariant': 'AllTraffic', 'Body': <botocore.response.StreamingBody object at 0x7f6f210f3c50>}\n"
     ]
    }
   ],
   "source": [
    "print(response)"
   ]
  },
  {
   "cell_type": "markdown",
   "metadata": {},
   "source": [
    "As we can see, the response from our model is a somewhat complicated looking dict that contains a bunch of information. The bit that we are most interested in is `'Body'` object which is a streaming object that we need to `read` in order to make use of."
   ]
  },
  {
   "cell_type": "code",
   "execution_count": 48,
   "metadata": {},
   "outputs": [
    {
     "name": "stdout",
     "output_type": "stream",
     "text": [
      "0.3164862096309662\n"
     ]
    }
   ],
   "source": [
    "response = response['Body'].read().decode('utf-8')\n",
    "print(response)"
   ]
  },
  {
   "cell_type": "markdown",
   "metadata": {},
   "source": [
    "Now that we know how to process the incoming user data we can start setting up the infrastructure to make our simple web app work. To do this we will make use of two different services. Amazon's Lambda and API Gateway services.\n",
    "\n",
    "Lambda is a service which allows someone to write some relatively simple code and have it executed whenever a chosen trigger occurs. For example, you may want to update a database whenever new data is uploaded to a folder stored on S3.\n",
    "\n",
    "API Gateway is a service that allows you to create HTTP endpoints (url addresses) which are connected to other AWS services. One of the benefits to this is that you get to decide what credentials, if any, are required to access these endpoints.\n",
    "\n",
    "In our case we are going to set up an HTTP endpoint through API Gateway which is open to the public. Then, whenever anyone sends data to our public endpoint we will trigger a Lambda function which will send the input (in our case a review) to our model's endpoint and then return the result."
   ]
  },
  {
   "cell_type": "markdown",
   "metadata": {},
   "source": [
    "### Setting up a Lambda function\n",
    "\n",
    "The first thing we are going to do is set up a Lambda function. This Lambda function will be executed whenever our public API has data sent to it. When it is executed it will receive the data, perform any sort of processing that is required, send the data (the review) to the SageMaker endpoint we've created and then return the result.\n",
    "\n",
    "#### Part A: Create an IAM Role for the Lambda function\n",
    "\n",
    "Since we want the Lambda function to call a SageMaker endpoint, we need to make sure that it has permission to do so. To do this, we will construct a role that we can later give the Lambda function.\n",
    "\n",
    "Using the AWS Console, navigate to the **IAM** page and click on **Roles**. Then, click on **Create role**. Make sure that the **AWS service** is the type of trusted entity selected and choose **Lambda** as the service that will use this role, then click **Next: Permissions**.\n",
    "\n",
    "In the search box type `sagemaker` and select the check box next to the **AmazonSageMakerFullAccess** policy. Then, click on **Next: Review**.\n",
    "\n",
    "Lastly, give this role a name. Make sure you use a name that you will remember later on, for example `LambdaSageMakerRole`. Then, click on **Create role**."
   ]
  },
  {
   "cell_type": "markdown",
   "metadata": {},
   "source": [
    "#### Part B: Create a Lambda function\n",
    "\n",
    "Now it is time to actually create the Lambda function. Remember from earlier that in order to process the user provided input and send it to our endpoint we need to gather two pieces of information:\n",
    "\n",
    " - The name of the endpoint, and\n",
    " - the vocabulary object.\n",
    "\n",
    "We will copy these pieces of information to our Lambda function after we create it.\n",
    "\n",
    "To start, using the AWS Console, navigate to the AWS Lambda page and click on **Create a function**. When you get to the next page, make sure that **Author from scratch** is selected. Now, name your Lambda function, using a name that you will remember later on, for example `sentiment_analysis_xgboost_func`. Make sure that the **Python 3.6** runtime is selected and then choose the role that you created in the previous part. Then, click on **Create Function**.\n",
    "\n",
    "On the next page you will see some information about the Lambda function you've just created. If you scroll down you should see an editor in which you can write the code that will be executed when your Lambda function is triggered. Collecting the code we wrote above to process a single review and adding it to the provided example `lambda_handler` we arrive at the following.\n",
    "\n",
    "```python\n",
    "# We need to use the low-level library to interact with SageMaker since the SageMaker API\n",
    "# is not available natively through Lambda.\n",
    "import boto3\n",
    "\n",
    "# And we need the regular expression library to do some of the data processing\n",
    "import re\n",
    "\n",
    "REPLACE_NO_SPACE = re.compile(\"(\\.)|(\\;)|(\\:)|(\\!)|(\\')|(\\?)|(\\,)|(\\\")|(\\()|(\\))|(\\[)|(\\])\")\n",
    "REPLACE_WITH_SPACE = re.compile(\"(<br\\s*/><br\\s*/>)|(\\-)|(\\/)\")\n",
    "\n",
    "def review_to_words(review):\n",
    "    words = REPLACE_NO_SPACE.sub(\"\", review.lower())\n",
    "    words = REPLACE_WITH_SPACE.sub(\" \", words)\n",
    "    return words\n",
    "    \n",
    "def bow_encoding(words, vocabulary):\n",
    "    bow = [0] * len(vocabulary) # Start by setting the count for each word in the vocabulary to zero.\n",
    "    for word in words.split():  # For each word in the string\n",
    "        if word in vocabulary:  # If the word is one that occurs in the vocabulary, increase its count.\n",
    "            bow[vocabulary[word]] += 1\n",
    "    return bow\n",
    "\n",
    "\n",
    "def lambda_handler(event, context):\n",
    "    \n",
    "    vocab = \"*** ACTUAL VOCABULARY GOES HERE ***\"\n",
    "    \n",
    "    words = review_to_words(event['body'])\n",
    "    bow = bow_encoding(words, vocab)\n",
    "\n",
    "    # The SageMaker runtime is what allows us to invoke the endpoint that we've created.\n",
    "    runtime = boto3.Session().client('sagemaker-runtime')\n",
    "\n",
    "    # Now we use the SageMaker runtime to invoke our endpoint, sending the review we were given\n",
    "    response = runtime.invoke_endpoint(EndpointName = '***ENDPOINT NAME HERE***',# The name of the endpoint we created\n",
    "                                       ContentType = 'text/csv',                 # The data format that is expected\n",
    "                                       Body = ','.join([str(val) for val in bow]).encode('utf-8')) # The actual review\n",
    "\n",
    "    # The response is an HTTP response whose body contains the result of our inference\n",
    "    result = response['Body'].read().decode('utf-8')\n",
    "    \n",
    "    # Round the result so that our web app only gets '1' or '0' as a response.\n",
    "    result = round(float(result))\n",
    "\n",
    "    return {\n",
    "        'statusCode' : 200,\n",
    "        'headers' : { 'Content-Type' : 'text/plain', 'Access-Control-Allow-Origin' : '*' },\n",
    "        'body' : str(result)\n",
    "    }\n",
    "```"
   ]
  },
  {
   "cell_type": "markdown",
   "metadata": {},
   "source": [
    "Once you have copy and pasted the code above into the Lambda code editor, replace the `**ENDPOINT NAME HERE**` portion with the name of the endpoint that we deployed earlier. You can determine the name of the endpoint using the code cell below."
   ]
  },
  {
   "cell_type": "code",
   "execution_count": 49,
   "metadata": {},
   "outputs": [
    {
     "data": {
      "text/plain": [
       "'xgboost-2022-01-30-17-47-43-340'"
      ]
     },
     "execution_count": 49,
     "metadata": {},
     "output_type": "execute_result"
    }
   ],
   "source": [
    "xgb_predictor.endpoint"
   ]
  },
  {
   "cell_type": "markdown",
   "metadata": {},
   "source": [
    "In addition, you will need to copy the vocabulary dict to the appropriate place in the code at the beginning of the `lambda_handler` method. The cell below prints out the vocabulary dict in a way that is easy to copy and paste."
   ]
  },
  {
   "cell_type": "code",
   "execution_count": 50,
   "metadata": {},
   "outputs": [
    {
     "name": "stdout",
     "output_type": "stream",
     "text": [
      "{'really': 3556, 'liked': 2600, 'did': 1241, 'have': 2052, 'no': 3020, 'problem': 3408, 'with': 4911, 'extremely': 1610, 'low': 2676, 'budget': 610, 'movies': 2927, 'and': 226, 'enjoyed': 1486, 'worse': 4951, 'production': 3419, 'values': 4710, 'than': 4420, 'if': 2222, 'you': 4986, 'can': 665, 'imagine': 2238, 'such': 4268, 'thing': 4450, 'check': 777, 'out': 3141, 'vs': 4767, 'zombies': 4998, 'youre': 4992, 'interested': 2324, 'indeed': 2271, 'prefer': 3368, 'lower': 2677, 'zombie': 4997, 'films': 1721, 'because': 432, 'am': 204, 'suspicious': 4332, 'that': 4424, 'hollywood': 2137, 'directors': 1266, 'do': 1302, 'not': 3040, 'understand': 4643, 'what': 4858, 'are': 285, 'about': 67, 'but': 636, 'was': 4805, 'just': 2437, 'so': 4046, 'bad': 382, 'it': 2366, 'retarded': 3663, 'dont': 1324, 'want': 4788, 'to': 4507, 'bother': 548, 'being': 448, 'in': 2257, 'my': 2951, 'criticism': 1063, '90': 60, 'minutes': 2859, 'back': 378, 'etc': 1527, 'except': 1556, 'only': 3110, 'took': 4523, '80': 58, 'through': 4477, 'put': 3480, 'into': 2332, 'fast': 1661, 'forward': 1808, 'okay': 3099, 'heres': 2087, 'some': 4061, 'the': 4426, 'pacing': 3163, 'terrible': 4407, 'everyone': 1542, 'talked': 4359, 'even': 1533, 'when': 4862, 'someone': 4064, 'had': 2003, 'single': 3996, 'line': 2610, 'camera': 659, 'work': 4940, 'editing': 1421, 'of': 3083, 'bunch': 623, 'every': 1539, 'sentence': 3881, 'made': 2697, 'feel': 1684, 'like': 2599, 'at': 331, 'first': 1736, 'excited': 1561, 'minute': 2858, 'running': 3756, 'time': 4495, 'compared': 912, '70': 55, 'there': 4438, 'were': 4848, 'actually': 109, 'events': 1536, 'its': 2370, 'all': 187, 'talking': 4360, 'gore': 1941, 'effects': 1431, 'got': 1944, 'around': 297, 'on': 3105, 'peoples': 3222, 'despite': 1211, 'epic': 1506, 'wasnt': 4807, 'plot': 3309, 'is': 2360, 'wont': 4932, 'spoil': 4121, 'going': 1931, 'watch': 4811, 'then': 4436, 'lame': 2510, 'characters': 760, 'walking': 4779, 'for': 1784, 'or': 3124, 'choose': 799, 'movie': 2926, 'very': 4723, 'moving': 2928, 'tender': 4401, 'funny': 1852, 'same': 3778, 'scenery': 3810, 'absolutely': 72, 'beautiful': 428, 'peter': 3247, 'paul': 3214, 'gave': 1875, 'award': 366, 'winning': 4898, 'performances': 3229, 'great': 1964, 'due': 1382, 'story': 4207, 'her': 2085, 'part': 3193, 'be': 418, 'brief': 579, 'wish': 4904, 'could': 1007, 'seen': 3865, 'more': 2904, 'she': 3923, 'true': 4596, 'will': 4886, 'able': 66, 'recall': 3562, 'experiences': 1582, 'from': 1840, 'your': 4991, 'own': 3158, 'life': 2592, 'hopefully': 2157, 'positive': 3346, 'way': 4820, 'after': 143, 'seeing': 3857, 'this': 4457, 'we': 4823, 'see': 3855, 'viewing': 4740, 'he': 2056, 'wonderful': 4928, 'man': 2721, 'clever': 841, 'real': 3547, 'person': 3238, 'truly': 4597, 'an': 223, 'enjoyable': 1485, 'night': 3013, 'must': 2950, 'went': 4847, 'film': 1716, 'pure': 3471, 'failure': 1629, 'steve': 4181, 'martin': 2748, 'fan': 1648, 'cant': 671, 'save': 3794, 'tired': 4501, 'idea': 2213, 'cheese': 780, 'script': 3834, 'think': 4452, 'police': 3322, 'academy': 77, 'military': 2844, 'parody': 3192, 'other': 3135, 'user': 4696, 'comments': 901, 'poor': 3328, 'rating': 3529, 'received': 3564, 'deserved': 1200, 'often': 3095, 'down': 1335, 'store': 4204, 'now': 3054, 'certainly': 738, 'know': 2489, 'why': 4878, 'get': 1899, 'displays': 1293, 'kind': 2476, 'ensemble': 1492, 'one': 3107, 'wishes': 4906, 'barbara': 397, 'donald': 1321, 'sutherland': 4333, 'who': 4871, 'play': 3296, 'husband': 2204, 'chilling': 794, 'family': 1645, 'business': 633, 'as': 311, 'dry': 1377, 'macy': 2695, 'campbell': 663, 'ritter': 3705, 'also': 199, 'terrific': 4409, 'they': 4442, 'off': 3084, 'each': 1395, 'members': 2801, 'top': 4525, 'notch': 3043, 'theatrical': 4430, 'realize': 3552, 'quality': 3484, 'product': 3418, 'requires': 3642, 'actor': 103, 'support': 4303, 'others': 3136, 'finally': 1724, 'theres': 4440, 'david': 1124, 'amazing': 209, 'performance': 3228, 'resemblance': 3645, 'has': 2043, 'whose': 4877, 'son': 4070, 'plays': 3301, 'treated': 4573, 'unique': 4662, 'panic': 3181, 'thats': 4425, 'these': 4441, 'days': 1130, 'formulaic': 1803, 'crap': 1031, 'dialogue': 1234, 'sharp': 3922, 'smart': 4035, 'relatively': 3600, 'short': 3946, 'nevertheless': 3002, 'power': 3359, 'full': 1846, 'range': 3516, 'emotions': 1461, 'viewer': 4738, 'places': 3284, 'laugh': 2529, 'shocked': 3939, 'angry': 238, 'love': 2669, 'leaves': 2556, 'jumping': 2431, 'joy': 2422, 'over': 3148, 'satisfied': 3789, 'knowing': 2490, 'youve': 4995, 'spent': 4108, 'last': 2521, 'good': 1937, 'piece': 3272, 'us': 4690, 'would': 4957, 'go': 1924, 'fare': 1655, 'powers': 3361, 'wake': 4774, 'up': 4683, 'shame': 3918, 'something': 4066, 'fails': 1628, 'exposure': 1599, 'beyond': 476, 'enough': 1491, 'cable': 644, 'which': 4867, 'punishment': 3467, 'his': 2118, 'form': 1798, 'miss': 2866, 'classic': 835, 'best': 469, 'samurai': 3779, 'ever': 1538, 'perhaps': 3235, 'japanese': 2382, 'warned': 4798, 'details': 1219, 'little': 2624, 'hard': 2033, 'follow': 1772, 'those': 4460, 'century': 736, 'history': 2121, 'underlying': 4641, 'human': 2188, 'drama': 1346, 'obvious': 3071, 'open': 3112, 'viewers': 4739, 'per': 3223, 'provides': 3450, 'yet': 4984, 'another': 250, 'traditional': 4550, 'theme': 4433, 'ones': 3108, 'lord': 2652, 'doing': 1312, 'right': 3696, 'however': 2183, 'develops': 1226, 'favorite': 1671, 'along': 195, 'course': 1019, 'suppose': 4305, 'breaks': 571, 'action': 100, 'tale': 4353, 'might': 2835, 'thoughtful': 4463, 'albeit': 173, 'grim': 1974, 'ok': 3098, 'essentially': 1523, 'historical': 2119, 'backdrop': 379, 'massive': 2756, 'between': 475, 'many': 2732, 'different': 1248, 'either': 1438, 'working': 4944, 'trying': 4601, 'japan': 2381, 'less': 2575, 'their': 4431, 'new': 3003, 'world': 4946, 'order': 3126, 'ironically': 2356, 'entire': 1502, 'system': 4345, 'government': 1948, 'ironic': 2355, 'twists': 4619, 'big': 478, 'irony': 2357, 'make': 2713, 'mature': 2773, 'sense': 3877, 'cinematography': 820, 'shot': 3949, 'composed': 926, 'much': 2934, 'barry': 401, 'frame': 1815, 'hold': 2129, 'still': 4188, 'typical': 4623, 'stands': 4147, 'stunning': 4244, 'riveting': 3708, 'opening': 3114, 'sequence': 3887, 'hooked': 2153, 'mistake': 2871, 'english': 1483, 'period': 3236, 'violent': 4748, 'say': 3799, 'werent': 4849, 'else': 1448, 'cool': 989, 'makes': 2716, 'stand': 4143, 'seem': 3861, 'me': 2778, 'bit': 488, 'subtle': 4260, 'fame': 1642, 'turns': 4609, 'star': 4150, 'protagonist': 3441, 'manages': 2725, 'humanity': 2189, 'character': 758, 'seems': 3864, 'almost': 193, 'wild': 4885, 'animal': 239, 'villain': 4744, 'throughout': 4478, 'never': 3001, 'quite': 3495, 'sure': 4308, 'engaged': 1480, 'by': 642, 'portrayal': 3341, 'respect': 3652, 'later': 2525, 'pathetic': 3210, 'attempts': 343, 'redemption': 3578, 'help': 2079, 'empathy': 1462, 'sympathy': 4343, 'tortured': 4530, 'hero': 2088, 'him': 2110, 'ruthless': 3764, 'hes': 2093, 'perfect': 3224, 'nothing': 3047, 'final': 1722, 'note': 3044, 'interesting': 2325, 'buffs': 612, 'fans': 1650, 'screen': 3829, 'appearance': 274, 'yes': 4982, 'gay': 1876, 'wing': 4896, 'committed': 905, 'suicide': 4283, 'before': 440, 'crowd': 1067, 'kidnapped': 2466, 'does': 1308, 'pretty': 3384, 'solid': 4057, 'job': 2405, 'portraying': 3343, 'devil': 1228, 'dog': 1310, 'sets': 3899, 'heart': 2064, 'brilliantly': 584, 'paced': 3162, 'ending': 1471, 'comes': 891, 'blue': 518, 'itself': 2371, 'youll': 4988, 'look': 2646, 'again': 146, 'fact': 1621, 'start': 4156, 'thinking': 4453, 'having': 2054, 'priest': 3392, 'fantastic': 1651, 'watched': 4813, 'word': 4937, 'acting': 99, 'possible': 3350, 'two': 4620, 'nice': 3008, 'moments': 2887, 'small': 4033, 'doesnt': 1309, 'anything': 260, 'worth': 4953, 'watching': 4815, 'tv': 4610, 'rather': 3528, 'flying': 1764, 'decent': 1147, 'early': 1400, 'display': 1291, 'john': 2409, 'talents': 4356, 'excellent': 1555, 'sword': 4340, 'remarkable': 3613, 'unfortunately': 4654, 'under': 4639, 'dull': 1384, 'fight': 1707, 'scenes': 3811, 'doubt': 1332, 'nonetheless': 3029, 'especially': 1520, 'catch': 714, 'old': 3100, 'vhs': 4725, 'came': 656, 'across': 96, 'show': 3953, 'christmas': 810, 'computer': 927, 'find': 1726, 'dvd': 1391, 'version': 4720, 'buy': 640, 'disappointed': 1273, 'aired': 165, 'delightful': 1168, 'record': 3573, 'cd': 728, 'tape': 4365, 'picture': 3269, 'sound': 4081, 'few': 1700, 'songs': 4072, 'collection': 874, 'taken': 4350, 'album': 175, 'player': 3298, 'cinemas': 817, 'room': 3735, 'girlfriend': 1910, 'surprise': 4312, 'dire': 1257, 'ben': 463, 'guy': 2000, 'predictable': 3367, 'narrative': 2966, 'falling': 1639, 'girl': 1909, 'hates': 2048, 'comedy': 890, 'aspect': 321, 'non': 3027, 'existent': 1572, 'points': 3319, 'example': 1553, 'apart': 264, 'mother': 2911, 'hope': 2155, 'review': 3676, 'stops': 4203, 'people': 3221, 'wasting': 4810, 'money': 2888, 'embarrassed': 1453, 'honestly': 2147, '30': 42, 'fit': 1740, 'helen': 2075, 'kept': 2456, 'saying': 3800, 'myself': 2953, 'better': 472, 'showed': 3956, 'paint': 3173, 'eyes': 1613, 'regular': 3592, 'car': 680, 'woman': 4921, 'asked': 317, 'wanted': 4789, 'said': 3774, 'dance': 1103, 'couldnt': 1008, 'take': 4349, 'any': 256, 'longer': 2645, 'sue': 4274, 'hour': 2176, 'hitchcock': 2123, 'bears': 421, 'suspense': 4330, 'fashioned': 1660, 'morality': 2903, 'young': 4989, 'couple': 1016, 'receives': 3565, 'believe': 454, 'them': 4432, 'happy': 2032, 'spend': 4105, 'traveling': 4568, 'living': 2629, 'existence': 1571, 'while': 4868, 'excitement': 1562, 'begins': 444, 'become': 433, 'pointless': 3318, 'where': 4864, 'cruise': 1071, 'ship': 3934, 'lose': 2654, 'everything': 1544, 'end': 1468, 'appreciate': 279, 'odd': 3080, 'silly': 3976, 'personally': 3243, 'id': 2212, 'miserable': 2863, 'productions': 3420, 'rough': 3741, 'amateurish': 207, 'whether': 4866, 'propaganda': 3435, 'shows': 3960, 'media': 2789, 'importance': 2246, 'documentary': 1307, 'how': 2181, 'saw': 3798, 'happened': 2027, 'although': 201, 'may': 2775, 'wrong': 4973, 'point': 3316, 'view': 4736, 'shown': 3959, 'utterly': 4702, 'via': 4726, 'private': 3404, 'side': 3965, 'perspective': 3245, 'neo': 2998, 'liberal': 2588, 'call': 651, 'black': 493, 'easily': 1406, 'british': 589, 'ghost': 1902, 'stories': 4205, 'town': 4541, 'handle': 2018, 'dead': 1132, 'haunted': 2050, 'mysterious': 2955, 'dressed': 1358, 'loaded': 2632, 'eerie': 1427, 'atmosphere': 333, 'deliver': 1169, 'effect': 1428, 'keeps': 2451, 'deeply': 1156, 'involved': 2346, 'finale': 1723, 'tension': 4404, 'unbearable': 4633, 'creepy': 1052, 'horror': 2168, 'give': 1912, 'dare': 1113, 'anyone': 259, 'alone': 194, 'lights': 2597, '10': 0, 'mystery': 2956, 'men': 2805, 'birthday': 487, '1999': 27, 'away': 369, 'vacation': 4704, 'home': 2142, 'keep': 2449, 'mind': 2849, 'twelve': 4611, 'ultra': 4629, 'rare': 3523, 'figures': 1713, 'mr': 2929, 'captain': 674, 'case': 707, 'wondering': 4930, 'william': 4887, 'figure': 1711, 'ive': 2372, 'times': 4497, 'years': 4979, 'remains': 3611, 'mine': 2853, 'mostly': 2910, 'fond': 1776, 'childhood': 790, 'memories': 2803, 'definitely': 1162, 'deserves': 1201, 'cult': 1077, 'following': 1774, 'level': 2584, 'day': 1129, 'executed': 1565, 'mediocre': 2791, 'direct': 1258, 'video': 4733, 'well': 4843, 'huge': 2185, '100': 1, 'million': 2847, 'studio': 4240, 'design': 1202, 'considering': 952, 'stupid': 4247, 'special': 4097, 'superhero': 4299, 'named': 2961, 'frankenstein': 1822, 'whatever': 4859, 'device': 1227, 'hell': 2077, 'resident': 3647, 'commercial': 902, 'costume': 1005, 'touch': 4533, 'stiller': 4189, 'gets': 1900, 'mad': 2696, 'beats': 426, 'hank': 2024, 'throws': 4482, 'invisible': 2344, 'boy': 557, 'mitchell': 2875, 'guess': 1989, 'wes': 4851, 'cuts': 1091, 'guns': 1998, 'half': 2007, 'kidding': 2465, 'rest': 3657, 'cast': 710, 'actors': 104, 'includes': 2263, 'rush': 3759, 'lena': 2568, 'heavily': 2069, 'edited': 1420, 'bride': 577, 'tom': 4514, 'crazy': 1035, 'weapons': 4829, 'four': 1812, 'oscar': 3133, 'winner': 4897, 'though': 4461, 'here': 2086, 'physical': 3262, 'sometimes': 4067, 'lacking': 2504, 'closed': 854, 'highlight': 2103, 'mixed': 2877, 'downright': 1337, 'forget': 1793, 'let': 2579, 'critics': 1064, 'audiences': 353, 'should': 3951, 'sequel': 3885, 'originally': 3131, 'planned': 3290, 'based': 404, 'comic': 893, 'book': 535, 'comics': 895, 'box': 555, 'office': 3091, 'been': 438, 'sell': 3871, 'mary': 2751, 'released': 3603, 'ended': 1470, 'biggest': 480, 'hit': 2122, 'month': 2896, 'thomas': 4458, 'affair': 135, 'classics': 837, 'weekend': 4838, 'oddly': 3081, 'dick': 1239, 'iron': 2354, 'giant': 1905, 'reviews': 3679, 'quickly': 3491, 'forgotten': 1797, 'sadly': 3769, 'jerry': 2396, 'comedian': 887, 'jeffrey': 2391, 'commented': 900, 'fired': 1735, 'agent': 150, 'mouth': 2920, 'words': 4938, 'listen': 2619, 'chance': 747, 'filmed': 1717, 'during': 1387, 'war': 4792, 'required': 3641, 'american': 213, 'gun': 1996, 'hire': 2116, 'use': 4692, 'roles': 3727, 'bacall': 377, 'fits': 1741, 'waiting': 4772, 'bring': 585, 'tone': 4517, 'voice': 4761, 'simply': 3986, 'upper': 4685, 'class': 833, 'talk': 4358, 'books': 536, 'message': 2819, 'england': 1482, 'needed': 2988, 'whole': 4873, 'least': 2554, 'conversation': 980, 'priceless': 3390, 'murder': 2939, 'somewhere': 4069, 'inside': 2297, 'formula': 1802, 'pop': 3330, 'credits': 1050, 'roll': 3728, 'saving': 3797, 'blown': 516, 'cop': 991, 'sandra': 3782, 'detective': 1220, 'awkward': 374, 'sexual': 3908, 'becomes': 434, 'goes': 1930, 'strong': 4229, 'role': 3726, 'lazy': 2543, 'wasted': 4809, 'forgettable': 1794, 'earlier': 1399, 'year': 4978, 'underrated': 4642, 'chris': 806, 'sorry': 4076, 'talent': 4354, 'anyway': 261, 'isnt': 2362, 'factor': 1622, 'teen': 4388, 'killers': 2471, 'played': 3297, 'ryan': 3765, 'michael': 2829, 'pitt': 3280, 'reasons': 3560, 'chemistry': 782, 'too': 4522, 'safe': 3771, 'ground': 1979, 'filmmaker': 1719, 'bottom': 551, 'rent': 3626, 'genre': 1888, 'live': 2625, 'without': 4913, 'maybe': 2776, 'network': 3000, 'previous': 3387, 'severe': 3906, 'disappointment': 1275, 'frank': 1821, 'morgan': 2905, 'familiar': 1643, 'promising': 3433, 'revolves': 3682, 'ego': 1435, 'lee': 2559, 'self': 3869, 'centered': 733, 'physically': 3263, 'abusive': 75, 'jerk': 2395, 'reactions': 3542, 'public': 3460, 'poorly': 3329, 'thought': 4462, 'unbelievable': 4634, 'making': 2718, 'writer': 4968, 'fall': 1637, 'liners': 2611, 'mentioned': 2811, 'since': 3990, 'didnt': 1242, 'notice': 3048, 'attempt': 340, 'expectations': 1576, 'begin': 442, 'most': 2909, 'main': 2707, 'awake': 365, 'outcome': 3142, 'regardless': 3590, 'knows': 2493, 'suits': 4287, 'against': 147, 'ask': 316, 'questions': 3489, 'patient': 3211, 'died': 1244, 'table': 4346, 'break': 569, 'jessica': 2398, 'completely': 922, 'laughable': 2530, 'finish': 1732, 'im': 2232, 'fairly': 1631, 'certain': 737, 'cutting': 1092, 'chest': 784, 'pain': 3170, 'rented': 3628, 'blockbuster': 509, 'late': 2523, 'saturday': 3792, 'fix': 1744, 'wow': 4962, 'awful': 372, 'slasher': 4020, 'type': 4621, 'scream': 3826, 'amateur': 206, 'delivering': 1171, 'clichéd': 845, 'read': 3543, 'page': 3167, 'scripted': 3835, 'always': 203, 'believed': 455, 'totally': 4532, 'worthless': 4954, 'things': 4451, 'mess': 2818, 'actress': 105, 'shes': 3930, 'member': 2800, 'whatsoever': 4861, 'reason': 3557, 'renting': 3629, 'name': 2960, 'front': 1841, 'cover': 1022, 'presence': 3373, 'looks': 2649, 'moronic': 2907, 'unintentional': 4658, 'remember': 3616, 'house': 2178, 'theaters': 4428, 'country': 1014, 'used': 4693, 'include': 2261, 'third': 4455, 'bill': 481, 'thriller': 4472, 'age': 148, 'endure': 1475, 'experience': 1580, 'audience': 352, 'throwing': 4480, 'stuff': 4243, 'leads': 2548, 'porn': 3336, 'stars': 4155, 'act': 97, 'hand': 2015, 'producers': 3416, 'need': 2987, 'extended': 1604, 'sex': 3907, 'trade': 4547, 'usually': 4700, 'means': 2783, 'speak': 4094, 'lines': 2612, 'supposed': 4306, 'advance': 127, 'yeah': 4977, 'baby': 376, 'harder': 2035, 'looking': 2648, 'ginger': 1908, 'allen': 188, 'group': 1980, 'irish': 2353, 'mom': 2885, 'attempting': 342, 'accent': 78, 'coming': 896, 'aka': 168, 'evil': 1548, 'romance': 3732, 'wonder': 4926, 'whats': 4860, 'happening': 2028, 'stuck': 4237, 'gangster': 1868, 'happens': 2029, 'similar': 3978, 'limited': 2606, 'release': 3602, 'search': 3841, 'study': 4242, 'potential': 3355, 'once': 3106, 'dark': 1115, 'city': 825, 'joe': 2407, 'fun': 1848, 'symbolism': 4341, 'twice': 4613, 'shooting': 3943, 'waters': 4817, 'davis': 1126, 'jr': 2423, 'jones': 2418, 'president': 3378, 'worst': 4952, 'african': 142, 'stereotypes': 4179, 'era': 1513, 'wouldnt': 4958, 'ms': 2931, 'singing': 3995, 'our': 3139, 'moon': 2900, 'prepared': 3371, 'status': 4165, 'adult': 125, 'tap': 4364, 'dancing': 1107, 'decades': 1145, 'willing': 4889, 'ignore': 2224, 'negative': 2991, 'provide': 3448, 'enjoyment': 1488, 'ps': 3453, 'marks': 2742, 'fourth': 1813, 'today': 4508, 'heard': 2062, 'song': 4071, 'ill': 2228, 'glad': 1916, 'performed': 3230, 'popular': 3333, 'folks': 1771, 'nostalgic': 3039, 'alas': 172, 'revealed': 3671, 'embarrassing': 1454, 'exercise': 1568, 'racist': 3503, 'plain': 3286, 'boring': 543, 'edward': 1426, 'terry': 4415, 'overcome': 3151, 'screenplay': 3831, 'horrible': 2163, 'addition': 118, 'stereotypical': 4180, 'painful': 3171, 'produced': 3414, 'civil': 826, 'rights': 3697, 'movement': 2923, 'original': 3129, 'television': 4394, 'getting': 1901, 'judging': 2425, 'results': 3662, 'believable': 453, 'scenario': 3808, 'neat': 2982, 'crime': 1055, 'lot': 2661, 'ingredients': 2289, 'corpse': 999, 'middle': 2833, 'aged': 149, 'walter': 4784, 'sidekick': 3966, 'miles': 2843, 'killer': 2470, 'loose': 2650, 'interest': 2323, 'shape': 3919, 'female': 1693, 'helps': 2082, 'solve': 4060, 'shoot': 3942, 'takes': 4351, 'place': 3282, 'stone': 4197, 'near': 2979, 'reveals': 3673, 'confusing': 942, 'huh': 2187, 'chasing': 772, 'suddenly': 4273, 'direction': 1261, 'absurd': 73, 'aside': 315, 'fellow': 1691, 'australian': 357, 'flick': 1754, 'far': 1653, 'generous': 1886, 'praise': 3364, 'admittedly': 123, 'found': 1811, 'incredibly': 2270, 'left': 2561, 'come': 886, 'explained': 1587, 'somewhat': 4068, 'intention': 2319, 'furthermore': 1854, 'appear': 273, 'face': 1616, 'random': 3514, 'suit': 4284, 'storyline': 4208, 'started': 4157, 'romantic': 3733, 'sub': 4252, 'head': 2057, 'fate': 1665, 'cary': 706, 'gone': 1935, 'kudos': 2497, 'locations': 2636, 'otherwise': 3137, 'suspend': 4329, 'disbelief': 1277, 'fantasy': 1652, 'standards': 4145, 'frustrated': 1842, 'jennifer': 2392, 'damn': 1100, 'lifetime': 2594, 'style': 4249, 'victim': 4729, 'fights': 1710, 'cartoon': 704, '40': 48, 'stay': 4166, 'ex': 1549, 'wife': 4884, 'successful': 4266, 'lawyer': 2541, 'daughter': 1121, 'college': 875, 'starting': 4158, 'divorce': 1301, 'helped': 2080, 'friend': 1835, 'dress': 1357, 'shop': 3945, 'sort': 4077, 'franchise': 1817, 'deal': 1135, 'friendship': 1838, 'attractive': 351, 'slightly': 4029, 'younger': 4990, 'landscape': 2513, 'whos': 4876, 'womens': 4924, 'horrors': 2169, '20': 29, 'starts': 4159, 'taking': 4352, 'threat': 4467, 'mildly': 2840, 'offer': 3087, 'glass': 1917, 'runs': 3757, 'turning': 4608, 'toilet': 4512, 'food': 1778, 'pieces': 3273, 'killed': 2469, 'cat': 713, 'extent': 1605, 'ridiculous': 3693, 'reality': 3551, 'tiny': 4500, 'drive': 1363, 'particular': 3194, 'insane': 2296, 'supposedly': 4307, 'increasingly': 2268, 'arrogant': 303, 'control': 977, 'brave': 567, 'learn': 2550, 'hot': 2174, 'trouble': 4592, 'uses': 4697, 'escapes': 1519, 'consequences': 947, 'generally': 1881, 'premise': 3370, 'moved': 2922, 'rental': 3627, 'written': 4972, 'gives': 1914, 'equal': 1509, 'thrown': 4481, 'price': 3389, 'soon': 4074, 'older': 3101, 'threatening': 4468, 'judge': 2424, 'sympathetic': 4342, 'sexy': 3911, 'sweet': 4336, 'heroic': 2090, 'battle': 414, 'realistic': 3550, 'easy': 1410, 'orders': 3127, 'women': 4923, 'basis': 408, 'proof': 3434, 'claim': 828, 'hearing': 2063, 'impossible': 2249, 'claims': 830, 'prove': 3445, 'effectively': 1430, 'accused': 91, 'areas': 287, 'law': 2538, 'feminist': 1695, 'resist': 3648, 'likely': 2601, 'subject': 4253, 'basic': 406, 'relies': 3606, 'upon': 4684, 'explanation': 1590, 'psychotic': 3459, 'con': 928, 'fury': 1855, 'quest': 3486, 'technically': 4382, 'second': 3846, 'stole': 4194, 'basically': 407, 'matter': 2769, 'attitude': 346, 'focus': 1766, 'minded': 2850, 'imagination': 2236, 'force': 1786, 'care': 684, 'core': 995, 'average': 362, 'score': 3822, 'number': 3060, 'camp': 662, 'appeal': 271, 'theyd': 4443, 'spoiler': 4123, 'clue': 864, 'ends': 1474, 'jail': 2376, 'male': 2719, 'co': 867, 'worker': 4942, 'lover': 2672, 'says': 3801, 'returning': 3667, 'knife': 2487, 'bath': 411, 'struggle': 4234, 'wins': 4899, 'anti': 254, 'moment': 2886, 'sports': 4130, 'tried': 4584, 'yourself': 4993, 'important': 2247, 'segment': 3867, 'given': 1913, 'failed': 1626, 'lives': 2628, 'jack': 2373, 'robin': 3715, 'williams': 4888, 'suffers': 4278, 'deep': 1154, 'football': 1783, 'ago': 154, 'inspired': 2301, 're': 3535, 'game': 1864, 'convince': 983, 'kurt': 2499, 'russell': 3761, 'present': 3374, 'sees': 3866, 'change': 749, 'past': 3207, 'ages': 152, 'added': 116, 'both': 547, 'passed': 3202, 'father': 1666, 'reminds': 3620, 'drop': 1369, 'try': 4600, 'correct': 1000, 'greatest': 1966, 'wishing': 4907, 'enjoy': 1484, 'youth': 4994, 'three': 4469, 'friends': 1837, 'adam': 111, 'sandler': 3781, 'gotta': 1946, 'pile': 3275, 'dream': 1354, 'boxing': 556, 'match': 2762, 'insult': 2309, 'burning': 627, 'causes': 725, 'paid': 3169, 'steven': 4182, 'touching': 4536, 'sad': 3767, 'portrays': 3344, 'terms': 4406, 'caused': 724, 'accident': 84, 'centers': 734, 'relationship': 3597, 'married': 2744, 'whom': 4875, 'towards': 4540, 'victims': 4730, 'particularly': 3195, 'white': 4870, 'humorous': 2193, 'sunday': 4293, 'afternoon': 144, 'partner': 3198, 'long': 2644, 'atrocious': 335, 'result': 3660, 'school': 3813, 'project': 3427, 'central': 735, 'cheap': 774, 'unoriginal': 4673, 'hiding': 2099, 'stopped': 4202, 'lost': 2660, 'episode': 1507, 'deaths': 1142, 'unnecessary': 4672, 'depressing': 1188, 'die': 1243, 'next': 3007, 'season': 3843, 'religious': 3608, 'annoying': 249, 'series': 3890, 'created': 1037, 'legend': 2564, 'future': 1856, 'improve': 2254, 'picked': 3266, 'southern': 4088, 'born': 544, 'raised': 3508, 'credibility': 1047, 'racial': 3501, 'south': 4087, 'harvey': 2042, 'terribly': 4408, 'matt': 2768, 'memorable': 2802, 'acted': 98, 'tommy': 4516, 'bruce': 602, 'hate': 2046, 'passion': 3205, 'vote': 4766, 'pity': 3281, 'involves': 2348, 'obviously': 3072, 'finding': 1727, 'feet': 1688, 'loud': 2664, 'laughter': 2535, 'track': 4544, 'hear': 2061, 'inner': 2292, 'laughing': 2533, 'drew': 1360, 'weird': 4841, 'episodes': 1508, 'usual': 4699, 'sarah': 3785, 'stinks': 4192, 'drags': 1345, 'including': 2264, 'boyfriend': 558, 'clint': 850, 'eastwood': 1409, 'agreed': 156, 'told': 4513, 'exceptionally': 1559, 'weak': 4824, 'add': 115, 'bored': 541, 'normally': 3034, 'concerned': 932, 'ranks': 3519, 'natural': 2973, 'sleep': 4024, 'grow': 1982, 'stinker': 4191, 'above': 68, 'below': 462, 'meet': 2793, 'gem': 1877, 'grace': 1950, 'laughed': 2532, 'cried': 1054, 'several': 3905, 'brilliant': 583, 'daniel': 1111, 'rate': 3526, 'passionate': 3206, 'charismatic': 763, 'powerful': 3360, 'light': 2595, 'exceptional': 1558, 'shines': 3932, 'scene': 3809, 'interaction': 2322, 'meeting': 2794, 'caught': 722, 'wounded': 4961, 'child': 789, 'magical': 2704, 'artist': 307, 'teacher': 4375, 'fool': 1779, 'treat': 4572, 'provoking': 3452, 'thoroughly': 4459, 'entertaining': 1499, 'oh': 3096, 'angels': 234, 'thank': 4421, 'swedish': 4335, 'surely': 4309, 'wide': 4880, 'challenge': 743, 'spooky': 4128, 'graphics': 1959, 'recommend': 3571, 'gripping': 1976, 'admit': 122, 'decided': 1149, '70s': 56, 'manhattan': 2726, 'lead': 2545, 'fresh': 1833, 'techniques': 4384, 'filmmakers': 1720, 'disjointed': 1287, '60s': 54, 'wave': 4818, 'feels': 1687, 'specific': 4099, 'free': 1827, 'follows': 1775, 'phone': 3255, 'meets': 2795, 'reveal': 3670, 'meant': 2784, 'wall': 4781, 'adds': 119, 'expect': 1575, 'andy': 230, 'discover': 1279, 'problems': 3409, 'tells': 4397, 'brutal': 603, 'sit': 4003, 'explicit': 1591, 'animation': 242, 'gross': 1978, 'juvenile': 2441, 'serves': 3895, 'climax': 849, 'five': 1743, 'flat': 1748, 'disgusting': 1286, 'color': 877, 'looked': 2647, 'felt': 1692, 'obscure': 3068, 'none': 3028, 'creative': 1041, 'forced': 1787, 'pretentious': 3383, 'slight': 4027, 'spoilers': 4124, 'worthy': 4956, 'remarks': 3615, 'masters': 2761, 'date': 1118, 'science': 3816, 'theatre': 4429, 'treatment': 4574, 'intended': 2315, 'angle': 236, 'sole': 4055, 'value': 4709, 'lies': 2591, 'forces': 1788, 'ugly': 4625, 'succeeds': 4264, 'cinematic': 818, 'photography': 3260, 'lighting': 2596, 'timing': 4498, 'carpenter': 694, 'master': 2757, 'trite': 4589, 'analysis': 224, 'social': 4049, 'comment': 898, 'director': 1264, 'latter': 2528, 'favorites': 1672, 'angles': 237, 'obnoxious': 3067, 'element': 1442, 'cannot': 670, 'unless': 4669, 'writers': 4969, 'buddies': 608, 'initial': 2290, 'forest': 1791, 'nearly': 2981, 'run': 3755, 'duo': 1386, 'works': 4945, 'woods': 4935, 'nowhere': 3056, 'desperate': 1208, 'pair': 3176, 'road': 3709, 'corner': 996, 'doc': 1303, '60': 53, 'six': 4010, 'seconds': 3848, 'wonders': 4931, 'broken': 594, 'quick': 3490, 'forth': 1804, 'cell': 730, 'followed': 1773, 'ron': 3734, 'high': 2100, 'kicks': 2463, 'lovely': 2671, 'kid': 2464, 'sitting': 4007, 'assault': 324, 'van': 4713, 'needs': 2990, 'boys': 559, 'method': 2824, 'lone': 2642, 'bullets': 621, 'themselves': 4435, 'stiff': 4187, 'strip': 4228, 'titles': 4506, 'tune': 4602, 'soundtrack': 4085, 'daddy': 1096, 'havent': 2053, 'led': 2558, 'source': 4086, 'conflict': 939, 'pro': 3406, 'pregnant': 3369, 'twins': 4616, 'flashback': 1746, 'together': 4511, 'remain': 3609, 'mere': 2814, 'exception': 1557, 'bland': 500, 'hysterical': 2208, 'headed': 2058, 'perfectly': 3226, 'doctors': 1305, 'medical': 2790, 'dad': 1095, 'himself': 2111, 'fortunately': 1805, 'cute': 1090, 'ball': 388, 'monster': 2892, 'banned': 395, 'instead': 2307, '3rd': 47, 'alien': 183, 'set': 3898, 'todays': 4509, '16': 8, 'generation': 1883, 'quirky': 3493, 'sick': 3963, 'mention': 2810, 'superb': 4296, 'imagery': 2234, 'directing': 1260, 'engaging': 1481, 'tragedy': 4551, 'initially': 2291, 'confused': 941, 'supporting': 4304, 'laid': 2508, 'surrounding': 4319, 'happen': 2026, 'related': 3594, 'topic': 4526, 'discussion': 1284, 'disappointing': 1274, 'gorgeous': 1942, 'bus': 631, 'refuses': 3587, 'tries': 4585, 'steal': 4170, 'relation': 3595, 'jealous': 2388, 'secret': 3849, 'promise': 3430, 'masterpiece': 2759, 'tears': 4380, 'occasion': 3073, 'fest': 1696, 'thin': 4449, 'worked': 4941, 'thus': 4486, 'cinema': 816, 'hearts': 2066, 'europe': 1529, 'vague': 4705, 'dear': 1140, 'twenty': 4612, 'difficult': 1249, 'tony': 4521, 'sinatra': 3989, 'returns': 3668, 'titled': 4505, 'debut': 1143, 'laughs': 2534, 'trip': 4588, 'finds': 1728, 'body': 527, 'blonde': 511, 'beauty': 430, 'sea': 3838, 'immediately': 2242, 'hired': 2117, 'mountain': 2917, 'risk': 3704, 'investigate': 2342, 'mafia': 2700, 'types': 4622, 'turn': 4605, 'suspect': 4327, 'jokes': 2415, 'sexually': 3910, 'miserably': 2864, 'ham': 2011, 'frankly': 1823, 'likes': 2602, 'douglas': 1334, 'ridiculously': 3694, 'campy': 664, 'belief': 451, 'sexuality': 3909, 'rock': 3720, 'band': 391, 'known': 2492, 'called': 652, 'club': 863, 'johnson': 2411, 'andrew': 228, 'parker': 3191, 'singer': 3993, 'sean': 3840, 'cook': 988, 'mike': 2838, 'jason': 2383, 'plan': 3287, 'tell': 4395, 'london': 2641, 'nancy': 2964, 'solo': 4058, 'disaster': 1276, 'doors': 1329, 'locked': 2637, 'trust': 4598, 'picking': 3267, 'directed': 1259, 'standard': 4144, 'numbers': 3061, 'ladies': 2506, 'surprisingly': 4316, 'modern': 2882, 'slow': 4031, 'anywhere': 263, 'close': 853, 'clichés': 846, 'isolated': 2363, 'location': 2635, 'escape': 1517, 'teenagers': 4391, 'murders': 2943, 'twist': 4617, '1996': 26, 'surprising': 4315, 'done': 1322, 'matters': 2770, 'guessed': 1990, 'spot': 4131, 'makers': 2715, 'entertained': 1498, 'showing': 3958, 'endless': 1473, 'tedious': 4387, 'kill': 2468, 'count': 1010, 'decide': 1148, 'stick': 4185, 'randomly': 3515, 'split': 4120, 'separate': 3883, 'ways': 4822, 'pace': 3161, 'alright': 198, 'post': 3352, 'technique': 4383, 'motion': 2913, 'levels': 2585, 'arent': 288, 'blood': 512, 'splatter': 4118, 'hole': 2132, 'bodies': 526, 'metal': 2823, 'kills': 2474, 'ears': 1402, 'noise': 3024, 'scary': 3807, 'lack': 2502, 'reasonable': 3558, 'washington': 4806, 'apparently': 270, 'round': 3742, 'mean': 2779, 'win': 4892, 'aint': 163, 'routine': 3743, 'weakest': 4825, 'endings': 1472, 'criminal': 1057, 'violence': 4747, 'nudity': 3059, 'hasnt': 2044, 'leave': 2555, 'strangely': 4212, 'lately': 2524, 'uncomfortable': 4637, 'ruth': 3763, 'section': 3853, 'impression': 2252, 'girls': 1911, 'kirk': 2482, 'knew': 2486, 'combined': 885, 'music': 2946, 'online': 3109, '15': 7, 'teachers': 4376, 'anymore': 258, 'reading': 3544, 'st': 4137, 'whoever': 4872, 'cases': 708, 'race': 3499, 'superior': 4300, 'opposed': 3122, 'merely': 2815, 'attention': 345, 'dr': 1340, 'potentially': 3356, 'appears': 278, 'missing': 2869, 'smiling': 4037, 'sides': 3967, 'sir': 4000, 'beginning': 443, 'officer': 3092, 'illogical': 2231, 'purely': 3472, 'reaction': 3541, 'crew': 1053, 'concert': 935, 'royal': 3746, 'albert': 174, 'thrilling': 4474, 'complete': 921, 'smoke': 4039, 'serious': 3891, 'bottle': 550, 'blues': 519, 'within': 4912, 'reach': 3536, 'research': 3644, 'presentation': 3375, 'condition': 937, 'muslim': 2949, 'herself': 2092, 'agree': 155, 'faith': 1633, 'question': 3487, 'hook': 2152, 'instance': 2304, 'former': 1800, 'wise': 4903, 'neither': 2996, 'nor': 3032, 'christian': 808, 'intelligent': 2314, 'disturbing': 1300, 'remind': 3618, 'views': 4742, 'christians': 809, 'intensity': 2317, 'among': 217, 'please': 3304, 'presented': 3376, 'state': 4160, 'common': 906, 'political': 3324, 'definite': 1161, 'brain': 562, 'situation': 4008, 'connect': 944, 'julia': 2427, 'cousin': 1021, 'opposite': 3123, 'blair': 497, 'possibly': 3351, 'pants': 3182, 'party': 3200, 'miscast': 2862, 'grade': 1951, 'material': 2766, 'ie': 2221, 'pie': 3271, 'humor': 2192, 'stupidity': 4248, 'youd': 4987, 'degree': 1164, 'flashbacks': 1747, 'false': 1641, 'revenge': 3675, 'overacting': 3149, 'delivered': 1170, 'fashion': 1659, 'dimensional': 1253, 'rolling': 3730, 'unlike': 4670, 'afraid': 140, 'carried': 698, 'cared': 685, 'buddy': 609, 'arrival': 299, 'alcohol': 176, 'granted': 1957, 'godfather': 1927, 'citizen': 824, 'kane': 2442, 'wars': 4804, 'compare': 911, 'complex': 923, 'brilliance': 582, 'absolute': 71, 'model': 2880, 'fascinating': 1658, 'mood': 2898, 'forever': 1792, 'feelings': 1686, 'toward': 4539, 'entertainment': 1500, 'anybody': 257, 'continue': 969, 'dvds': 1392, 'essential': 1522, 'expecting': 1578, 'pay': 3216, 'probably': 3407, 'wait': 4770, 'soul': 4079, 'allow': 189, 'hat': 2045, 'journey': 2421, 'cares': 690, 'ideas': 2215, 'death': 1141, 'missed': 2867, 'funniest': 1851, 'parts': 3199, 'ted': 4386, 'hilarious': 2106, 'eddie': 1416, 'consists': 955, 'significant': 3972, '24': 39, 'hours': 2177, 'hardly': 2036, 'program': 3424, 'countless': 1012, 'drawing': 1350, 'prime': 3395, 'plots': 3310, 'focuses': 1768, 'cynical': 1093, 'absence': 70, 'manipulative': 2727, 'seemingly': 3863, 'contrived': 976, 'guilty': 1995, 'dynamic': 1394, 'construction': 960, 'justify': 2439, 'spite': 4117, 'grew': 1972, 'sign': 3970, 'bbc': 417, 'originality': 3130, 'rubbish': 3748, 'innovative': 2295, 'dealing': 1136, 'success': 4265, 'aging': 153, 'ghosts': 1903, 'overall': 3150, 'purpose': 3474, 'parallel': 3185, 'sequences': 3888, 'stage': 4139, 'became': 431, 'relations': 3596, 'dramas': 1347, 'straight': 4210, 'rip': 3700, 'cardboard': 682, 'villains': 4745, 'god': 1926, 'badly': 383, '1980s': 21, '1990s': 25, 'blatant': 502, 'combination': 883, 'speed': 4103, 'cut': 1089, 'thugs': 4484, 'various': 4715, 'progresses': 3426, 'naturally': 2974, 'brings': 587, 'emotional': 1459, 'eye': 1611, 'candy': 668, 'florida': 1761, 'mexico': 2827, 'carefully': 689, 'described': 1195, 'cross': 1066, 'explaining': 1588, 'channel': 753, 'wooden': 4934, 'inept': 2281, 'holes': 2133, 'boat': 523, 'bargain': 400, 'everywhere': 1545, 'semi': 3874, 'till': 4493, 'proves': 3447, 'taste': 4369, 'intelligence': 2313, 'target': 4366, 'recently': 3567, 'ludicrous': 2685, 'children': 792, 'meaning': 2780, 'writing': 4971, 'minds': 2852, 'behind': 447, 'seriously': 3892, 'reflect': 3584, 'earth': 1403, 'instant': 2305, 'mistakes': 2873, 'thrill': 4471, 'dumb': 1385, 'producing': 3417, 'company': 910, 'introduced': 2337, 'sheriff': 3929, 'truck': 4595, 'bloody': 513, 'wound': 4960, 'load': 2631, 'exposed': 1598, 'flesh': 1753, 'forgot': 1796, 'won': 4925, 'east': 1407, 'bought': 552, 'ticket': 4487, 'trailer': 4554, 'expected': 1577, 'breath': 573, 'catching': 716, 'global': 1920, 'oil': 3097, 'corruption': 1002, 'painfully': 3172, 'understanding': 4645, 'logic': 2638, 'wrote': 4974, 'redeeming': 3577, 'features': 1680, 'packed': 3166, 'punch': 3466, 'choice': 797, 'extra': 1606, 'tea': 4373, 'outside': 3146, 'desire': 1205, 'slowly': 4032, 'pot': 3354, 'imaginative': 2237, 'nine': 3017, 'outer': 3143, 'space': 4090, 'santa': 3783, 'jaw': 2384, 'boredom': 542, 'seemed': 3862, 'actual': 108, 'poster': 3353, 'stunts': 4246, 'week': 4837, 'la': 2500, 'crappy': 1032, 'magic': 2703, 'lesser': 2576, 'playing': 3300, 'already': 197, 'dated': 1119, 'stunt': 4245, 'bits': 490, 'genuinely': 1892, 'largely': 2518, 'art': 304, 'hung': 2197, 'hed': 2072, 'vehicle': 4718, 'effective': 1429, 'double': 1331, 'development': 1225, 'gang': 1867, 'martial': 2747, 'allowed': 190, 'consistent': 953, 'forbidden': 1785, 'portrait': 3339, 'students': 4239, 'author': 359, 'move': 2921, 'opportunity': 3121, 'clear': 839, 'maker': 2714, 'loved': 2670, 'countries': 1013, 'caine': 647, 'united': 4664, 'nations': 2971, 'health': 2060, 'busy': 635, 'africa': 141, 'barely': 399, 'slave': 4022, 'adults': 126, 'rescue': 3643, 'rex': 3683, 'indian': 2274, 'talented': 4355, 'incredible': 2269, 'waste': 4808, 'write': 4967, 'air': 164, 'kim': 2475, 'george': 1893, 'jake': 2377, 'sullivan': 4288, 'winter': 4900, 'relief': 3605, 'buck': 605, 'snow': 4045, 'hunters': 2200, 'helping': 2081, 'bucks': 606, 'disturbed': 1299, 'learned': 2551, 'theyre': 4445, 'staying': 4168, 'meanwhile': 2785, 'spirit': 4113, 'psycho': 3457, 'heroes': 2089, 'appealing': 272, 'technical': 4381, 'frequently': 1832, 'creature': 1045, 'fatal': 1664, 'blow': 514, 'discuss': 1283, 'favor': 1670, 'avoid': 363, 'marketing': 2741, 'grand': 1953, 'supernatural': 4302, 'tied': 4489, 'poetic': 3313, 'surface': 4310, 'suggest': 4280, 'heck': 2071, 'larry': 2520, 'robert': 3713, 'poem': 3312, 'georges': 1894, 'simple': 3983, 'key': 2458, 'complexity': 924, 'exactly': 1551, 'pleasant': 3302, 'horrific': 2166, 'descent': 1193, 'hoping': 2160, 'theyll': 4444, 'luck': 2681, 'crack': 1027, 'psychological': 3458, 'innocence': 2293, 'interpretation': 2328, 'higher': 2101, 'shots': 3950, 'cards': 683, 'images': 2235, 'nightmare': 3014, 'aspects': 322, 'stock': 4193, 'digital': 1251, 'transfer': 4559, 'majority': 2712, 'noticed': 3049, 'vaguely': 4706, 'wrap': 4963, 'memory': 2804, 'conclusion': 936, 'brought': 600, 'brothers': 599, 'vivid': 4760, 'placed': 3283, 'minor': 2857, 'flaws': 1752, 'overlooked': 3154, 'relationships': 3598, 'beautifully': 429, 'situations': 4009, 'spring': 4134, 'print': 3399, 'title': 4504, 'report': 3635, 'truth': 4599, 'hurts': 2203, 'using': 4698, 'definition': 1163, 'share': 3920, 'warn': 4797, 'parties': 3196, 'lets': 2580, 'downhill': 1336, 'mid': 2832, 'major': 2711, 'occurs': 3078, 'opinion': 3118, 'unlikely': 4671, 'local': 2634, 'actions': 101, 'moral': 2902, 'pass': 3201, 'flaw': 1749, 'casting': 711, 'diane': 1238, 'lane': 2515, 'anna': 245, 'depth': 1190, 'ability': 65, 'fine': 1729, 'blunt': 520, 'accurate': 90, 'celluloid': 731, 'weeks': 4839, 'education': 1424, 'hoffman': 2128, 'walk': 4775, '35': 45, 'stomach': 4196, 'garbage': 1870, 'stayed': 4167, 'background': 380, 'immensely': 2243, 'pick': 3265, 'feeling': 1685, 'nonsense': 3030, 'saved': 3795, 'giving': 1915, 'pamela': 3179, 'anderson': 227, 'richards': 3687, 'thousands': 4466, 'multi': 2935, 'commentary': 899, 'issues': 2365, 'total': 4531, 'dig': 1250, 'italian': 2367, 'americans': 214, 'attack': 337, 'door': 1328, 'notes': 3046, 'mob': 2879, 'smaller': 4034, 'poverty': 3357, 'circumstances': 822, 'matthew': 2772, 'assume': 328, 'psychiatrist': 3455, 'homosexual': 2145, 'presumably': 3380, 'rap': 3520, 'drugs': 1374, 'appeared': 276, 'dancer': 1104, 'uncle': 4636, 'until': 4680, 'ten': 4399, 'introduction': 2339, 'park': 3190, 'loses': 2657, 'french': 1830, 'ahead': 159, 'loyal': 2679, 'setting': 3900, 'mask': 2752, 'marriage': 2743, 'accomplished': 87, 'buried': 624, 'freak': 1824, 'literally': 2622, 'burned': 626, 'theyve': 4446, 'properly': 3437, 'vision': 4754, 'wants': 4791, 'illegal': 2229, 'enter': 1494, 'frequent': 1831, 'radio': 3504, 'dogs': 1311, 'whereas': 4865, 'sister': 4001, 'enters': 1496, 'building': 615, 'strange': 4211, 'shining': 3933, 'general': 1880, 'adding': 117, 'spin': 4112, 'language': 2516, 'pride': 3391, 'behavior': 446, 'nowadays': 3055, 'notable': 3041, 'trilogy': 4586, 'lucky': 2683, 'harris': 2038, 'festival': 1697, 'copy': 994, 'website': 4834, 'searching': 3842, 'web': 4833, 'buying': 641, 'site': 4005, 'boot': 538, 'fictional': 1703, 'glover': 1923, 'curiosity': 1082, 'gritty': 1977, 'gary': 1873, 'nervous': 2999, 'boss': 546, 'de': 1131, 'germany': 1898, 'chase': 769, 'don': 1320, 'fighting': 1709, 'laws': 2540, 'code': 869, 'millions': 2848, 'dollars': 1315, 'return': 3665, 'shelf': 3926, 'highly': 2105, 'france': 1816, 'recent': 3566, 'deals': 1137, 'reference': 3582, 'create': 1036, 'chaos': 755, 'fly': 1763, 'colorful': 878, 'connection': 946, 'context': 968, 'proceeds': 3411, 'paper': 3183, 'mate': 2765, 'train': 4556, 'quiet': 3492, 'birth': 486, 'valuable': 4708, 'ear': 1397, 'humans': 2190, 'connected': 945, 'dan': 1102, 'describe': 1194, 'satire': 3788, 'reminded': 3619, 'featuring': 1681, 'cusack': 1088, 'worthwhile': 4955, 'joke': 2414, 'paying': 3217, 'included': 2262, 'drinking': 1362, 'letter': 2581, 'brad': 560, 'lady': 2507, 'kick': 2460, 'news': 3005, 'wilson': 4891, 'shorts': 3948, 'lovers': 2673, 'bridge': 578, 'length': 2569, 'image': 2233, 'silent': 3975, 'closer': 856, 'jean': 2389, '1984': 23, 'heavy': 2070, 'visual': 4757, 'states': 4163, 'exaggerated': 1552, 'worlds': 4947, 'expressions': 1603, 'alex': 179, 'fallen': 1638, 'walks': 4780, 'sounds': 4084, 'neighbors': 2994, 'intimate': 2331, 'steals': 4172, 'apartment': 265, 'directly': 1263, 'lion': 2614, 'crucial': 1068, 'content': 966, 'courage': 1018, 'shy': 3962, 'thanks': 4423, 'nail': 2957, 'crying': 1074, 'chorus': 803, 'childrens': 793, 'bathroom': 412, 'misses': 2868, 'ridden': 3691, 'rich': 3685, 'bell': 458, 'brother': 598, 'walked': 4776, 'silence': 3974, 'holiday': 2134, 'piano': 3264, 'shirt': 3937, 'kiss': 2483, 'attached': 336, 'famous': 1647, 'bullet': 620, 'universe': 4666, 'standing': 4146, 'link': 2613, 'tales': 4357, 'visuals': 4759, 'musical': 2947, 'dialog': 1232, 'explore': 1594, 'event': 1535, 'captures': 678, 'larger': 2519, 'simplistic': 3985, 'westerns': 4854, 'sam': 3777, 'homage': 2141, 'contemporary': 965, 'stones': 4198, 'seeks': 3860, 'gene': 1879, 'cameo': 657, 'hands': 2020, 'accidentally': 85, 'foot': 1781, 'drawn': 1351, 'difference': 1246, 'settings': 3901, 'imitation': 2241, 'alongside': 196, 'base': 402, 'explored': 1595, 'hunter': 2199, 'choreography': 802, 'passing': 3204, 'johnny': 2410, 'fair': 1630, 'amount': 219, 'torture': 4529, 'guys': 2001, 'enemies': 1476, 'rocket': 3721, 'cry': 1073, 'forms': 1801, 'alive': 186, 'sentimental': 3882, 'stronger': 4230, 'happiness': 2031, 'trek': 4578, 'installment': 2303, 'flawed': 1750, 'moody': 2899, 'compelling': 916, 'planet': 3289, 'nick': 3012, 'warning': 4800, 'sun': 4292, 'aware': 368, 'travel': 4567, 'escaped': 1518, 'library': 2589, 'elderly': 1440, 'confusion': 943, 'purposes': 3475, 'sent': 3880, 'ice': 2210, 'anger': 235, 'eventually': 1537, 'realizes': 3554, 'belong': 459, 'leaving': 2557, 'enterprise': 1495, 'destroying': 1215, 'adventure': 130, 'amusing': 221, 'awesome': 371, 'stop': 4201, 'bumbling': 622, 'dolls': 1316, 'nasty': 2968, 'amitabh': 216, 'heroine': 2091, 'props': 3439, 'carries': 699, 'speaking': 4095, 'comparison': 914, 'dances': 1106, 'wind': 4893, 'reputation': 3640, 'grasp': 1960, 'dragged': 1343, 'lousy': 2667, 'allowing': 191, 'associated': 327, 'excuse': 1564, 'service': 3896, 'grave': 1962, 'jesse': 2397, 'ethan': 1528, 'julie': 2428, 'morning': 2906, 'america': 212, 'paris': 3189, 'dialogs': 1233, 'imdb': 2240, 'nominated': 3025, 'magnificent': 2705, 'yesterday': 4983, 'brazil': 568, 'therefore': 4439, 'large': 2517, 'strikes': 4225, 'equally': 1510, 'emphasis': 1463, 'scientists': 3819, 'provided': 3449, 'impact': 2244, 'tim': 4494, 'robbins': 3712, 'antics': 255, 'genuine': 1891, 'uninteresting': 4660, 'players': 3299, 'dubbing': 1380, 'werewolf': 4850, 'themes': 4434, 'dozen': 1338, 'developed': 1223, 'proceedings': 3410, 'clumsy': 866, 'bright': 581, 'photographed': 3258, 'laughably': 2531, 'crude': 1069, 'deserve': 1199, 'soviet': 4089, 'union': 4661, 'erotic': 1515, '2000': 30, 'survive': 4321, 'constant': 957, 'idiots': 2220, 'stellar': 4174, 'pulls': 3464, 'unfunny': 4655, 'faces': 1618, 'nude': 3058, 'chick': 786, 'turned': 4606, 'farce': 1654, 'brand': 565, '3000': 43, 'ships': 3935, 'handful': 2017, 'remaining': 3610, 'personal': 3240, 'conflicts': 940, '2001': 31, 'titanic': 4503, 'dirty': 1268, 'harry': 2039, 'catches': 715, 'everyones': 1543, 'acts': 107, 'fire': 1734, 'un': 4630, 'practically': 3362, 'send': 3875, 'rape': 3521, 'inferior': 2285, 'captivating': 675, 'hbo': 2055, 'evening': 1534, 'held': 2074, 'responsible': 3656, 'groups': 1981, 'killing': 2472, 'holding': 2130, 'bizarre': 492, 'sheer': 3925, 'genius': 1887, 'hanging': 2023, 'humour': 2194, 'uk': 4626, 'closet': 858, 'blend': 504, 'met': 2822, 'flicks': 1755, 'survived': 4322, 'cost': 1003, 'horrid': 2165, 'skin': 4015, 'buff': 611, 'fully': 1847, 'department': 1182, 'warrior': 4802, 'wizard': 4919, 'numerous': 3062, 'mighty': 2836, 'wouldve': 4959, 'topless': 4527, 'mst3k': 2932, 'lots': 2662, 'green': 1971, 'yellow': 4981, 'convincing': 985, 'tough': 4537, 'lucy': 2684, 'mickey': 2831, 'signed': 3971, 'drivel': 1364, 'faults': 1669, 'summer': 4291, 'choices': 798, 'screens': 3832, 'dedicated': 1153, 'screening': 3830, 'besides': 468, 'bollywood': 530, 'trailers': 4555, 'surprised': 4313, 'substance': 4258, 'tad': 4347, 'directorial': 1265, 'fault': 1668, 'credit': 1049, 'motivation': 2914, 'guessing': 1991, 'hong': 2149, 'hollywoods': 2138, 'zero': 4996, 'kitchen': 2485, 'sink': 3999, 'appearing': 277, 'cake': 648, 'khan': 2459, 'jimmy': 2403, 'cliff': 847, 'center': 732, 'executive': 1567, 'kapoor': 2443, 'speaks': 4096, 'ah': 158, 'akshay': 169, 'hunt': 2198, 'stolen': 4195, 'sorts': 4078, 'wears': 4832, 'implausible': 2245, 'moves': 2925, 'rambo': 3511, 'plenty': 3307, 'costumes': 1006, 'puts': 3481, 'catchy': 717, 'current': 1084, 'versus': 4722, 'extreme': 1609, 'rocks': 3722, 'beach': 419, 'continuity': 972, 'careful': 688, 'stealing': 4171, 'sat': 3786, 'kids': 2467, 'disney': 1289, 'somebody': 4062, 'christopher': 811, 'lloyd': 2630, 'lovable': 2668, 'aunt': 355, 'matthau': 2771, 'career': 686, 'classical': 836, 'station': 4164, 'california': 650, 'navy': 2976, 'odds': 3082, 'inspiring': 2302, 'par': 3184, 'masterful': 2758, 'taxi': 4371, 'driver': 1366, 'king': 2479, 'angel': 231, 'putting': 3482, 'nomination': 3026, 'rotten': 3740, 'skills': 4014, 'welcome': 4842, 'petty': 3249, 'prison': 3401, 'ultimate': 4627, 'scheme': 3812, 'throw': 4479, 'kinds': 2478, 'wacky': 4769, 'ride': 3692, 'passes': 3203, 'loser': 2655, 'team': 4378, 'cash': 709, 'superbly': 4297, 'madonna': 2699, 'street': 4216, 'spots': 4132, 'effort': 1432, 'poignant': 3315, 'hair': 2005, 'clothing': 861, 'styles': 4250, 'timeless': 4496, 'heston': 2094, 'robinson': 3716, 'peters': 3248, 'elements': 1443, 'mans': 2730, 'sci': 3815, 'fi': 1701, 'waited': 4771, 'mark': 2739, 'unpredictable': 4675, 'offered': 3088, 'delivery': 1173, 'hype': 2207, 'telling': 4396, 'cheesy': 781, 'mainly': 2708, 'politically': 3325, 'mainstream': 2709, 'limits': 2607, 'concern': 931, 'shock': 3938, 'established': 1524, 'actresses': 106, 'changes': 751, 'wondered': 4927, 'channels': 754, 'carry': 700, 'hardcore': 2034, 'crimes': 1056, '11': 2, 'matrix': 2767, 'witty': 4917, 'flow': 1762, 'argue': 290, 'tree': 4576, 'wit': 4908, 'philosophical': 3253, 'insight': 2298, 'hollow': 2135, 'reduced': 3579, 'corny': 997, 'develop': 1222, 'involvement': 2347, 'minimal': 2855, 'dies': 1245, 'replaced': 3634, 'stale': 4141, 'spoken': 4126, 'lacked': 2503, 'overwhelming': 3157, 'convey': 982, 'persona': 3239, 'smith': 4038, 'gifted': 1907, 'attend': 344, 'consider': 949, 'mill': 2845, 'pleased': 3305, 'mental': 2808, 'hospital': 2172, 'university': 4667, 'professor': 3422, 'killings': 2473, 'quotes': 3497, '80s': 59, 'junk': 2436, 'skip': 4016, 'rated': 3527, 'graphic': 1958, 'stephen': 4176, 'kings': 2481, 'stanley': 4148, 'kubrick': 2496, 'terror': 4412, 'outstanding': 3147, 'shut': 3961, 'orange': 3125, '1968': 16, 'wendy': 4846, 'danny': 1112, 'overlook': 3153, 'hotel': 2175, 'months': 2897, 'wealthy': 4827, 'mountains': 2918, 'filled': 1715, 'impressive': 2253, 'approach': 282, 'rolled': 3729, 'closing': 859, 'tour': 4538, 'breathtaking': 574, 'staff': 4138, 'expensive': 1579, 'pink': 3277, 'gold': 1932, 'colors': 879, 'designed': 1203, 'built': 618, 'reminiscent': 3621, 'nicholson': 3011, 'manager': 2724, 'sincere': 3991, 'pan': 3180, 'cold': 872, 'warm': 4794, 'shelley': 3928, 'marvelous': 2750, '1980': 20, 'lol': 2640, 'information': 2288, 'arm': 292, 'daughters': 1122, 'identify': 2216, 'haunting': 2051, 'guide': 1993, 'finger': 1731, 'spoke': 4125, 'somehow': 4063, 'frightening': 1839, 'shower': 3957, 'suffer': 4275, 'dramatic': 1348, 'mirror': 2861, 'beneath': 464, 'alcoholic': 177, 'patients': 3212, 'drug': 1373, 'namely': 2962, 'charge': 761, 'asks': 319, 'shadows': 3913, 'screams': 3828, 'baseball': 403, 'bat': 410, 'messed': 2821, 'delivers': 1172, 'troubled': 4593, 'remembered': 3617, 'ad': 110, 'perfection': 3225, 'idiotic': 2219, 'belongs': 460, 'focused': 1767, 'australia': 356, 'hatred': 2049, 'continues': 971, 'streep': 4215, 'native': 2972, 'german': 1896, 'previously': 3388, 'hated': 2047, 'der': 1191, 'managed': 2723, 'witch': 4909, 'shocking': 3940, 'seven': 3903, 'fill': 1714, 'involving': 2349, 'unfortunate': 4653, 'copies': 992, 'calls': 654, 'mistaken': 2872, 'kevin': 2457, 'burns': 628, 'couldve': 1009, 'struggling': 4236, 'recognize': 3569, 'grab': 1949, 'manage': 2722, 'revolution': 3680, 'brooklyn': 595, 'clark': 832, 'opens': 3115, 'pulling': 3463, 'yelling': 4980, 'cops': 993, 'chased': 770, 'charming': 768, 'drunken': 1376, 'winds': 4895, 'blond': 510, 'prisoners': 3403, 'mgm': 2828, 'sings': 3997, 'manner': 2729, 'notably': 3042, 'shine': 3931, 'photographer': 3259, 'trio': 4587, 'according': 88, 'synopsis': 4344, 'producer': 3415, '1930s': 11, 'improved': 2255, 'perform': 3227, 'hill': 2108, 'june': 2433, 'al': 170, 'todd': 4510, 'cave': 727, 'horribly': 2164, 'term': 4405, 'loosely': 2651, 'amongst': 218, 'kong': 2494, 'melodrama': 2797, 'transformation': 4560, 'nurse': 3063, 'holmes': 2139, 'competition': 918, 'exotic': 1574, 'soft': 4051, 'recommended': 3572, 'storytelling': 4209, 'overly': 3155, 'fake': 1635, 'explosion': 1596, 'suspenseful': 4331, 'extraordinary': 1607, 'ordinary': 3128, 'depiction': 1185, 'further': 1853, 'evidence': 1546, 'oliver': 3102, 'presents': 3377, 'latin': 2527, 'clearly': 840, 'answer': 251, 'capturing': 679, 'musicals': 2948, 'broadway': 592, 'dreadful': 1353, 'performer': 3231, 'rarely': 3524, 'bar': 396, 'concept': 930, 'dancers': 1105, 'introduce': 2336, 'performing': 3233, 'sacrifice': 3766, 'richard': 3686, 'theater': 4427, 'touched': 4534, 'jazz': 2387, 'ballet': 389, 'hundred': 2195, '12': 3, '13': 4, 'hello': 2078, 'exploration': 1593, 'reed': 3580, 'michelle': 2830, 'judy': 2426, 'sidney': 3968, 'lumet': 2688, 'sum': 4289, 'notion': 3050, 'philip': 3252, 'adequate': 120, 'hanks': 2025, 'intriguing': 2335, 'amy': 222, 'performs': 3234, 'apparent': 269, 'twilight': 4614, 'jackie': 2374, 'chan': 746, 'super': 4295, 'notorious': 3051, 'assigned': 325, 'protect': 3443, 'sends': 3876, 'keeping': 2450, 'maggie': 2702, 'bay': 416, 'arts': 310, 'mall': 2720, 'slapstick': 4019, 'detail': 1217, 'survivor': 4324, 'secretly': 3851, 'vietnam': 4735, 'photos': 3261, 'enemy': 1477, 'fat': 1663, 'sneak': 4043, 'mission': 2870, 'slick': 4026, 'bet': 470, 'guts': 1999, 'drink': 1361, 'foreign': 1790, 'beer': 439, 'deliberately': 1166, 'north': 3036, 'weapon': 4828, 'neck': 2985, 'pig': 3274, 'russian': 3762, 'loves': 2674, 'bringing': 586, 'losing': 2658, 'arrived': 301, 'willis': 4890, 'contains': 964, 'mummy': 2937, 'exciting': 1563, 'discovers': 1281, 'mothers': 2912, 'wanna': 4786, 'remake': 3612, 'canadian': 667, 'york': 4985, 'audio': 354, 'raise': 3507, 'orson': 3132, 'welles': 4844, 'witches': 4910, 'represent': 3637, 'naked': 2959, 'cause': 723, 'doll': 1313, 'toy': 4542, 'factory': 1623, 'occasionally': 3075, 'drives': 1367, 'arrive': 300, 'fell': 1690, 'footage': 1782, 'versions': 4721, 'disc': 1278, 'freddy': 1826, 'blowing': 515, 'elm': 1447, 'sucked': 4270, 'texas': 4418, 'massacre': 2754, 'rochester': 3719, 'lie': 2590, 'miracle': 2860, 'anne': 246, 'proved': 3446, 'greek': 1970, 'ancient': 225, 'eve': 1532, 'mtv': 2933, 'ran': 3513, 'distinct': 1296, 'amazed': 208, 'crisis': 1060, 'calm': 655, 'smooth': 4041, 'flight': 1757, 'security': 3854, 'shoes': 3941, 'landing': 2512, 'remote': 3622, 'unconvincing': 4638, 'sight': 3969, 'viewed': 4737, 'nearby': 2980, 'nobody': 3022, 'plane': 3288, 'danger': 1109, 'errors': 1516, 'portrayed': 3342, 'weight': 4840, 'floating': 1758, 'capture': 676, 'animated': 241, 'machine': 2693, '3d': 46, 'princess': 3397, 'charles': 764, 'nonsensical': 3031, 'mixture': 2878, 'fabulous': 1615, 'technology': 4385, 'artistic': 308, 'hits': 2125, 'onto': 3111, 'awfully': 373, 'eg': 1434, 'waves': 4819, 'fail': 1625, 'entertain': 1497, 'normal': 3033, 'lay': 2542, 'comical': 894, 'gangsters': 1869, 'rule': 3753, 'alice': 182, 'saves': 3796, 'parents': 3188, 'lived': 2626, 'san': 3780, 'hopes': 2159, 'tons': 4520, 'empty': 1465, 'uneven': 4649, 'staring': 4152, 'artificial': 306, 'pretending': 3382, 'halfway': 2008, 'scores': 3823, 'encounter': 1466, 'doctor': 1304, 'womans': 4922, 'happily': 2030, 'attraction': 350, 'spending': 4106, 'realise': 3548, 'burton': 630, 'advice': 133, 'ring': 3698, 'wearing': 4831, 'blame': 499, 'critic': 1061, 'spends': 4107, 'treats': 4575, 'costs': 1004, 'spike': 4111, 'chosen': 805, 'infamous': 2284, 'serial': 3889, 'nyc': 3065, 'neighborhood': 2993, 'ruby': 3749, 'likable': 2598, 'energy': 1478, 'lust': 2689, 'editor': 1423, 'fear': 1676, 'menace': 2806, 'atmospheric': 334, 'irritating': 2359, 'amazingly': 210, 'kung': 2498, 'fu': 1844, 'beloved': 461, 'unknown': 4668, 'resort': 3650, 'disappeared': 1271, 'mass': 2753, 'murderer': 2941, 'halloween': 2010, 'bed': 436, 'bands': 392, 'represented': 3638, 'rubber': 3747, 'brown': 601, 'makeup': 2717, 'arms': 294, 'guarantee': 1987, 'raped': 3522, 'utter': 4701, 'portray': 3340, 'stylish': 4251, 'maintain': 2710, 'lengthy': 2570, '17': 9, 'row': 3744, 'finished': 1733, 'fx': 1858, 'instantly': 2306, 'fascinated': 1657, 'relatives': 3601, 'host': 2173, 'claire': 831, 'carter': 703, 'fifteen': 1706, 'females': 1694, 'intent': 2318, '50': 51, 'dropping': 1371, 'hidden': 2096, 'clues': 865, 'execution': 1566, 'credible': 1048, 'stretched': 4222, 'expert': 1585, 'james': 2378, 'chief': 788, 'featured': 1679, 'glenn': 1918, 'golden': 1934, 'marry': 2745, 'promises': 3432, 'wedding': 4836, 'cage': 645, 'starring': 4154, 'vincent': 4746, 'rose': 3739, 'perry': 3237, 'norman': 3035, 'heat': 2067, 'edge': 1418, 'typically': 4624, 'honest': 2146, 'checking': 778, 'scale': 3802, 'comedies': 889, 'gas': 1874, 'driving': 1368, 'intense': 2316, 'area': 286, 'funnier': 1850, 'western': 4853, 'west': 4852, 'carrying': 701, 'asian': 314, 'border': 539, 'tends': 4402, 'nature': 2975, 'shadow': 3912, 'loving': 2675, 'animals': 240, 'voiced': 4762, 'sally': 3776, 'field': 1704, 'fox': 1814, 'virtually': 4751, 'offensive': 3086, 'tense': 4403, 'awards': 367, 'influence': 2286, 'constantly': 958, 'surrounded': 4318, 'closest': 857, 'commit': 904, 'familys': 1646, 'dinosaurs': 1256, 'bite': 489, 'european': 1530, 'army': 295, 'pull': 3461, 'terrorists': 4414, 'ready': 3546, 'creatures': 1046, 'elephant': 1444, 'filming': 1718, 'thumbs': 4485, 'restaurant': 3658, 'unaware': 4632, 'terrorist': 4413, 'smile': 4036, 'olivier': 3103, 'selling': 3873, 'treasure': 4571, 'available': 361, 'unexpected': 4650, 'choreographed': 801, 'critical': 1062, 'receive': 3563, 'ignorant': 2223, 'tragic': 4552, 'prom': 3429, 'surviving': 4323, 'disease': 1285, 'sappy': 3784, 'plight': 3308, 'floor': 1759, 'occurred': 3077, 'repeated': 3631, 'creator': 1043, 'jump': 2429, 'scares': 3806, 'pack': 3165, 'silver': 3977, 'reel': 3581, 'contain': 962, 'listed': 2618, 'mouse': 2919, 'stated': 4161, 'scared': 3805, 'hence': 2083, 'cats': 721, 'workers': 4943, 'everyday': 1541, 'stewart': 4184, 'unseen': 4678, 'pictures': 3270, 'bank': 394, 'depression': 1189, 'folk': 1770, 'red': 3576, 'builds': 617, 'tongue': 4518, 'cheek': 779, 'innocent': 2294, 'disneys': 1290, 'angela': 232, 'suited': 4286, 'proper': 3436, 'deceased': 1146, 'step': 4175, 'justice': 2438, 'germans': 1897, 'defend': 1158, 'holds': 2131, 'discovered': 1280, 'grey': 1973, 'dignity': 1252, 'annie': 247, 'speech': 4102, 'convincingly': 986, 'soap': 4047, 'stanwyck': 4149, 'spanish': 4092, 'suffered': 4276, 'nightmares': 3015, 'explain': 1586, 'surfing': 4311, 'intrigued': 2334, 'summary': 4290, 'alike': 185, 'senseless': 3878, 'shed': 3924, 'seek': 3858, '50s': 52, 'jeff': 2390, 'plans': 3292, 'timothy': 4499, 'bob': 524, 'billy': 482, 'terrifying': 4410, 'national': 2970, '90s': 61, 'industry': 2280, 'water': 4816, 'community': 908, 'mindless': 2851, 'emotion': 1458, 'charlotte': 766, 'altogether': 202, 'subtlety': 4261, 'legs': 2566, 'broke': 593, 'dust': 1388, 'surreal': 4317, 'touches': 4535, 'wolf': 4920, 'dennis': 1179, 'clown': 862, 'asleep': 320, 'couples': 1017, 'exists': 1573, 'translation': 4562, 'dying': 1393, 'beat': 423, 'seat': 3845, 'screaming': 3827, 'pops': 3332, 'threw': 4470, 'blank': 501, 'visually': 4758, 'ultimately': 4628, 'championship': 745, 'wrestling': 4966, 'faced': 1617, 'bonus': 534, 'sloppy': 4030, 'victoria': 4732, 'ashley': 313, 'maria': 2736, 'heads': 2059, 'tonight': 4519, 'eight': 1436, 'covers': 1024, 'nazi': 2977, '2003': 33, 'repeat': 3630, 'pages': 3168, 'hitler': 2124, 'appearances': 275, 'wear': 4830, 'striking': 4226, 'plus': 3311, '1st': 28, '2nd': 41, 'reasonably': 3559, 'denzel': 1181, 'leading': 2547, 'hopper': 2161, 'rick': 3689, 'creates': 1038, 'noir': 3023, 'sucks': 4271, 'captured': 677, 'picks': 3268, 'opened': 3113, 'novel': 3052, 'pearl': 3220, 'chinese': 796, 'protagonists': 3442, 'equivalent': 1512, 'pre': 3365, 'contained': 963, 'ford': 1789, 'eastern': 1408, 'affected': 137, 'learns': 2553, 'lesson': 2577, 'pulled': 3462, 'urge': 4689, 'satisfy': 3790, 'robots': 3718, 'conversations': 981, 'wannabe': 4787, '2005': 35, 'international': 2326, 'illness': 2230, 'village': 4743, 'leader': 2546, 'church': 813, 'distribution': 1298, 'thinks': 4454, 'bugs': 613, 'feature': 1678, 'spectacular': 4101, 'entirely': 1503, 'prior': 3400, 'defined': 1160, 'draws': 1352, 'covered': 1023, 'species': 4098, 'endearing': 1469, 'unpleasant': 4674, 'shall': 3916, 'generic': 1885, 'faithful': 1634, 'island': 2361, 'considered': 951, 'seasons': 3844, 'greedy': 1969, 'eager': 1396, 'offering': 3089, 'offers': 3090, 'guilt': 1994, 'warriors': 4803, 'hearted': 2065, 'wicked': 4879, 'hyde': 2206, 'wonderfully': 4929, 'friendly': 1836, 'wed': 4835, 'artists': 309, 'weve': 4856, 'spielberg': 4110, 'wrapped': 4964, 'finest': 1730, 'favourite': 1673, 'anime': 243, 'society': 4050, 'bigger': 479, 'philosophy': 3254, 'suggests': 4282, 'cars': 702, 'dangerous': 1110, 'criminals': 1058, 'twin': 4615, 'sisters': 4002, 'involve': 2345, 'nicely': 3009, 'comedic': 888, 'bag': 384, 'witnessed': 4915, 'aliens': 184, 'pet': 3246, 'vice': 4727, 'extras': 1608, 'jim': 2402, 'sadness': 3770, 'accept': 80, 'simon': 3982, 'talks': 4361, 'lawrence': 2539, 'jenny': 2393, 'chances': 748, 'grandmother': 1955, 'realism': 3549, 'ease': 1404, 'subjects': 4254, 'task': 4368, 'appreciated': 280, 'medium': 2792, 'identity': 2217, 'flop': 1760, 'damage': 1099, 'sounding': 4083, 'position': 3345, 'reflection': 3585, 'dealt': 1138, 'faster': 1662, 'gender': 1878, 'uninspired': 4657, 'bear': 420, 'bettie': 473, 'lit': 2621, 'bourne': 554, 'curious': 1083, 'foul': 1810, 'lisa': 2616, 'guest': 1992, 'creating': 1039, 'jewish': 2401, 'complain': 919, 'stereotype': 4178, 'accents': 79, 'creators': 1044, 'everybody': 1540, 'sinister': 3998, 'montage': 2894, 'slap': 4018, 'bond': 532, 'cgi': 740, 'scope': 3821, 'served': 3894, 'answers': 252, 'asking': 318, 'draw': 1349, 'gain': 1863, 'excessive': 1560, 'murphy': 2944, 'path': 3209, 'lessons': 2578, 'thoughts': 4464, 'temple': 4398, 'monk': 2889, 'daily': 1097, 'walls': 4783, 'destroy': 1213, 'balance': 387, 'et': 1526, 'text': 4419, 'statement': 4162, 'religion': 3607, 'machines': 2694, 'logical': 2639, 'creation': 1040, 'holy': 2140, 'beliefs': 452, 'process': 3412, 'civilization': 827, 'root': 3737, 'achieve': 92, 'controversial': 978, 'catholic': 720, 'admire': 121, 'experiment': 1583, 'indie': 2276, 'sophisticated': 4075, 'personalities': 3241, 'began': 441, 'commercials': 903, 'unusual': 4681, 'disappoint': 1272, 'screenwriter': 3833, '14': 6, 'hadnt': 2004, 'sky': 4017, 'meaningful': 2781, 'shallow': 3917, 'lesbian': 2573, 'snake': 4042, 'jackson': 2375, 'worn': 4948, 'itll': 2369, 'refreshing': 3586, 'vampires': 4712, 'monsters': 2893, 'mars': 2746, 'futuristic': 1857, 'vampire': 4711, 'cowboy': 1025, 'pilot': 3276, 'balls': 390, 'board': 522, 'blade': 495, 'deadly': 1133, 'chose': 804, 'someones': 4065, 'wet': 4855, 'dreams': 1355, 'gory': 1943, 'soldiers': 4054, 'watchable': 4812, 'thrills': 4475, 'joseph': 2419, 'currently': 1085, 'ensues': 1493, 'kenneth': 2455, 'branagh': 564, 'changed': 750, 'games': 1865, 'equipment': 1511, '2007': 37, 'rushed': 3760, 'build': 614, 'obsession': 3070, 'obsessed': 3069, 'allows': 192, 'hideous': 2098, 'understood': 4647, 'respected': 3653, 'adaptation': 113, 'anthony': 253, 'grows': 1985, 'conceived': 929, 'discovery': 1282, 'modesty': 2883, 'acceptable': 81, 'chases': 771, 'freeman': 1829, '75': 57, 'frustration': 1843, 'visits': 4756, 'decides': 1150, '2004': 34, 'catherine': 719, 'mentally': 2809, 'creep': 1051, 'messages': 2820, 'phony': 3256, 'pg': 3250, 'figured': 1712, 'trap': 4563, 'spread': 4133, 'flawless': 1751, 'market': 2740, 'ruin': 3750, 'sits': 4006, 'suck': 4269, 'interviews': 2330, 'charisma': 762, 'bible': 477, 'believing': 457, 'dropped': 1370, 'jesus': 2399, 'kingdom': 2480, 'pleasure': 3306, 'satisfying': 3791, 'teach': 4374, 'blew': 505, 'souls': 4080, 'heaven': 2068, 'tame': 4363, 'castle': 712, 'roman': 3731, 'dawson': 1128, 'troubles': 4594, 'vulnerable': 4768, 'sleazy': 4023, 'models': 2881, 'demon': 1177, 'stays': 4169, 'incomprehensible': 2267, 'pursuit': 3476, 'voices': 4763, 'causing': 726, 'bleak': 503, 'desperately': 1209, 'wwii': 4975, 'armed': 293, 'authentic': 358, 'borrowed': 545, 'prequel': 3372, 'stress': 4220, 'exact': 1550, 'los': 2653, 'angeles': 233, 'widely': 4881, 'backgrounds': 381, 'abandoned': 62, 'rage': 3505, 'scripts': 3836, 'fancy': 1649, 'revelation': 3674, 'mysteries': 2954, 'davies': 1125, 'motives': 2916, 'americas': 215, 'glorious': 1921, 'fiction': 1702, 'performers': 3232, 'trashy': 4566, 'beast': 422, 'names': 2963, 'joan': 2404, 'coach': 868, 'lacks': 2505, 'importantly': 2248, 'battles': 415, 'devoid': 1230, 'mile': 2842, 'inappropriate': 2259, 'merits': 2817, 'spoof': 4127, 'useful': 4694, 'robbery': 3711, 'planning': 3291, 'montana': 2895, 'shortly': 3947, 'arrested': 298, 'ed': 1415, 'fred': 1825, 'lou': 2663, 'diamond': 1236, 'push': 3477, 'existed': 1570, 'operation': 3117, 'freedom': 1828, 'cabin': 643, 'command': 897, 'growing': 1983, 'switch': 4339, 'successfully': 4267, 'hundreds': 2196, '40s': 49, 'destroyed': 1214, 'soldier': 4053, 'roy': 3745, 'troops': 4591, 'shell': 3927, 'depressed': 1187, 'diana': 1237, 'garbo': 1871, 'court': 1020, 'lifestyle': 2593, 'howard': 2182, 'handsome': 2021, 'convoluted': 987, 'constructed': 959, 'literature': 2623, 'produce': 3413, 'encounters': 1467, 'references': 3583, 'doom': 1326, 'cleverly': 842, 'individuals': 2278, 'laurel': 2537, 'hardy': 2037, 'falls': 1640, 'torn': 4528, 'useless': 4695, 'characterization': 759, 'needless': 2989, 'stan': 4142, 'mix': 2876, 'witness': 4914, 'legendary': 2565, '1950s': 14, 'honor': 2150, 'oz': 3160, 'learning': 2552, 'gods': 1928, 'sake': 3775, 'susan': 4326, 'contact': 961, 'account': 89, 'contract': 973, 'husbands': 2205, 'nicholas': 3010, 'brains': 563, 'advantage': 129, 'naive': 2958, 'widow': 4883, 'attorney': 348, 'da': 1094, '1970s': 17, 'flash': 1745, 'september': 3884, 'dating': 1120, 'interview': 2329, 'latest': 2526, 'craft': 1028, 'household': 2179, 'guard': 1988, 'cameos': 658, 'jonathan': 2417, 'winters': 4901, 'retired': 3664, 'businessman': 634, 'struck': 4232, 'scott': 3824, 'drops': 1372, 'bomb': 531, 'shirley': 3936, 'em': 1452, 'specifically': 4100, 'cities': 823, 'comparing': 913, 'strike': 4224, 'object': 3066, 'necessarily': 2983, 'trail': 4553, 'loss': 2659, 'destruction': 1216, 'clips': 852, 'fighter': 1708, 'changing': 752, 'scottish': 3825, 'murderous': 2942, 'exist': 1569, 'iii': 2227, 'ripped': 3701, 'watches': 4814, 'universal': 4665, 'arnold': 296, 'blah': 496, 'revealing': 3672, 'kinda': 2477, 'multiple': 2936, 'overdone': 3152, 'cliché': 844, 'miller': 2846, 'ii': 2226, 'depicted': 1183, 'rival': 3706, 'environment': 1505, 'clothes': 860, 'prisoner': 3402, 'narration': 2965, 'serve': 3893, 'suggested': 4281, 'land': 2511, 'ho': 2127, 'teens': 4392, 'greed': 1968, 'videos': 4734, 'drunk': 1375, 'dentist': 1180, 'wealth': 4826, 'solution': 4059, 'colour': 880, 'chicks': 787, 'drag': 1342, 'appalling': 268, 'basketball': 409, 'plague': 3285, 'crocodile': 1065, 'clip': 851, 'eaten': 1412, 'intellectual': 2312, 'chaplin': 756, 'bergman': 466, 'incoherent': 2265, 'response': 3654, 'invasion': 2340, 'doomed': 1327, 'peace': 3219, 'continued': 970, 'duke': 1383, 'wayne': 4821, 'agrees': 157, 'ray': 3533, 'hall': 2009, 'attracted': 349, 'charlie': 765, 'realized': 3553, 'regret': 3591, 'gratuitous': 1961, 'hurt': 2202, 'compelled': 915, 'bone': 533, 'inane': 2258, 'simplicity': 3984, 'distance': 1294, 'fetched': 1698, 'relate': 3593, 'clean': 838, 'stretch': 4221, 'closely': 855, 'believes': 456, 'families': 1644, 'slightest': 4028, 'unable': 4631, 'roots': 3738, 'chooses': 800, 'string': 4227, 'tunes': 4603, 'demands': 1175, 'resembles': 3646, 'aids': 161, 'foster': 1809, 'mini': 2854, 'usa': 4691, 'flies': 1756, 'breaking': 570, 'repetitive': 3633, 'similarities': 3979, 'enjoying': 1487, 'lowest': 2678, 'afford': 138, 'houses': 2180, 'rules': 3754, 'visit': 4755, 'persons': 3244, 'riding': 3695, 'wood': 4933, 'enormous': 1490, 'plant': 3293, 'china': 795, 'landscapes': 2514, 'documentaries': 1306, 'plastic': 3294, 'competent': 917, 'dawn': 1127, 'gonna': 1936, 'secrets': 3852, 'jungle': 2434, 'list': 2617, 'becoming': 435, 'steps': 4177, 'grant': 1956, 'eat': 1411, 'prize': 3405, 'relative': 3599, '18': 10, 'wholly': 4874, 'resolution': 3649, 'relevant': 3604, 'wandering': 4785, 'eric': 1514, 'bang': 393, 'quit': 3494, 'sitcom': 4004, 'nelson': 2997, 'sounded': 4082, 'staged': 4140, 'carl': 692, 'victor': 4731, 'trapped': 4564, 'quote': 3496, 'conspiracy': 956, 'pool': 3327, 'horrendous': 2162, 'tradition': 4549, 'bird': 484, 'burn': 625, 'visible': 4753, 'hide': 2097, 'combat': 882, '1960s': 15, 'precious': 3366, 'tend': 4400, 'officers': 3093, 'facing': 1620, 'max': 2774, 'von': 4765, 'owner': 3159, 'chapter': 757, '1990': 24, 'sold': 4052, 'narrator': 2967, 'dutch': 1389, 'advanced': 128, 'hey': 2095, 'reviewers': 3678, 'nazis': 2978, 'educational': 1425, 'noble': 3021, 'intentions': 2321, 'primarily': 3393, 'ignored': 2225, 'wanting': 4790, 'deeper': 1155, 'roger': 3724, 'scientist': 3818, 'shark': 3921, 'ass': 323, 'virus': 4752, 'airplane': 166, 'dean': 1139, 'jane': 2380, 'shoots': 3944, 'join': 2412, 'press': 3379, 'teenager': 4390, 'knowledge': 2491, 'travesty': 4570, 'inspector': 2299, 'alan': 171, 'sellers': 3872, 'daring': 1114, 'suitable': 4285, 'internet': 2327, 'incident': 2260, 'alfred': 181, 'triumph': 4590, 'louis': 2665, 'dialogues': 1235, 'reunion': 3669, 'lewis': 2586, 'contrast': 975, 'demand': 1174, 'murdered': 2940, 'unforgettable': 4652, 'rocky': 3723, 'simmons': 3981, 'bothered': 549, 'spell': 4104, 'rain': 3506, 'tall': 4362, 'carol': 693, 'adapted': 114, 'dickens': 1240, 'oscars': 3134, 'funeral': 1849, 'settle': 3902, 'fortune': 1806, 'thief': 4448, 'menacing': 2807, 'adventures': 131, 'ambitious': 211, 'consistently': 954, 'considerable': 950, 'lively': 2627, 'theory': 4437, 'cia': 814, 'failing': 1627, 'mexican': 2826, 'ashamed': 312, 'succeed': 4262, 'block': 508, 'instinct': 2308, 'chair': 742, 'portion': 3338, 'countryside': 1015, 'steel': 4173, 'restored': 3659, 'toys': 4543, 'bobby': 525, 'capable': 672, 'vicious': 4728, 'leo': 2571, 'lily': 2605, '25': 40, 'sleeping': 4025, 'ann': 244, 'margaret': 2735, 'paltrow': 3178, 'march': 2734, 'butt': 638, 'shouldnt': 3952, 'proud': 3444, 'shake': 3914, 'mansion': 2731, 'lasted': 2522, 'brian': 576, 'jobs': 2406, 'hang': 2022, 'gradually': 1952, 'demons': 1178, 'warren': 4801, 'crush': 1072, 'homeless': 2143, 'test': 4416, 'rank': 3518, 'decade': 1144, 'expression': 1602, 'bound': 553, 'strictly': 4223, 'fbi': 1675, 'variety': 4714, 'comfortable': 892, 'abc': 63, 'bush': 632, 'ideal': 2214, 'tiresome': 4502, 'personality': 3242, 'tear': 4379, 'whenever': 4863, 'desert': 1198, 'racism': 3502, 'lees': 2560, 'elsewhere': 1449, 'capital': 673, 'letters': 2582, 'blacks': 494, 'del': 1165, 'tarzan': 4367, 'donna': 1323, 'taylor': 4372, 'opera': 3116, 'unrealistic': 4677, 'rendition': 3625, '30s': 44, 'turkey': 4604, 'firstly': 1737, 'disagree': 1269, 'beings': 449, 'beaten': 424, 'attacked': 338, 'attacks': 339, 'beating': 425, 'spoiled': 4122, 'bitter': 491, 'benefit': 465, 'trash': 4565, 'basement': 405, 'student': 4238, 'blind': 506, 'improvement': 2256, 'melting': 2799, 'qualities': 3483, 'scare': 3803, 'calling': 653, 'advise': 134, 'bore': 540, 'promised': 3431, 'eva': 1531, 'jeremy': 2394, 'glory': 1922, 'convinced': 984, 'offended': 3085, 'understandable': 4644, 'politics': 3326, 'broad': 590, 'abysmal': 76, 'ha': 2002, 'coherent': 871, 'handed': 2016, 'determined': 1221, 'jumped': 2430, 'raw': 3532, 'wore': 4939, 'possibilities': 3348, 'hint': 2112, 'reads': 3545, 'farm': 1656, 'concerning': 933, 'superman': 4301, 'gotten': 1947, 'dragon': 1344, '1973': 19, 'river': 3707, 'dubbed': 1379, 'painting': 3175, 'virginia': 4750, 'aforementioned': 139, 'omen': 3104, 'unsettling': 4679, 'description': 1197, 'eccentric': 1414, 'walken': 4777, 'icon': 2211, 'carradine': 695, 'ya': 4976, 'professional': 3421, 'patrick': 3213, 'fears': 1677, 'blake': 498, 'adorable': 124, 'nation': 2969, 'independent': 2272, 'rebel': 3561, 'explains': 1589, 'regard': 3588, 'regarding': 3589, 'focusing': 1769, 'sticks': 4186, 'writes': 4970, 'marty': 2749, 'marie': 2737, 'decision': 1151, 'matches': 2764, 'dave': 1123, 'companion': 909, 'baker': 385, 'wished': 4905, 'dinner': 1254, 'queen': 3485, 'charm': 767, 'inducing': 2279, 'solely': 4056, 'handled': 2019, 'cameron': 661, 'facial': 1619, 'leonard': 2572, 'trick': 4582, 'ralph': 3510, 'complicated': 925, 'domestic': 1318, 'emily': 1456, 'surprises': 4314, 'painted': 3174, 'unbelievably': 4635, 'empire': 1464, 'ruined': 3751, 'rogers': 3725, 'suffering': 4277, 'merit': 2816, 'strength': 4219, 'attitudes': 347, 'prince': 3396, 'humble': 2191, 'partly': 3197, 'facts': 1624, 'integrity': 2311, 'britain': 588, 'achieved': 93, 'designs': 1204, 'elegant': 1441, 'thankfully': 4422, 'struggles': 4235, 'warmth': 4796, 'storm': 4206, 'gray': 1963, 'jamie': 2379, 'ward': 4793, 'cartoons': 705, 'secondly': 3847, 'hunting': 2201, 'fever': 1699, 'revolutionary': 3681, 'che': 773, 'cuba': 1075, 'rise': 3702, 'darkness': 1117, 'desperation': 1210, 'horse': 2170, 'kicking': 2462, 'developing': 1224, 'saga': 3773, 'scooby': 3820, 'essence': 1521, 'format': 1799, 'doo': 1325, 'goofy': 1939, 'giallo': 1904, 'italy': 2368, 'remotely': 3623, 'chain': 741, 'accompanied': 86, 'generated': 1882, 'edition': 1422, 'fitting': 1742, 'genres': 1889, 'pat': 3208, 'vengeance': 4719, 'cringe': 1059, 'realizing': 3555, 'dolph': 1317, 'behave': 445, 'responsibility': 3655, 'streets': 4217, 'widmark': 4882, 'communist': 907, 'agents': 151, 'joey': 2408, 'necessary': 2984, 'reporter': 3636, 'spiritual': 4116, 'monkey': 2890, 'minimum': 2856, 'whale': 4857, 'junior': 2435, 'scientific': 3817, 'attempted': 341, 'hitting': 2126, 'explosions': 1597, 'subtitles': 4259, 'tribute': 4581, 'whilst': 4869, 'eating': 1413, 'outrageous': 3145, 'acid': 95, 'occur': 3076, 'friday': 1834, '13th': 5, 'slaughter': 4021, 'smoking': 4040, 'fay': 1674, 'react': 3540, 'rooms': 3736, 'bedroom': 437, 'purchased': 3470, 'cameras': 660, 'wells': 4845, 'dollar': 1314, 'principal': 3398, 'contrary': 974, 'reviewer': 3677, 'horses': 2171, 'underground': 4640, 'vast': 4716, 'grandfather': 1954, 'rats': 3531, 'inspiration': 2300, 'hal': 2006, 'spare': 4093, 'li': 2587, 'stilted': 4190, 'serving': 3897, 'korean': 2495, 'crafted': 1029, 'joined': 2413, 'occasional': 3074, 'examples': 1554, 'gags': 1862, 'louise': 2666, 'concerns': 934, 'careers': 687, 'museum': 2945, 'gentle': 1890, 'purchase': 3469, 'highest': 2102, 'woody': 4936, 'measure': 2786, 'honesty': 2148, 'ourselves': 3140, 'forty': 1807, 'virgin': 4749, 'listening': 2620, 'category': 718, 'ireland': 2352, 'henry': 2084, 'express': 1600, 'atlantis': 332, 'repeatedly': 3632, 'punk': 3468, 'superficial': 4298, 'practice': 3363, 'button': 639, 'dislike': 1288, 'possessed': 3347, 'wallace': 4782, 'eyed': 1612, 'seed': 3856, 'uwe': 4703, 'boll': 529, 'urban': 4688, 'gothic': 1945, 'assistant': 326, 'fooled': 1780, 'strongly': 4231, 'witnesses': 4916, 'ellen': 1446, 'distant': 1295, 'veteran': 4724, 'defense': 1159, 'canada': 666, 'loads': 2633, 'nuclear': 3057, 'turner': 4607, 'accepted': 82, 'teenage': 4389, 'conservative': 948, 'adams': 112, 'nights': 3016, 'hilariously': 2107, 'suspects': 4328, 'harsh': 2040, 'card': 681, 'losers': 2656, 'expressed': 1601, 'opinions': 3119, 'corporate': 998, 'gordon': 1940, 'devoted': 1231, 'appropriate': 283, 'fed': 1682, 'authority': 360, 'swear': 4334, 'betty': 474, 'undoubtedly': 4648, 'le': 2544, 'thick': 4447, 'questionable': 3488, 'beatty': 427, 'similarly': 3980, 'butler': 637, 'disappear': 1270, 'hip': 2114, 'hop': 2154, 'lyrics': 2692, 'duty': 1390, 'childish': 791, '1972': 18, 'boom': 537, 'training': 4558, 'glimpse': 1919, 'league': 2549, 'batman': 413, 'assumed': 329, 'kelly': 2452, 'richardson': 3688, 'scarecrow': 3804, 'unfolds': 4651, 'enjoys': 1489, 'survivors': 4325, 'tie': 4488, 'meat': 2787, 'hints': 2113, 'teeth': 4393, 'zone': 4999, 'christ': 807, 'gag': 1861, '1940s': 13, 'tight': 4492, 'unit': 4663, 'robot': 3717, 'sudden': 4272, 'distracting': 1297, 'returned': 3666, 'amanda': 205, 'pays': 3218, 'stargate': 4151, 'leg': 2562, 'polished': 3323, 'climactic': 848, 'afterwards': 145, 'arthur': 305, 'moore': 2901, 'impressed': 2251, 'rat': 3525, 'culture': 1079, 'savage': 3793, 'gabriel': 1859, 'porno': 3337, 'removed': 3624, 'aid': 160, 'brando': 566, 'splendid': 4119, 'mann': 2728, 'hammer': 2014, 'window': 4894, 'cheating': 776, 'emotionally': 1460, 'confidence': 938, 'inevitable': 2282, 'annoyed': 248, 'valley': 4707, 'molly': 2884, 'ruins': 3752, 'providing': 3451, 'skill': 4013, 'aimed': 162, '20th': 38, 'ups': 4686, 'issue': 2364, 'niro': 3019, 'outfit': 3144, 'mechanical': 2788, 'pushed': 3478, 'grown': 1984, 'luke': 2687, 'thirty': 4456, 'imagined': 2239, 'blob': 507, 'nostalgia': 3038, 'prevent': 3385, 'elvira': 1450, 'mistress': 2874, 'edie': 1419, 'vegas': 4717, 'fish': 1738, 'hills': 2109, 'historically': 2120, 'worry': 4950, 'lab': 2501, 'cg': 739, 'swimming': 4338, 'greatly': 1967, 'avoided': 364, 'mundane': 2938, 'motivations': 2915, 'cube': 1076, 'paranoia': 3186, 'bold': 528, 'jaws': 2385, 'tomatoes': 4515, 'trademark': 4548, 'lincoln': 2608, 'succeeded': 4263, 'easier': 1405, 'jet': 2400, 'iraq': 2351, 'dinosaur': 1255, 'bull': 619, 'pacino': 3164, 'goldberg': 1933, 'andrews': 229, 'curse': 1086, 'laura': 2536, 'mrs': 2930, 'francisco': 1819, 'craig': 1030, 'stevens': 4183, 'popularity': 3334, 'fathers': 1667, 'craven': 1034, 'corrupt': 1001, 'ratings': 3530, 'irrelevant': 2358, 'sensitive': 3879, 'meaningless': 2782, 'depicts': 1186, 'map': 2733, 'describes': 1196, 'devils': 1229, 'dozens': 1339, '1983': 22, 'hippie': 2115, 'ian': 2209, 'despair': 1207, 'wives': 4918, 'rob': 3710, 'circle': 821, 'directions': 1262, 'karen': 2444, 'neil': 2995, 'neighbor': 2992, 'ties': 4490, 'anyways': 262, 'methods': 2825, 'brenda': 575, 'sons': 4073, 'insulting': 2310, 'kate': 2446, 'emma': 1457, 'simpson': 3987, 'shakespeare': 3915, 'sing': 3992, 'claimed': 829, 'pointed': 3317, 'cheated': 775, 'intrigue': 2333, 'ninja': 3018, 'taught': 4370, 'worried': 4949, 'april': 284, 'berlin': 467, 'dude': 1381, 'bare': 398, 'earned': 1401, 'likewise': 2603, 'dorothy': 1330, 'directs': 1267, 'unhappy': 4656, 'hudson': 2184, 'luckily': 2682, 'jay': 2386, 'singers': 3994, 'sport': 4129, 'experiments': 1584, 'lips': 2615, 'popcorn': 3331, 'bud': 607, 'curtis': 1087, 'caliber': 649, 'abuse': 74, 'progress': 3425, 'recognition': 3568, 'seagal': 3839, 'godzilla': 1929, 'elaborate': 1439, 'lynch': 2691, 'fields': 1705, 'carrie': 697, 'fisher': 1739, 'morris': 2908, 'hood': 2151, 'raising': 3509, 'parent': 3187, 'differences': 1247, 'cinematographer': 819, 'spirited': 4114, 'eighties': 1437, 'tiger': 4491, 'alert': 178, 'journalist': 2420, 'bin': 483, 'psychic': 3456, 'cannibal': 669, 'bo': 521, 'earl': 1398, 'upset': 4687, 'mel': 2796, 'brooks': 596, 'greater': 1965, 'snl': 4044, 'intentionally': 2320, 'impress': 2250, 'ought': 3138, 'gruesome': 1986, 'wreck': 4965, 'flynn': 1765, 'fairy': 1632, 'briefly': 580, 'walker': 4778, 'spy': 4135, 'understated': 4646, 'pit': 3278, 'tremendous': 4579, 'showdown': 3955, 'counter': 1011, 'trial': 4580, 'caring': 691, 'individual': 2277, 'karloff': 2445, 'resources': 3651, 'matched': 2763, '2002': 32, 'exploitation': 1592, 'jon': 2416, 'affect': 136, 'eyre': 1614, 'cox': 1026, 'danes': 1108, 'represents': 3639, 'cultural': 1078, 'efforts': 1433, 'throat': 4476, 'trees': 4577, 'idiot': 2218, 'ken': 2453, 'hoped': 2156, 'generations': 1884, 'remarkably': 3614, 'fonda': 1777, 'displayed': 1292, 'mentioning': 2812, 'alexander': 180, 'powell': 3358, 'preview': 3386, 'brady': 561, 'classes': 834, 'cinderella': 815, 'garden': 1872, 'rings': 3699, 'knock': 2488, 'strangers': 4214, 'celebrity': 729, 'hugh': 2186, 'waitress': 4773, 'mayor': 2777, 'phantom': 3251, 'investigation': 2343, 'tricks': 4583, 'access': 83, 'possibility': 3349, 'lake': 2509, 'studios': 4241, 'thrillers': 4473, 'gerard': 1895, 'twisted': 4618, 'spider': 4109, 'stranger': 4213, 'crash': 1033, 'driven': 1365, 'recognized': 3570, 'blows': 517, 'pushing': 3479, 'bette': 471, 'leslie': 2574, 'mildred': 2841, 'kay': 2447, 'novels': 3053, 'newspaper': 3006, '2006': 36, 'combine': 884, 'creativity': 1042, 'embarrassment': 1455, 'edgar': 1417, 'inventive': 2341, 'rid': 3690, 'elizabeth': 1445, 'noted': 3045, 'subplot': 4255, 'mild': 2839, 'contest': 967, 'cup': 1080, 'liking': 2604, 'primary': 3394, 'arrives': 302, 'ocean': 3079, 'pulp': 3465, 'heights': 2073, 'chicago': 785, 'nose': 3037, 'keaton': 2448, 'entry': 1504, 'financial': 1725, 'subsequent': 4257, 'introduces': 2338, 'rachel': 3500, 'soccer': 4048, 'segments': 3868, 'unintentionally': 4659, 'dreary': 1356, 'lying': 2690, 'poetry': 3314, 'profound': 3423, 'tag': 4348, 'derek': 1192, '45': 50, 'starred': 4153, 'apes': 267, 'ape': 266, 'incompetent': 2266, '1933': 12, 'sin': 3988, 'testament': 4417, 'raymond': 3534, 'francis': 1818, 'pretend': 3381, 'doubts': 1333, 'elvis': 1451, 'indians': 2275, 'warming': 4795, 'coffee': 870, 'desired': 1206, 'amounts': 220, 'experienced': 1581, 'delight': 1167, 'influenced': 2287, 'seventies': 3904, 'gandhi': 1866, 'india': 2273, 'masses': 2755, 'stood': 4199, 'survival': 4320, 'evident': 1547, 'forgive': 1795, 'achievement': 94, 'kennedy': 2454, 'warner': 4799, 'holly': 2136, 'tracks': 4545, 'unwatchable': 4682, 'challenging': 744, 'conventional': 979, 'polanski': 3321, 'reynolds': 3684, 'madness': 2698, 'damon': 1101, 'swim': 4337, 'brutally': 604, 'projects': 3428, 'advertising': 132, 'miike': 2837, 'schools': 3814, 'pleasantly': 3303, 'estate': 1525, 'engage': 1479, 'darker': 1116, 'lucas': 2680, 'subplots': 4256, 'cure': 1081, 'cliche': 843, 'decisions': 1152, 'enthusiasm': 1501, 'recorded': 3574, 'satan': 3787, 'size': 4012, 'homer': 2144, 'brosnan': 597, 'lonely': 2643, 'columbo': 881, 'falk': 1636, 'inevitably': 2283, 'wisdom': 4902, 'goal': 1925, 'prostitute': 3440, 'melodramatic': 2798, 'territory': 4411, 'suffice': 4279, 'reaches': 3538, 'jumps': 2432, 'rural': 3758, 'nuts': 3064, 'cruel': 1070, 'secretary': 3850, 'sequels': 3886, 'hopeless': 2158, 'reached': 3537, 'legal': 2563, 'resulting': 3661, 'goodness': 1938, 'property': 3438, 'awe': 370, 'sunshine': 4294, 'burt': 629, 'demented': 1176, 'thru': 4483, 'dressing': 1359, 'buildings': 616, 'magazine': 2701, 'abilities': 64, 'myers': 2952, 'lemmon': 2567, 'mario': 2738, 'hart': 2041, 'cole': 873, 'thousand': 4465, 'arguably': 289, 'cagney': 646, 'rabbit': 3498, 'monkeys': 2891, 'purple': 3473, 'dub': 1378, 'appreciation': 281, 'babe': 375, 'feed': 1683, 'square': 4136, 'linda': 2609, 'complaint': 920, 'iran': 2350, 'pseudo': 3454, 'signs': 3973, 'sixties': 4011, 'structure': 4233, 'justin': 2440, 'roberts': 3714, 'official': 3094, 'carrey': 696, 'trained': 4557, 'mail': 2706, 'movements': 2924, 'plausible': 3295, 'masterpieces': 2760, 'pitch': 3279, 'population': 3335, 'letting': 2583, 'broadcast': 591, 'viewings': 4741, 'seeking': 3859, 'destiny': 1212, 'unreal': 4676, 'recording': 3575, 'cooper': 990, 'pal': 3177, 'reaching': 3539, 'birds': 485, 'showcase': 3954, 'mentions': 2813, 'rising': 3703, 'ramones': 3512, 'midnight': 2834, 'breasts': 572, 'selfish': 3870, 'kicked': 2461, 'helicopter': 2076, 'bela': 450, 'lugosi': 2686, 'argument': 291, 'airport': 167, 'horrifying': 2167, 'overrated': 3156, 'travels': 4569, 'teaching': 4377, 'astaire': 330, 'photo': 3257, 'alternate': 200, 'tooth': 4524, 'hamilton': 2012, 'gundam': 1997, 'sadistic': 3768, 'felix': 1689, 'chuck': 812, 'gift': 1906, 'dalton': 1098, 'detailed': 1218, 'ned': 2986, 'rangers': 3517, 'voight': 4764, 'misery': 2865, 'safety': 3772, 'opportunities': 3120, 'newly': 3004, 'deaf': 1134, 'abraham': 69, 'sid': 3964, 'streisand': 4218, 'franco': 1820, 'stooges': 4200, 'transition': 4561, 'spain': 4091, 'kissing': 2484, 'activities': 102, 'hamlet': 2013, 'highlights': 2104, 'domino': 1319, 'defeat': 1157, 'grinch': 1975, 'paulie': 3215, 'depicting': 1184, 'spirits': 4115, 'tracy': 4546, 'scrooge': 3837, 'fulci': 1845, 'dracula': 1341, 'chess': 783, 'gadget': 1860, 'bakshi': 386, 'colonel': 876, 'pokemon': 3320}\n"
     ]
    }
   ],
   "source": [
    "print(str(vocabulary))"
   ]
  },
  {
   "cell_type": "markdown",
   "metadata": {},
   "source": [
    "Once you have added the endpoint name to the Lambda function, click on **Save**. Your Lambda function is now up and running. Next we need to create a way for our web app to execute the Lambda function."
   ]
  },
  {
   "cell_type": "markdown",
   "metadata": {},
   "source": [
    "### Setting up API Gateway\n",
    "\n",
    "Now that our Lambda function is set up, it is time to create a new API using API Gateway that will trigger the Lambda function we have just created.\n",
    "\n",
    "Using AWS Console, navigate to **Amazon API Gateway** and then click on **Get started**.\n",
    "\n",
    "On the next page, make sure that **New API** is selected and give the new api a name, for example, `sentiment_analysis_web_app`. Then, click on **Create API**.\n",
    "\n",
    "Now we have created an API, however it doesn't currently do anything. What we want it to do is to trigger the Lambda function that we created earlier.\n",
    "\n",
    "Select the **Actions** dropdown menu and click **Create Method**. A new blank method will be created, select its dropdown menu and select **POST**, then click on the check mark beside it.\n",
    "\n",
    "For the integration point, make sure that **Lambda Function** is selected and click on the **Use Lambda Proxy integration**. This option makes sure that the data that is sent to the API is then sent directly to the Lambda function with no processing. It also means that the return value must be a proper response object as it will also not be processed by API Gateway.\n",
    "\n",
    "Type the name of the Lambda function you created earlier into the **Lambda Function** text entry box and then click on **Save**. Click on **OK** in the pop-up box that then appears, giving permission to API Gateway to invoke the Lambda function you created.\n",
    "\n",
    "The last step in creating the API Gateway is to select the **Actions** dropdown and click on **Deploy API**. You will need to create a new Deployment stage and name it anything you like, for example `prod`.\n",
    "\n",
    "You have now successfully set up a public API to access your SageMaker model. Make sure to copy or write down the URL provided to invoke your newly created public API as this will be needed in the next step. This URL can be found at the top of the page, highlighted in blue next to the text **Invoke URL**."
   ]
  },
  {
   "cell_type": "markdown",
   "metadata": {},
   "source": [
    "## Step 7: Deploying our web app\n",
    "\n",
    "Now that we have a publicly available API, we can start using it in a web app. For our purposes, we have provided a simple static html file which can make use of the public api you created earlier.\n",
    "\n",
    "In the `website` folder there should be a file called `index.html`. Download the file to your computer and open that file up in a text editor of your choice. There should be a line which contains **\\*\\*REPLACE WITH PUBLIC API URL\\*\\***. Replace this string with the url that you wrote down in the last step and then save the file.\n",
    "\n",
    "Now, if you open `index.html` on your local computer, your browser will behave as a local web server and you can use the provided site to interact with your SageMaker model.\n",
    "\n",
    "If you'd like to go further, you can host this html file anywhere you'd like, for example using github or hosting a static site on Amazon's S3. Once you have done this you can share the link with anyone you'd like and have them play with it too!\n",
    "\n",
    "> **Important Note** In order for the web app to communicate with the SageMaker endpoint, the endpoint has to actually be deployed and running. This means that you are paying for it. Make sure that the endpoint is running when you want to use the web app but that you shut it down when you don't need it, otherwise you will end up with a surprisingly large AWS bill."
   ]
  },
  {
   "cell_type": "markdown",
   "metadata": {},
   "source": [
    "### Delete the endpoint\n",
    "\n",
    "Remember to always shut down your endpoint if you are no longer using it. You are charged for the length of time that the endpoint is running so if you forget and leave it on you could end up with an unexpectedly large bill."
   ]
  },
  {
   "cell_type": "code",
   "execution_count": 51,
   "metadata": {},
   "outputs": [],
   "source": [
    "xgb_predictor.delete_endpoint()"
   ]
  },
  {
   "cell_type": "markdown",
   "metadata": {},
   "source": [
    "## Optional: Clean up\n",
    "\n",
    "The default notebook instance on SageMaker doesn't have a lot of excess disk space available. As you continue to complete and execute notebooks you will eventually fill up this disk space, leading to errors which can be difficult to diagnose. Once you are completely finished using a notebook it is a good idea to remove the files that you created along the way. Of course, you can do this from the terminal or from the notebook hub if you would like. The cell below contains some commands to clean up the created files from within the notebook."
   ]
  },
  {
   "cell_type": "code",
   "execution_count": 52,
   "metadata": {},
   "outputs": [
    {
     "ename": "OSError",
     "evalue": "[Errno 12] Cannot allocate memory",
     "output_type": "error",
     "traceback": [
      "\u001b[0;31m---------------------------------------------------------------------------\u001b[0m",
      "\u001b[0;31mOSError\u001b[0m                                   Traceback (most recent call last)",
      "\u001b[0;32m<ipython-input-52-2c87d8eefdf2>\u001b[0m in \u001b[0;36m<module>\u001b[0;34m\u001b[0m\n\u001b[1;32m      1\u001b[0m \u001b[0;31m# First we will remove all of the files contained in the data_dir directory\u001b[0m\u001b[0;34m\u001b[0m\u001b[0;34m\u001b[0m\u001b[0;34m\u001b[0m\u001b[0m\n\u001b[0;32m----> 2\u001b[0;31m \u001b[0mget_ipython\u001b[0m\u001b[0;34m(\u001b[0m\u001b[0;34m)\u001b[0m\u001b[0;34m.\u001b[0m\u001b[0msystem\u001b[0m\u001b[0;34m(\u001b[0m\u001b[0;34m'rm $data_dir/*'\u001b[0m\u001b[0;34m)\u001b[0m\u001b[0;34m\u001b[0m\u001b[0;34m\u001b[0m\u001b[0m\n\u001b[0m\u001b[1;32m      3\u001b[0m \u001b[0;34m\u001b[0m\u001b[0m\n\u001b[1;32m      4\u001b[0m \u001b[0;31m# And then we delete the directory itself\u001b[0m\u001b[0;34m\u001b[0m\u001b[0;34m\u001b[0m\u001b[0;34m\u001b[0m\u001b[0m\n\u001b[1;32m      5\u001b[0m \u001b[0mget_ipython\u001b[0m\u001b[0;34m(\u001b[0m\u001b[0;34m)\u001b[0m\u001b[0;34m.\u001b[0m\u001b[0msystem\u001b[0m\u001b[0;34m(\u001b[0m\u001b[0;34m'rmdir $data_dir'\u001b[0m\u001b[0;34m)\u001b[0m\u001b[0;34m\u001b[0m\u001b[0;34m\u001b[0m\u001b[0m\n",
      "\u001b[0;32m~/anaconda3/envs/python3/lib/python3.6/site-packages/ipykernel/zmqshell.py\u001b[0m in \u001b[0;36msystem_piped\u001b[0;34m(self, cmd)\u001b[0m\n\u001b[1;32m    645\u001b[0m                 \u001b[0mself\u001b[0m\u001b[0;34m.\u001b[0m\u001b[0muser_ns\u001b[0m\u001b[0;34m[\u001b[0m\u001b[0;34m'_exit_code'\u001b[0m\u001b[0;34m]\u001b[0m \u001b[0;34m=\u001b[0m \u001b[0msystem\u001b[0m\u001b[0;34m(\u001b[0m\u001b[0mcmd\u001b[0m\u001b[0;34m)\u001b[0m\u001b[0;34m\u001b[0m\u001b[0;34m\u001b[0m\u001b[0m\n\u001b[1;32m    646\u001b[0m         \u001b[0;32melse\u001b[0m\u001b[0;34m:\u001b[0m\u001b[0;34m\u001b[0m\u001b[0;34m\u001b[0m\u001b[0m\n\u001b[0;32m--> 647\u001b[0;31m             \u001b[0mself\u001b[0m\u001b[0;34m.\u001b[0m\u001b[0muser_ns\u001b[0m\u001b[0;34m[\u001b[0m\u001b[0;34m'_exit_code'\u001b[0m\u001b[0;34m]\u001b[0m \u001b[0;34m=\u001b[0m \u001b[0msystem\u001b[0m\u001b[0;34m(\u001b[0m\u001b[0mself\u001b[0m\u001b[0;34m.\u001b[0m\u001b[0mvar_expand\u001b[0m\u001b[0;34m(\u001b[0m\u001b[0mcmd\u001b[0m\u001b[0;34m,\u001b[0m \u001b[0mdepth\u001b[0m\u001b[0;34m=\u001b[0m\u001b[0;36m1\u001b[0m\u001b[0;34m)\u001b[0m\u001b[0;34m)\u001b[0m\u001b[0;34m\u001b[0m\u001b[0;34m\u001b[0m\u001b[0m\n\u001b[0m\u001b[1;32m    648\u001b[0m \u001b[0;34m\u001b[0m\u001b[0m\n\u001b[1;32m    649\u001b[0m     \u001b[0;31m# Ensure new system_piped implementation is used\u001b[0m\u001b[0;34m\u001b[0m\u001b[0;34m\u001b[0m\u001b[0;34m\u001b[0m\u001b[0m\n",
      "\u001b[0;32m~/anaconda3/envs/python3/lib/python3.6/site-packages/IPython/utils/_process_posix.py\u001b[0m in \u001b[0;36msystem\u001b[0;34m(self, cmd)\u001b[0m\n\u001b[1;32m    155\u001b[0m                 \u001b[0mchild\u001b[0m \u001b[0;34m=\u001b[0m \u001b[0mpexpect\u001b[0m\u001b[0;34m.\u001b[0m\u001b[0mspawnb\u001b[0m\u001b[0;34m(\u001b[0m\u001b[0mself\u001b[0m\u001b[0;34m.\u001b[0m\u001b[0msh\u001b[0m\u001b[0;34m,\u001b[0m \u001b[0margs\u001b[0m\u001b[0;34m=\u001b[0m\u001b[0;34m[\u001b[0m\u001b[0;34m'-c'\u001b[0m\u001b[0;34m,\u001b[0m \u001b[0mcmd\u001b[0m\u001b[0;34m]\u001b[0m\u001b[0;34m)\u001b[0m \u001b[0;31m# Pexpect-U\u001b[0m\u001b[0;34m\u001b[0m\u001b[0;34m\u001b[0m\u001b[0m\n\u001b[1;32m    156\u001b[0m             \u001b[0;32melse\u001b[0m\u001b[0;34m:\u001b[0m\u001b[0;34m\u001b[0m\u001b[0;34m\u001b[0m\u001b[0m\n\u001b[0;32m--> 157\u001b[0;31m                 \u001b[0mchild\u001b[0m \u001b[0;34m=\u001b[0m \u001b[0mpexpect\u001b[0m\u001b[0;34m.\u001b[0m\u001b[0mspawn\u001b[0m\u001b[0;34m(\u001b[0m\u001b[0mself\u001b[0m\u001b[0;34m.\u001b[0m\u001b[0msh\u001b[0m\u001b[0;34m,\u001b[0m \u001b[0margs\u001b[0m\u001b[0;34m=\u001b[0m\u001b[0;34m[\u001b[0m\u001b[0;34m'-c'\u001b[0m\u001b[0;34m,\u001b[0m \u001b[0mcmd\u001b[0m\u001b[0;34m]\u001b[0m\u001b[0;34m)\u001b[0m  \u001b[0;31m# Vanilla Pexpect\u001b[0m\u001b[0;34m\u001b[0m\u001b[0;34m\u001b[0m\u001b[0m\n\u001b[0m\u001b[1;32m    158\u001b[0m             \u001b[0mflush\u001b[0m \u001b[0;34m=\u001b[0m \u001b[0msys\u001b[0m\u001b[0;34m.\u001b[0m\u001b[0mstdout\u001b[0m\u001b[0;34m.\u001b[0m\u001b[0mflush\u001b[0m\u001b[0;34m\u001b[0m\u001b[0;34m\u001b[0m\u001b[0m\n\u001b[1;32m    159\u001b[0m             \u001b[0;32mwhile\u001b[0m \u001b[0;32mTrue\u001b[0m\u001b[0;34m:\u001b[0m\u001b[0;34m\u001b[0m\u001b[0;34m\u001b[0m\u001b[0m\n",
      "\u001b[0;32m~/anaconda3/envs/python3/lib/python3.6/site-packages/pexpect/pty_spawn.py\u001b[0m in \u001b[0;36m__init__\u001b[0;34m(self, command, args, timeout, maxread, searchwindowsize, logfile, cwd, env, ignore_sighup, echo, preexec_fn, encoding, codec_errors, dimensions, use_poll)\u001b[0m\n\u001b[1;32m    203\u001b[0m             \u001b[0mself\u001b[0m\u001b[0;34m.\u001b[0m\u001b[0mname\u001b[0m \u001b[0;34m=\u001b[0m \u001b[0;34m'<pexpect factory incomplete>'\u001b[0m\u001b[0;34m\u001b[0m\u001b[0;34m\u001b[0m\u001b[0m\n\u001b[1;32m    204\u001b[0m         \u001b[0;32melse\u001b[0m\u001b[0;34m:\u001b[0m\u001b[0;34m\u001b[0m\u001b[0;34m\u001b[0m\u001b[0m\n\u001b[0;32m--> 205\u001b[0;31m             \u001b[0mself\u001b[0m\u001b[0;34m.\u001b[0m\u001b[0m_spawn\u001b[0m\u001b[0;34m(\u001b[0m\u001b[0mcommand\u001b[0m\u001b[0;34m,\u001b[0m \u001b[0margs\u001b[0m\u001b[0;34m,\u001b[0m \u001b[0mpreexec_fn\u001b[0m\u001b[0;34m,\u001b[0m \u001b[0mdimensions\u001b[0m\u001b[0;34m)\u001b[0m\u001b[0;34m\u001b[0m\u001b[0;34m\u001b[0m\u001b[0m\n\u001b[0m\u001b[1;32m    206\u001b[0m         \u001b[0mself\u001b[0m\u001b[0;34m.\u001b[0m\u001b[0muse_poll\u001b[0m \u001b[0;34m=\u001b[0m \u001b[0muse_poll\u001b[0m\u001b[0;34m\u001b[0m\u001b[0;34m\u001b[0m\u001b[0m\n\u001b[1;32m    207\u001b[0m \u001b[0;34m\u001b[0m\u001b[0m\n",
      "\u001b[0;32m~/anaconda3/envs/python3/lib/python3.6/site-packages/pexpect/pty_spawn.py\u001b[0m in \u001b[0;36m_spawn\u001b[0;34m(self, command, args, preexec_fn, dimensions)\u001b[0m\n\u001b[1;32m    302\u001b[0m \u001b[0;34m\u001b[0m\u001b[0m\n\u001b[1;32m    303\u001b[0m         self.ptyproc = self._spawnpty(self.args, env=self.env,\n\u001b[0;32m--> 304\u001b[0;31m                                      cwd=self.cwd, **kwargs)\n\u001b[0m\u001b[1;32m    305\u001b[0m \u001b[0;34m\u001b[0m\u001b[0m\n\u001b[1;32m    306\u001b[0m         \u001b[0mself\u001b[0m\u001b[0;34m.\u001b[0m\u001b[0mpid\u001b[0m \u001b[0;34m=\u001b[0m \u001b[0mself\u001b[0m\u001b[0;34m.\u001b[0m\u001b[0mptyproc\u001b[0m\u001b[0;34m.\u001b[0m\u001b[0mpid\u001b[0m\u001b[0;34m\u001b[0m\u001b[0;34m\u001b[0m\u001b[0m\n",
      "\u001b[0;32m~/anaconda3/envs/python3/lib/python3.6/site-packages/pexpect/pty_spawn.py\u001b[0m in \u001b[0;36m_spawnpty\u001b[0;34m(self, args, **kwargs)\u001b[0m\n\u001b[1;32m    313\u001b[0m     \u001b[0;32mdef\u001b[0m \u001b[0m_spawnpty\u001b[0m\u001b[0;34m(\u001b[0m\u001b[0mself\u001b[0m\u001b[0;34m,\u001b[0m \u001b[0margs\u001b[0m\u001b[0;34m,\u001b[0m \u001b[0;34m**\u001b[0m\u001b[0mkwargs\u001b[0m\u001b[0;34m)\u001b[0m\u001b[0;34m:\u001b[0m\u001b[0;34m\u001b[0m\u001b[0;34m\u001b[0m\u001b[0m\n\u001b[1;32m    314\u001b[0m         \u001b[0;34m'''Spawn a pty and return an instance of PtyProcess.'''\u001b[0m\u001b[0;34m\u001b[0m\u001b[0;34m\u001b[0m\u001b[0m\n\u001b[0;32m--> 315\u001b[0;31m         \u001b[0;32mreturn\u001b[0m \u001b[0mptyprocess\u001b[0m\u001b[0;34m.\u001b[0m\u001b[0mPtyProcess\u001b[0m\u001b[0;34m.\u001b[0m\u001b[0mspawn\u001b[0m\u001b[0;34m(\u001b[0m\u001b[0margs\u001b[0m\u001b[0;34m,\u001b[0m \u001b[0;34m**\u001b[0m\u001b[0mkwargs\u001b[0m\u001b[0;34m)\u001b[0m\u001b[0;34m\u001b[0m\u001b[0;34m\u001b[0m\u001b[0m\n\u001b[0m\u001b[1;32m    316\u001b[0m \u001b[0;34m\u001b[0m\u001b[0m\n\u001b[1;32m    317\u001b[0m     \u001b[0;32mdef\u001b[0m \u001b[0mclose\u001b[0m\u001b[0;34m(\u001b[0m\u001b[0mself\u001b[0m\u001b[0;34m,\u001b[0m \u001b[0mforce\u001b[0m\u001b[0;34m=\u001b[0m\u001b[0;32mTrue\u001b[0m\u001b[0;34m)\u001b[0m\u001b[0;34m:\u001b[0m\u001b[0;34m\u001b[0m\u001b[0;34m\u001b[0m\u001b[0m\n",
      "\u001b[0;32m~/anaconda3/envs/python3/lib/python3.6/site-packages/ptyprocess/ptyprocess.py\u001b[0m in \u001b[0;36mspawn\u001b[0;34m(cls, argv, cwd, env, echo, preexec_fn, dimensions, pass_fds)\u001b[0m\n\u001b[1;32m    228\u001b[0m \u001b[0;34m\u001b[0m\u001b[0m\n\u001b[1;32m    229\u001b[0m         \u001b[0;32mif\u001b[0m \u001b[0muse_native_pty_fork\u001b[0m\u001b[0;34m:\u001b[0m\u001b[0;34m\u001b[0m\u001b[0;34m\u001b[0m\u001b[0m\n\u001b[0;32m--> 230\u001b[0;31m             \u001b[0mpid\u001b[0m\u001b[0;34m,\u001b[0m \u001b[0mfd\u001b[0m \u001b[0;34m=\u001b[0m \u001b[0mpty\u001b[0m\u001b[0;34m.\u001b[0m\u001b[0mfork\u001b[0m\u001b[0;34m(\u001b[0m\u001b[0;34m)\u001b[0m\u001b[0;34m\u001b[0m\u001b[0;34m\u001b[0m\u001b[0m\n\u001b[0m\u001b[1;32m    231\u001b[0m         \u001b[0;32melse\u001b[0m\u001b[0;34m:\u001b[0m\u001b[0;34m\u001b[0m\u001b[0;34m\u001b[0m\u001b[0m\n\u001b[1;32m    232\u001b[0m             \u001b[0;31m# Use internal fork_pty, for Solaris\u001b[0m\u001b[0;34m\u001b[0m\u001b[0;34m\u001b[0m\u001b[0;34m\u001b[0m\u001b[0m\n",
      "\u001b[0;32m~/anaconda3/envs/python3/lib/python3.6/pty.py\u001b[0m in \u001b[0;36mfork\u001b[0;34m()\u001b[0m\n\u001b[1;32m     95\u001b[0m \u001b[0;34m\u001b[0m\u001b[0m\n\u001b[1;32m     96\u001b[0m     \u001b[0mmaster_fd\u001b[0m\u001b[0;34m,\u001b[0m \u001b[0mslave_fd\u001b[0m \u001b[0;34m=\u001b[0m \u001b[0mopenpty\u001b[0m\u001b[0;34m(\u001b[0m\u001b[0;34m)\u001b[0m\u001b[0;34m\u001b[0m\u001b[0;34m\u001b[0m\u001b[0m\n\u001b[0;32m---> 97\u001b[0;31m     \u001b[0mpid\u001b[0m \u001b[0;34m=\u001b[0m \u001b[0mos\u001b[0m\u001b[0;34m.\u001b[0m\u001b[0mfork\u001b[0m\u001b[0;34m(\u001b[0m\u001b[0;34m)\u001b[0m\u001b[0;34m\u001b[0m\u001b[0;34m\u001b[0m\u001b[0m\n\u001b[0m\u001b[1;32m     98\u001b[0m     \u001b[0;32mif\u001b[0m \u001b[0mpid\u001b[0m \u001b[0;34m==\u001b[0m \u001b[0mCHILD\u001b[0m\u001b[0;34m:\u001b[0m\u001b[0;34m\u001b[0m\u001b[0;34m\u001b[0m\u001b[0m\n\u001b[1;32m     99\u001b[0m         \u001b[0;31m# Establish a new session.\u001b[0m\u001b[0;34m\u001b[0m\u001b[0;34m\u001b[0m\u001b[0;34m\u001b[0m\u001b[0m\n",
      "\u001b[0;31mOSError\u001b[0m: [Errno 12] Cannot allocate memory"
     ]
    }
   ],
   "source": [
    "# First we will remove all of the files contained in the data_dir directory\n",
    "!rm $data_dir/*\n",
    "\n",
    "# And then we delete the directory itself\n",
    "!rmdir $data_dir\n",
    "\n",
    "# Similarly we remove the files in the cache_dir directory and the directory itself\n",
    "!rm $cache_dir/*\n",
    "!rmdir $cache_dir"
   ]
  },
  {
   "cell_type": "code",
   "execution_count": null,
   "metadata": {},
   "outputs": [],
   "source": []
  }
 ],
 "metadata": {
  "kernelspec": {
   "display_name": "conda_python3",
   "language": "python",
   "name": "conda_python3"
  },
  "language_info": {
   "codemirror_mode": {
    "name": "ipython",
    "version": 3
   },
   "file_extension": ".py",
   "mimetype": "text/x-python",
   "name": "python",
   "nbconvert_exporter": "python",
   "pygments_lexer": "ipython3",
   "version": "3.6.13"
  }
 },
 "nbformat": 4,
 "nbformat_minor": 2
}
